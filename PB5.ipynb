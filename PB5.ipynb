{
 "cells": [
  {
   "cell_type": "markdown",
   "id": "7107a1f7-83b1-42d9-842c-30f37dfa2e47",
   "metadata": {},
   "source": [
    "# Setup"
   ]
  },
  {
   "cell_type": "code",
   "execution_count": 1,
   "id": "aa4bc551-49e9-402f-99e5-10b5ffe8ec55",
   "metadata": {},
   "outputs": [],
   "source": [
    "import os\n",
    "import pandas as pd\n",
    "import numpy as np\n",
    "import matplotlib.pyplot as plt\n",
    "import seaborn as sns\n",
    "from sklearn.neighbors import KNeighborsClassifier\n",
    "from sklearn.model_selection import train_test_split\n",
    "from sklearn.metrics import accuracy_score\n",
    "from sklearn.metrics import f1_score\n",
    "from sklearn import preprocessing"
   ]
  },
  {
   "cell_type": "code",
   "execution_count": 2,
   "id": "2f9e9b48-ff31-42d1-9739-228ab01dce30",
   "metadata": {},
   "outputs": [],
   "source": [
    "# Create directories\n",
    "if os.path.exists('data'):\n",
    "    data_path = os.path.join(os.getcwd(), 'data')\n",
    "else:\n",
    "    os.mkdir('data')\n",
    "\n",
    "if os.path.exists('plot'):\n",
    "    plot_path = os.path.join(os.getcwd(), 'plot')\n",
    "else:\n",
    "    os.mkdir('plot')\n",
    "\n",
    "if os.path.exists('result'):\n",
    "    result_path = os.path.join(os.getcwd(), 'result')\n",
    "else:\n",
    "    os.mkdir('result')"
   ]
  },
  {
   "cell_type": "markdown",
   "id": "2616aaf6-9084-44fb-87b8-d9ca8715f8da",
   "metadata": {},
   "source": [
    "# Import"
   ]
  },
  {
   "cell_type": "code",
   "execution_count": 3,
   "id": "0c410420-6400-4529-893c-5e1808be93f5",
   "metadata": {},
   "outputs": [],
   "source": [
    "clarks = pd.read_excel(os.path.join(data_path, 'full.xlsx'), sheet_name='Clarks')\n",
    "narrow_neck = pd.read_excel(os.path.join(data_path, 'full.xlsx'), sheet_name='Narrow Neck')\n",
    "judges_bay = pd.read_excel(os.path.join(data_path, 'full.xlsx'), sheet_name='Judges Bay')\n",
    "weymouth = pd.read_excel(os.path.join(data_path, 'full.xlsx'), sheet_name='Weymouth')\n",
    "milford = pd.read_excel(os.path.join(data_path, 'full.xlsx'), sheet_name='Milford')\n",
    "full = pd.concat([clarks, narrow_neck, judges_bay, weymouth, milford], axis=0)"
   ]
  },
  {
   "cell_type": "markdown",
   "id": "15906253-dc0b-4843-a315-d4239a9cdae4",
   "metadata": {},
   "source": [
    "# Tidy"
   ]
  },
  {
   "cell_type": "code",
   "execution_count": 4,
   "id": "e3b4f422-baf0-48e5-80ed-5ad8bedeecbe",
   "metadata": {},
   "outputs": [],
   "source": [
    "clarks.dropna()\n",
    "clarks['Class'] = np.where(clarks['Entero']>=280, 1, 0)\n",
    "clarks = clarks.drop('Entero', axis=1)"
   ]
  },
  {
   "cell_type": "markdown",
   "id": "cfa16e66-bfe8-4006-9796-2af8a0fb5529",
   "metadata": {},
   "source": [
    "# Exploration"
   ]
  },
  {
   "cell_type": "code",
   "execution_count": 5,
   "id": "d757af1b-a27b-42e3-93c9-26d73018356f",
   "metadata": {},
   "outputs": [
    {
     "data": {
      "text/html": [
       "<div>\n",
       "<style scoped>\n",
       "    .dataframe tbody tr th:only-of-type {\n",
       "        vertical-align: middle;\n",
       "    }\n",
       "\n",
       "    .dataframe tbody tr th {\n",
       "        vertical-align: top;\n",
       "    }\n",
       "\n",
       "    .dataframe thead th {\n",
       "        text-align: right;\n",
       "    }\n",
       "</style>\n",
       "<table border=\"1\" class=\"dataframe\">\n",
       "  <thead>\n",
       "    <tr style=\"text-align: right;\">\n",
       "      <th></th>\n",
       "      <th>Date</th>\n",
       "      <th>Rain24</th>\n",
       "      <th>Rain48</th>\n",
       "      <th>Rain72</th>\n",
       "      <th>RainWA</th>\n",
       "      <th>WDirection</th>\n",
       "      <th>WSpeed</th>\n",
       "      <th>SolarHours</th>\n",
       "      <th>Class</th>\n",
       "    </tr>\n",
       "  </thead>\n",
       "  <tbody>\n",
       "    <tr>\n",
       "      <th>0</th>\n",
       "      <td>1995-12-16</td>\n",
       "      <td>9.17</td>\n",
       "      <td>13.67</td>\n",
       "      <td>37.00</td>\n",
       "      <td>59.84</td>\n",
       "      <td>200</td>\n",
       "      <td>1.5</td>\n",
       "      <td>1.8</td>\n",
       "      <td>0</td>\n",
       "    </tr>\n",
       "    <tr>\n",
       "      <th>1</th>\n",
       "      <td>1995-12-27</td>\n",
       "      <td>0.00</td>\n",
       "      <td>0.00</td>\n",
       "      <td>0.33</td>\n",
       "      <td>0.33</td>\n",
       "      <td>230</td>\n",
       "      <td>5.7</td>\n",
       "      <td>8.5</td>\n",
       "      <td>0</td>\n",
       "    </tr>\n",
       "    <tr>\n",
       "      <th>2</th>\n",
       "      <td>1995-12-28</td>\n",
       "      <td>2.50</td>\n",
       "      <td>2.50</td>\n",
       "      <td>2.50</td>\n",
       "      <td>7.50</td>\n",
       "      <td>320</td>\n",
       "      <td>3.6</td>\n",
       "      <td>11.7</td>\n",
       "      <td>0</td>\n",
       "    </tr>\n",
       "    <tr>\n",
       "      <th>3</th>\n",
       "      <td>1996-01-07</td>\n",
       "      <td>0.00</td>\n",
       "      <td>0.00</td>\n",
       "      <td>0.00</td>\n",
       "      <td>0.00</td>\n",
       "      <td>130</td>\n",
       "      <td>4.1</td>\n",
       "      <td>7.9</td>\n",
       "      <td>0</td>\n",
       "    </tr>\n",
       "    <tr>\n",
       "      <th>4</th>\n",
       "      <td>1996-01-08</td>\n",
       "      <td>0.00</td>\n",
       "      <td>0.00</td>\n",
       "      <td>0.00</td>\n",
       "      <td>0.00</td>\n",
       "      <td>100</td>\n",
       "      <td>3.6</td>\n",
       "      <td>4.4</td>\n",
       "      <td>0</td>\n",
       "    </tr>\n",
       "    <tr>\n",
       "      <th>...</th>\n",
       "      <td>...</td>\n",
       "      <td>...</td>\n",
       "      <td>...</td>\n",
       "      <td>...</td>\n",
       "      <td>...</td>\n",
       "      <td>...</td>\n",
       "      <td>...</td>\n",
       "      <td>...</td>\n",
       "      <td>...</td>\n",
       "    </tr>\n",
       "    <tr>\n",
       "      <th>240</th>\n",
       "      <td>2018-05-21</td>\n",
       "      <td>13.00</td>\n",
       "      <td>18.00</td>\n",
       "      <td>23.00</td>\n",
       "      <td>54.00</td>\n",
       "      <td>321</td>\n",
       "      <td>2.4</td>\n",
       "      <td>5.0</td>\n",
       "      <td>0</td>\n",
       "    </tr>\n",
       "    <tr>\n",
       "      <th>241</th>\n",
       "      <td>2018-05-22</td>\n",
       "      <td>11.50</td>\n",
       "      <td>24.50</td>\n",
       "      <td>29.50</td>\n",
       "      <td>65.50</td>\n",
       "      <td>324</td>\n",
       "      <td>3.0</td>\n",
       "      <td>5.5</td>\n",
       "      <td>0</td>\n",
       "    </tr>\n",
       "    <tr>\n",
       "      <th>242</th>\n",
       "      <td>2018-05-23</td>\n",
       "      <td>14.00</td>\n",
       "      <td>25.50</td>\n",
       "      <td>38.50</td>\n",
       "      <td>78.00</td>\n",
       "      <td>300</td>\n",
       "      <td>5.3</td>\n",
       "      <td>1.1</td>\n",
       "      <td>0</td>\n",
       "    </tr>\n",
       "    <tr>\n",
       "      <th>243</th>\n",
       "      <td>2018-05-24</td>\n",
       "      <td>9.00</td>\n",
       "      <td>23.00</td>\n",
       "      <td>34.50</td>\n",
       "      <td>66.50</td>\n",
       "      <td>259</td>\n",
       "      <td>7.3</td>\n",
       "      <td>4.7</td>\n",
       "      <td>0</td>\n",
       "    </tr>\n",
       "    <tr>\n",
       "      <th>244</th>\n",
       "      <td>2018-05-25</td>\n",
       "      <td>17.50</td>\n",
       "      <td>26.50</td>\n",
       "      <td>40.50</td>\n",
       "      <td>84.50</td>\n",
       "      <td>275</td>\n",
       "      <td>7.5</td>\n",
       "      <td>3.5</td>\n",
       "      <td>1</td>\n",
       "    </tr>\n",
       "  </tbody>\n",
       "</table>\n",
       "<p>245 rows × 9 columns</p>\n",
       "</div>"
      ],
      "text/plain": [
       "          Date  Rain24  Rain48  Rain72  RainWA  WDirection  WSpeed  \\\n",
       "0   1995-12-16    9.17   13.67   37.00   59.84         200     1.5   \n",
       "1   1995-12-27    0.00    0.00    0.33    0.33         230     5.7   \n",
       "2   1995-12-28    2.50    2.50    2.50    7.50         320     3.6   \n",
       "3   1996-01-07    0.00    0.00    0.00    0.00         130     4.1   \n",
       "4   1996-01-08    0.00    0.00    0.00    0.00         100     3.6   \n",
       "..         ...     ...     ...     ...     ...         ...     ...   \n",
       "240 2018-05-21   13.00   18.00   23.00   54.00         321     2.4   \n",
       "241 2018-05-22   11.50   24.50   29.50   65.50         324     3.0   \n",
       "242 2018-05-23   14.00   25.50   38.50   78.00         300     5.3   \n",
       "243 2018-05-24    9.00   23.00   34.50   66.50         259     7.3   \n",
       "244 2018-05-25   17.50   26.50   40.50   84.50         275     7.5   \n",
       "\n",
       "     SolarHours  Class  \n",
       "0           1.8      0  \n",
       "1           8.5      0  \n",
       "2          11.7      0  \n",
       "3           7.9      0  \n",
       "4           4.4      0  \n",
       "..          ...    ...  \n",
       "240         5.0      0  \n",
       "241         5.5      0  \n",
       "242         1.1      0  \n",
       "243         4.7      0  \n",
       "244         3.5      1  \n",
       "\n",
       "[245 rows x 9 columns]"
      ]
     },
     "execution_count": 5,
     "metadata": {},
     "output_type": "execute_result"
    }
   ],
   "source": [
    "# Raw data\n",
    "clarks"
   ]
  },
  {
   "cell_type": "code",
   "execution_count": 6,
   "id": "607dec3e-d093-47c3-9428-97e75fe518b2",
   "metadata": {},
   "outputs": [
    {
     "name": "stdout",
     "output_type": "stream",
     "text": [
      "<class 'pandas.core.frame.DataFrame'>\n",
      "RangeIndex: 245 entries, 0 to 244\n",
      "Data columns (total 9 columns):\n",
      " #   Column      Non-Null Count  Dtype         \n",
      "---  ------      --------------  -----         \n",
      " 0   Date        245 non-null    datetime64[ns]\n",
      " 1   Rain24      245 non-null    float64       \n",
      " 2   Rain48      245 non-null    float64       \n",
      " 3   Rain72      245 non-null    float64       \n",
      " 4   RainWA      245 non-null    float64       \n",
      " 5   WDirection  245 non-null    int64         \n",
      " 6   WSpeed      245 non-null    float64       \n",
      " 7   SolarHours  245 non-null    float64       \n",
      " 8   Class       245 non-null    int64         \n",
      "dtypes: datetime64[ns](1), float64(6), int64(2)\n",
      "memory usage: 17.4 KB\n"
     ]
    }
   ],
   "source": [
    "# Stats\n",
    "clarks.info()"
   ]
  },
  {
   "cell_type": "code",
   "execution_count": 7,
   "id": "433d9f59-28b8-49ca-a990-a679bbaebf6d",
   "metadata": {},
   "outputs": [
    {
     "data": {
      "text/html": [
       "<div>\n",
       "<style scoped>\n",
       "    .dataframe tbody tr th:only-of-type {\n",
       "        vertical-align: middle;\n",
       "    }\n",
       "\n",
       "    .dataframe tbody tr th {\n",
       "        vertical-align: top;\n",
       "    }\n",
       "\n",
       "    .dataframe thead th {\n",
       "        text-align: right;\n",
       "    }\n",
       "</style>\n",
       "<table border=\"1\" class=\"dataframe\">\n",
       "  <thead>\n",
       "    <tr style=\"text-align: right;\">\n",
       "      <th></th>\n",
       "      <th>Rain24</th>\n",
       "      <th>Rain48</th>\n",
       "      <th>Rain72</th>\n",
       "      <th>RainWA</th>\n",
       "      <th>WDirection</th>\n",
       "      <th>WSpeed</th>\n",
       "      <th>SolarHours</th>\n",
       "      <th>Class</th>\n",
       "    </tr>\n",
       "  </thead>\n",
       "  <tbody>\n",
       "    <tr>\n",
       "      <th>count</th>\n",
       "      <td>245.000000</td>\n",
       "      <td>245.000000</td>\n",
       "      <td>245.000000</td>\n",
       "      <td>245.000000</td>\n",
       "      <td>245.000000</td>\n",
       "      <td>245.000000</td>\n",
       "      <td>245.000000</td>\n",
       "      <td>245.000000</td>\n",
       "    </tr>\n",
       "    <tr>\n",
       "      <th>mean</th>\n",
       "      <td>2.564939</td>\n",
       "      <td>5.173265</td>\n",
       "      <td>8.392531</td>\n",
       "      <td>16.130735</td>\n",
       "      <td>170.697959</td>\n",
       "      <td>3.770204</td>\n",
       "      <td>6.860408</td>\n",
       "      <td>0.053061</td>\n",
       "    </tr>\n",
       "    <tr>\n",
       "      <th>std</th>\n",
       "      <td>6.553315</td>\n",
       "      <td>10.040883</td>\n",
       "      <td>13.571365</td>\n",
       "      <td>28.297706</td>\n",
       "      <td>96.297176</td>\n",
       "      <td>2.342963</td>\n",
       "      <td>3.810203</td>\n",
       "      <td>0.224614</td>\n",
       "    </tr>\n",
       "    <tr>\n",
       "      <th>min</th>\n",
       "      <td>0.000000</td>\n",
       "      <td>0.000000</td>\n",
       "      <td>0.000000</td>\n",
       "      <td>0.000000</td>\n",
       "      <td>0.000000</td>\n",
       "      <td>0.000000</td>\n",
       "      <td>0.000000</td>\n",
       "      <td>0.000000</td>\n",
       "    </tr>\n",
       "    <tr>\n",
       "      <th>25%</th>\n",
       "      <td>0.000000</td>\n",
       "      <td>0.000000</td>\n",
       "      <td>0.000000</td>\n",
       "      <td>0.000000</td>\n",
       "      <td>81.000000</td>\n",
       "      <td>1.900000</td>\n",
       "      <td>3.500000</td>\n",
       "      <td>0.000000</td>\n",
       "    </tr>\n",
       "    <tr>\n",
       "      <th>50%</th>\n",
       "      <td>0.000000</td>\n",
       "      <td>1.000000</td>\n",
       "      <td>2.640000</td>\n",
       "      <td>4.830000</td>\n",
       "      <td>176.000000</td>\n",
       "      <td>3.200000</td>\n",
       "      <td>7.400000</td>\n",
       "      <td>0.000000</td>\n",
       "    </tr>\n",
       "    <tr>\n",
       "      <th>75%</th>\n",
       "      <td>1.610000</td>\n",
       "      <td>5.320000</td>\n",
       "      <td>10.840000</td>\n",
       "      <td>19.330000</td>\n",
       "      <td>246.000000</td>\n",
       "      <td>5.300000</td>\n",
       "      <td>10.100000</td>\n",
       "      <td>0.000000</td>\n",
       "    </tr>\n",
       "    <tr>\n",
       "      <th>max</th>\n",
       "      <td>57.900000</td>\n",
       "      <td>72.670000</td>\n",
       "      <td>82.250000</td>\n",
       "      <td>207.790000</td>\n",
       "      <td>360.000000</td>\n",
       "      <td>12.100000</td>\n",
       "      <td>14.100000</td>\n",
       "      <td>1.000000</td>\n",
       "    </tr>\n",
       "  </tbody>\n",
       "</table>\n",
       "</div>"
      ],
      "text/plain": [
       "           Rain24      Rain48      Rain72      RainWA  WDirection      WSpeed  \\\n",
       "count  245.000000  245.000000  245.000000  245.000000  245.000000  245.000000   \n",
       "mean     2.564939    5.173265    8.392531   16.130735  170.697959    3.770204   \n",
       "std      6.553315   10.040883   13.571365   28.297706   96.297176    2.342963   \n",
       "min      0.000000    0.000000    0.000000    0.000000    0.000000    0.000000   \n",
       "25%      0.000000    0.000000    0.000000    0.000000   81.000000    1.900000   \n",
       "50%      0.000000    1.000000    2.640000    4.830000  176.000000    3.200000   \n",
       "75%      1.610000    5.320000   10.840000   19.330000  246.000000    5.300000   \n",
       "max     57.900000   72.670000   82.250000  207.790000  360.000000   12.100000   \n",
       "\n",
       "       SolarHours       Class  \n",
       "count  245.000000  245.000000  \n",
       "mean     6.860408    0.053061  \n",
       "std      3.810203    0.224614  \n",
       "min      0.000000    0.000000  \n",
       "25%      3.500000    0.000000  \n",
       "50%      7.400000    0.000000  \n",
       "75%     10.100000    0.000000  \n",
       "max     14.100000    1.000000  "
      ]
     },
     "execution_count": 7,
     "metadata": {},
     "output_type": "execute_result"
    }
   ],
   "source": [
    "clarks.describe()"
   ]
  },
  {
   "cell_type": "code",
   "execution_count": 8,
   "id": "80c873db-a01e-4949-96e8-adaef542195c",
   "metadata": {},
   "outputs": [
    {
     "data": {
      "image/png": "[encoded data removed]",
      "text/plain": [
       "<Figure size 1152x720 with 1 Axes>"
      ]
     },
     "metadata": {
      "needs_background": "light"
     },
     "output_type": "display_data"
    }
   ],
   "source": [
    "# Boxplot\n",
    "figure = plt.figure()\n",
    "clarks.boxplot()\n",
    "figure.set_size_inches(16, 10)\n",
    "figure.savefig(os.path.join(plot_path, 'boxplot'), bbox_inches='tight')"
   ]
  },
  {
   "cell_type": "code",
   "execution_count": 9,
   "id": "59fa9ca0-4286-477b-88a0-c666f5ac7a0c",
   "metadata": {},
   "outputs": [
    {
     "data": {
      "image/png": "[encoded data removed]",
      "text/plain": [
       "<Figure size 1152x720 with 2 Axes>"
      ]
     },
     "metadata": {
      "needs_background": "light"
     },
     "output_type": "display_data"
    }
   ],
   "source": [
    "# Correlation heatmap\n",
    "figure = sns.heatmap(clarks.corr()).get_figure()\n",
    "figure.set_size_inches(16, 10)\n",
    "figure.savefig(os.path.join(plot_path, 'correlation_heatmap'), bbox_inches='tight')"
   ]
  },
  {
   "cell_type": "code",
   "execution_count": 10,
   "id": "174a709a-925c-4bce-9b60-cbde76521623",
   "metadata": {},
   "outputs": [
    {
     "data": {
      "image/png": "[encoded data removed]",
      "text/plain": [
       "<Figure size 1152x720 with 1 Axes>"
      ]
     },
     "metadata": {
      "needs_background": "light"
     },
     "output_type": "display_data"
    }
   ],
   "source": [
    "# Distribution plot\n",
    "figure = sns.displot(clarks['Date'].dt.year, bins=len(np.unique(clarks['Date'].dt.year))).fig\n",
    "figure.set_size_inches(16, 10)\n",
    "figure.savefig(os.path.join(plot_path, 'sample_count'), bbox_inches='tight')"
   ]
  },
  {
   "cell_type": "markdown",
   "id": "c6569795-48cc-421c-beb9-69e0dc599d7e",
   "metadata": {},
   "source": [
    "# Modelling"
   ]
  },
  {
   "cell_type": "markdown",
   "id": "87ef5d20-1a29-4827-b40f-5e00d3616041",
   "metadata": {
    "tags": []
   },
   "source": [
    "## KNN"
   ]
  },
  {
   "cell_type": "code",
   "execution_count": 19,
   "id": "1cdf5756-41eb-4d9c-b460-8c45ab96c20b",
   "metadata": {},
   "outputs": [
    {
     "name": "stdout",
     "output_type": "stream",
     "text": [
      "Predictions form the knn classifier:\n",
      "[0 0 0 0 0 0 0 0 0 0 0 0 0 0 0 0 0 0 0 0 0 0 0 0 0]\n",
      "Target values:\n",
      "[0 0 0 0 0 0 0 0 0 0 0 0 0 0 0 0 0 0 0 0 0 0 0 0 0]\n",
      "Accuracy:\n",
      "1.0\n",
      "F1 Score:\n",
      "0.0\n"
     ]
    },
    {
     "name": "stderr",
     "output_type": "stream",
     "text": [
      "/Users/channing/opt/anaconda3/lib/python3.8/site-packages/sklearn/metrics/_classification.py:1570: UndefinedMetricWarning: F-score is ill-defined and being set to 0.0 due to no true nor predicted samples. Use `zero_division` parameter to control this behavior.\n",
      "  _warn_prf(average, \"true nor predicted\", \"F-score is\", len(true_sum))\n"
     ]
    }
   ],
   "source": [
    "# Split the train and test sets\n",
    "X = clarks.iloc[:, 1:-1]\n",
    "y = clarks.iloc[:, -1]\n",
    "X_train, X_test, y_train, y_test = train_test_split(X, y, test_size=0.1, random_state=900)\n",
    "\n",
    "# Run KNN\n",
    "knn = KNeighborsClassifier()\n",
    "\n",
    "# Fit the scaler to X_train and then use it to transform both train and test sets\n",
    "sc = preprocessing.StandardScaler()\n",
    "X_train = sc.fit_transform(X_train)\n",
    "X_test = sc.transform(X_test)\n",
    "\n",
    "knn.fit(X_train, y_train)\n",
    "KNeighborsClassifier(algorithm='auto',\n",
    "                     leaf_size=30,\n",
    "                     metric='minkowski',\n",
    "                     metric_params=None,\n",
    "                     n_jobs=1,\n",
    "                     n_neighbors=5,\n",
    "                     p=2,\n",
    "                     weights='uniform')\n",
    "\n",
    "# Show the KNN result\n",
    "print(\"Predictions form the knn classifier:\")\n",
    "print(knn.predict(X_test))\n",
    "print(\"Target values:\")\n",
    "print(y_test.values)\n",
    "print(\"Accuracy:\")\n",
    "print(accuracy_score(y_test, knn.predict(X_test)))\n",
    "print(\"F1 Score:\")\n",
    "print(f1_score(y_test, knn.predict(X_test)))"
   ]
  },
  {
   "cell_type": "code",
   "execution_count": null,
   "id": "9704a442-6b1e-4efc-aaff-6d7a5e1355c7",
   "metadata": {},
   "outputs": [],
   "source": []
  }
 ],
 "metadata": {
  "kernelspec": {
   "display_name": "Python 3.8.12",
   "language": "python",
   "name": "python3"
  },
  "language_info": {
   "codemirror_mode": {
    "name": "ipython",
    "version": 3
   },
   "file_extension": ".py",
   "mimetype": "text/x-python",
   "name": "python",
   "nbconvert_exporter": "python",
   "pygments_lexer": "ipython3",
   "version": "3.8.12"
  }
 },
 "nbformat": 4,
 "nbformat_minor": 5
}
