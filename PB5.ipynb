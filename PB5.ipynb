{
 "cells": [
  {
   "cell_type": "markdown",
   "id": "7107a1f7-83b1-42d9-842c-30f37dfa2e47",
   "metadata": {},
   "source": [
    "# Setup"
   ]
  },
  {
   "cell_type": "code",
   "execution_count": null,
   "id": "aa4bc551-49e9-402f-99e5-10b5ffe8ec55",
   "metadata": {},
   "outputs": [],
   "source": [
    "import os\n",
    "import pandas as pd\n",
    "import numpy as np\n",
    "import seaborn as sns\n",
    "from sklearn.neighbors import KNeighborsClassifier\n",
    "from sklearn.model_selection import train_test_split\n",
    "from sklearn import preprocessing\n",
    "from imblearn.over_sampling import ADASYN\n",
    "from sklearn.metrics import recall_score"
   ]
  },
  {
   "cell_type": "code",
   "execution_count": null,
   "id": "2f9e9b48-ff31-42d1-9739-228ab01dce30",
   "metadata": {},
   "outputs": [],
   "source": [
    "# Map directories\n",
    "data_path = os.path.join(os.getcwd(), \"data\")\n",
    "plot_path = os.path.join(os.getcwd(), \"plot\")\n",
    "result_path = os.path.join(os.getcwd(), \"result\")"
   ]
  },
  {
   "cell_type": "markdown",
   "id": "2616aaf6-9084-44fb-87b8-d9ca8715f8da",
   "metadata": {},
   "source": [
    "# Import"
   ]
  },
  {
   "cell_type": "code",
   "execution_count": null,
   "id": "0c410420-6400-4529-893c-5e1808be93f5",
   "metadata": {},
   "outputs": [],
   "source": [
    "clarks = pd.read_excel(os.path.join(data_path, \"full.xlsx\"), sheet_name=\"Clarks\")\n",
    "narrow_neck = pd.read_excel(os.path.join(data_path, \"full.xlsx\"), sheet_name=\"Narrow Neck\")\n",
    "judges_bay = pd.read_excel(os.path.join(data_path, \"full.xlsx\"), sheet_name=\"Judges Bay\")\n",
    "weymouth = pd.read_excel(os.path.join(data_path, \"full.xlsx\"), sheet_name=\"Weymouth\")\n",
    "milford = pd.read_excel(os.path.join(data_path, \"full.xlsx\"), sheet_name=\"Milford\")\n",
    "full = pd.concat([clarks, narrow_neck, judges_bay, weymouth, milford], axis=0, ignore_index=True)"
   ]
  },
  {
   "cell_type": "markdown",
   "id": "15906253-dc0b-4843-a315-d4239a9cdae4",
   "metadata": {},
   "source": [
    "# Tidy"
   ]
  },
  {
   "cell_type": "code",
   "execution_count": null,
   "id": "e3b4f422-baf0-48e5-80ed-5ad8bedeecbe",
   "metadata": {},
   "outputs": [],
   "source": [
    "full.dropna()\n",
    "full[\"Class\"] = np.where(full[\"Entero\"]>=280, 1, 0)\n",
    "full = full.drop([\"Entero\"], axis=1)"
   ]
  },
  {
   "cell_type": "markdown",
   "id": "cfa16e66-bfe8-4006-9796-2af8a0fb5529",
   "metadata": {},
   "source": [
    "# Exploration"
   ]
  },
  {
   "cell_type": "code",
   "execution_count": null,
   "id": "d757af1b-a27b-42e3-93c9-26d73018356f",
   "metadata": {},
   "outputs": [],
   "source": [
    "# Raw data\n",
    "full"
   ]
  },
  {
   "cell_type": "code",
   "execution_count": null,
   "id": "433d9f59-28b8-49ca-a990-a679bbaebf6d",
   "metadata": {},
   "outputs": [],
   "source": [
    "# Stats\n",
    "figure = full.describe()\n",
    "figure.to_csv(os.path.join(result_path, \"stats.csv\"))"
   ]
  },
  {
   "cell_type": "code",
   "execution_count": null,
   "id": "7b35841e-a917-43d4-9e63-aa2018d66645",
   "metadata": {},
   "outputs": [],
   "source": [
    "# Scatter plots\n",
    "figure = sns.pairplot(full, hue=\"Class\").figure\n",
    "figure.set_size_inches(16, 10)\n",
    "figure.savefig(os.path.join(plot_path, \"scatter_plots\"), bbox_inches=\"tight\")"
   ]
  },
  {
   "cell_type": "code",
   "execution_count": null,
   "id": "59fa9ca0-4286-477b-88a0-c666f5ac7a0c",
   "metadata": {},
   "outputs": [],
   "source": [
    "# Correlation heatmap\n",
    "figure = sns.heatmap(full.corr()).get_figure()\n",
    "figure.set_size_inches(16, 10)\n",
    "figure.savefig(os.path.join(plot_path, \"correlation_heatmap\"), bbox_inches=\"tight\")"
   ]
  },
  {
   "cell_type": "markdown",
   "id": "c6569795-48cc-421c-beb9-69e0dc599d7e",
   "metadata": {},
   "source": [
    "# Modelling"
   ]
  },
  {
   "cell_type": "markdown",
   "id": "9fd87d9d-c20b-4656-bbad-53037cfe0880",
   "metadata": {},
   "source": [
    "## Setup"
   ]
  },
  {
   "cell_type": "code",
   "execution_count": null,
   "id": "c5a7845f-d8f9-4787-86e9-70249f0b8c3c",
   "metadata": {},
   "outputs": [],
   "source": [
    "# Features and label\n",
    "X = full.iloc[:, 1:-1]\n",
    "y = full.iloc[:, -1]\n",
    "\n",
    "# Loops\n",
    "r = range(100)                   # number of repetitions\n",
    "n = range(10)  # hyperparameters to tune\n",
    "s = np.zeros((len(r), len(n)))   # pre-allocate space"
   ]
  },
  {
   "cell_type": "markdown",
   "id": "87ef5d20-1a29-4827-b40f-5e00d3616041",
   "metadata": {
    "tags": []
   },
   "source": [
    "## KNN"
   ]
  },
  {
   "cell_type": "code",
   "execution_count": null,
   "id": "1cdf5756-41eb-4d9c-b460-8c45ab96c20b",
   "metadata": {},
   "outputs": [],
   "source": [
    "# Repeate the process for average scores\n",
    "for i in r:\n",
    "    # Split the train set and the test set\n",
    "    X_train, X_test, y_train, y_test = train_test_split(X, y, test_size=0.1)\n",
    "\n",
    "    # Fit the scaler to X_train, and then use it to transform both the train set and the test set\n",
    "    transfromer = preprocessing.Normalizer().fit(X_train)\n",
    "    X_train = transfromer.transform(X_train)\n",
    "    X_test = transfromer.transform(X_test)\n",
    "\n",
    "    # Oversample the train set with ADASYN\n",
    "    ada = ADASYN(sampling_strategy=\"minority\")\n",
    "    X_train, y_train = ada.fit_resample(X_train, y_train)\n",
    "\n",
    "    # Tune hyperparameters\n",
    "    for j in n:\n",
    "        knn = KNeighborsClassifier(n_neighbors=j+1)\n",
    "        knn.fit(X_train, y_train)\n",
    "        s[i, j] = recall_score(y_test, knn.predict(X_test))\n",
    "        \n",
    "results = np.mean(s, axis=0)\n",
    "print(\"The best KNN is with %s neighbour(s)\" %(np.argmax(results)+1))"
   ]
  }
 ],
 "metadata": {
  "kernelspec": {
   "display_name": "Python 3.8.12",
   "language": "python",
   "name": "python3"
  },
  "language_info": {
   "codemirror_mode": {
    "name": "ipython",
    "version": 3
   },
   "file_extension": ".py",
   "mimetype": "text/x-python",
   "name": "python",
   "nbconvert_exporter": "python",
   "pygments_lexer": "ipython3",
   "version": "3.8.12"
  }
 },
 "nbformat": 4,
 "nbformat_minor": 5
}
