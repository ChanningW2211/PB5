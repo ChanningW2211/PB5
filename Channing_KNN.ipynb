{
 "cells": [
  {
   "cell_type": "markdown",
   "id": "7107a1f7-83b1-42d9-842c-30f37dfa2e47",
   "metadata": {},
   "source": [
    "# Setup"
   ]
  },
  {
   "cell_type": "code",
   "execution_count": 1,
   "id": "aa4bc551-49e9-402f-99e5-10b5ffe8ec55",
   "metadata": {},
   "outputs": [],
   "source": [
    "# Impot modules\n",
    "import os\n",
    "import pandas as pd\n",
    "import numpy as np\n",
    "import seaborn as sns\n",
    "from sklearn import preprocessing\n",
    "from imblearn.over_sampling import ADASYN\n",
    "from sklearn.neighbors import KNeighborsClassifier\n",
    "from sklearn.model_selection import TimeSeriesSplit\n",
    "from sklearn.metrics import confusion_matrix\n",
    "from sklearn.model_selection import KFold\n",
    "from sklearn.metrics import recall_score"
   ]
  },
  {
   "cell_type": "code",
   "execution_count": 2,
   "id": "2f9e9b48-ff31-42d1-9739-228ab01dce30",
   "metadata": {},
   "outputs": [],
   "source": [
    "# Create/Map directories\n",
    "if not os.path.exists('figure'): os.mkdir('figure')\n",
    "if not os.path.exists('result'): os.mkdir('result')\n",
    "data_path = os.path.join(os.getcwd(), \"data\")\n",
    "figure_path = os.path.join(os.getcwd(), \"figure\")\n",
    "result_path = os.path.join(os.getcwd(), \"result\")"
   ]
  },
  {
   "cell_type": "markdown",
   "id": "2616aaf6-9084-44fb-87b8-d9ca8715f8da",
   "metadata": {},
   "source": [
    "# Import"
   ]
  },
  {
   "cell_type": "code",
   "execution_count": null,
   "id": "0c410420-6400-4529-893c-5e1808be93f5",
   "metadata": {},
   "outputs": [],
   "source": [
    "sheet_to_df_map = pd.read_excel(os.path.join(data_path, \"full.xlsx\"), sheet_name=None)\n",
    "full = pd.concat(sheet_to_df_map, axis=0, ignore_index=True)\n",
    "\n",
    "recategorised_data = pd.read_csv(os.path.join(data_path,\"recategorised_data.csv\"))"
   ]
  },
  {
   "cell_type": "markdown",
   "id": "15906253-dc0b-4843-a315-d4239a9cdae4",
   "metadata": {},
   "source": [
    "# Tidy"
   ]
  },
  {
   "cell_type": "code",
   "execution_count": null,
   "id": "e3b4f422-baf0-48e5-80ed-5ad8bedeecbe",
   "metadata": {},
   "outputs": [],
   "source": [
    "full.dropna()\n",
    "full[\"Class\"] = np.where(full[\"Entero\"]>=280, 1, 0)\n",
    "full = full.drop([\"Entero\"], axis=1)\n",
    "\n",
    "recategorised_data = recategorised_data.drop([\"Entero\", \"RainWA\", \"BeachName\", \"Wspeed\", \"Wdirection\", \"BeachDirection\"], axis=1)\n",
    "recategorised_data['DATE']=recategorised_data['DATE'].astype('datetime64')\n",
    "recategorised_data = recategorised_data.reindex(columns=(list([c for c in recategorised_data.columns if c != \"Entero_level\"]) + [\"Entero_level\"]))"
   ]
  },
  {
   "cell_type": "markdown",
   "id": "cfa16e66-bfe8-4006-9796-2af8a0fb5529",
   "metadata": {},
   "source": [
    "# Exploration"
   ]
  },
  {
   "cell_type": "code",
   "execution_count": null,
   "id": "d757af1b-a27b-42e3-93c9-26d73018356f",
   "metadata": {},
   "outputs": [],
   "source": [
    "# Raw data\n",
    "full"
   ]
  },
  {
   "cell_type": "code",
   "execution_count": null,
   "id": "433d9f59-28b8-49ca-a990-a679bbaebf6d",
   "metadata": {},
   "outputs": [],
   "source": [
    "# Stats\n",
    "figure = full.describe()\n",
    "figure.to_csv(os.path.join(figure_path, \"stats.csv\"))"
   ]
  },
  {
   "cell_type": "code",
   "execution_count": null,
   "id": "7b35841e-a917-43d4-9e63-aa2018d66645",
   "metadata": {},
   "outputs": [],
   "source": [
    "# Scatter plots\n",
    "figure = sns.pairplot(full, hue=\"Class\").figure\n",
    "figure.set_size_inches(16, 10)\n",
    "figure.savefig(os.path.join(figure_path, \"scatter_plots\"), bbox_inches=\"tight\")"
   ]
  },
  {
   "cell_type": "code",
   "execution_count": null,
   "id": "59fa9ca0-4286-477b-88a0-c666f5ac7a0c",
   "metadata": {},
   "outputs": [],
   "source": [
    "# Correlation heatmap\n",
    "figure = sns.heatmap(full.corr()).get_figure()\n",
    "figure.set_size_inches(16, 10)\n",
    "figure.savefig(os.path.join(figure_path, \"correlation_heatmap\"), bbox_inches=\"tight\")"
   ]
  },
  {
   "cell_type": "markdown",
   "id": "c6569795-48cc-421c-beb9-69e0dc599d7e",
   "metadata": {},
   "source": [
    "# Modelling"
   ]
  },
  {
   "cell_type": "markdown",
   "id": "9fd87d9d-c20b-4656-bbad-53037cfe0880",
   "metadata": {},
   "source": [
    "## Setup"
   ]
  },
  {
   "cell_type": "code",
   "execution_count": null,
   "id": "5fbbdc86-da78-47b9-b37e-55d3bbd3d808",
   "metadata": {},
   "outputs": [],
   "source": [
    "recategorised_data.info()\n",
    "confusion_matrix"
   ]
  },
  {
   "cell_type": "code",
   "execution_count": null,
   "id": "c5a7845f-d8f9-4787-86e9-70249f0b8c3c",
   "metadata": {},
   "outputs": [],
   "source": [
    "# Set random state\n",
    "RANDOM_STATE = 1234\n",
    "np.random.seed(RANDOM_STATE)\n",
    "\n",
    "# Order data by date\n",
    "recategorised_data = recategorised_data.sort_values(by=['DATE'])\n",
    "recategorised_data.drop(\"DATE\", axis=1)\n",
    "\n",
    "# Extract features and label\n",
    "def extract(dataframe):\n",
    "    X = np.array(dataframe.iloc[:, 1:-1])\n",
    "    y = np.array(dataframe.iloc[:, -1])\n",
    "    return X, y\n",
    "\n",
    "# hyperparameters to tune\n",
    "n = range(10)\n",
    "\n",
    "# Timeseries split\n",
    "ts = TimeSeriesSplit(n_splits=4)\n",
    "\n",
    "# Cross-validation split\n",
    "kf = KFold(n_splits=5)\n",
    "\n",
    "# Pre-allocate space for results\n",
    "a = np.zeros((ts.n_splits, kf.n_splits, len(n)))"
   ]
  },
  {
   "cell_type": "markdown",
   "id": "87ef5d20-1a29-4827-b40f-5e00d3616041",
   "metadata": {
    "tags": []
   },
   "source": [
    "## KNN"
   ]
  },
  {
   "cell_type": "code",
   "execution_count": null,
   "id": "1cdf5756-41eb-4d9c-b460-8c45ab96c20b",
   "metadata": {},
   "outputs": [],
   "source": [
    "# Multi-split the data into train sets and test sets in a timely manner\n",
    "ts_idx = -1\n",
    "for train_index, test_index in ts.split(recategorised_data):    \n",
    "    ts_idx += 1\n",
    "    train, test = recategorised_data.iloc[train_index, :], recategorised_data.iloc[test_index, :]\n",
    "\n",
    "    # Cross-validate train sets to get the best hyperparameter(s)\n",
    "    kf_idx = -1\n",
    "    for train_index, validation_index in kf.split(train):\n",
    "        kf_idx += 1\n",
    "        X_train, y_train = extract(train.iloc[train_index, :])\n",
    "        X_valdn, y_valdn = extract(train.iloc[validation_index, :])\n",
    "\n",
    "        # Fit the scaler to X_train, and then use it to transform both the train set and the test set\n",
    "        transfromer = preprocessing.Normalizer().fit(X_train[:, 0:3])\n",
    "        X_train[:, 0:3] = transfromer.transform(X_train[:, 0:3])\n",
    "        X_valdn[:, 0:3] = transfromer.transform(X_valdn[:, 0:3])\n",
    "\n",
    "        # Oversample the train set with ADASYN\n",
    "        adasyn = ADASYN(sampling_strategy=\"minority\", n_neighbors=1)\n",
    "        X_train, y_train = adasyn.fit_resample(X_train, y_train)\n",
    "\n",
    "        # Test hyperparameters\n",
    "        for i in n:\n",
    "            knn = KNeighborsClassifier(n_neighbors=i+1)\n",
    "            knn.fit(X_train, y_train)\n",
    "            a[ts_idx, kf_idx, i] = recall_score(y_valdn, knn.predict(X_valdn))\n",
    "\n",
    "hyperparameters = np.mean(a, axis=(0,1))\n",
    "print(\"The best KNN is with %s neighbour(s)\" %(np.argmax(hyperparameters)+1))"
   ]
  }
 ],
 "metadata": {
  "kernelspec": {
   "display_name": "Python 3.8.12",
   "language": "python",
   "name": "python3"
  },
  "language_info": {
   "codemirror_mode": {
    "name": "ipython",
    "version": 3
   },
   "file_extension": ".py",
   "mimetype": "text/x-python",
   "name": "python",
   "nbconvert_exporter": "python",
   "pygments_lexer": "ipython3",
   "version": "3.8.12"
  }
 },
 "nbformat": 4,
 "nbformat_minor": 5
}
