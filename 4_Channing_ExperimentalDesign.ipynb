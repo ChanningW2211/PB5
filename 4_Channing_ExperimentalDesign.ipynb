{
 "cells": [
  {
   "cell_type": "markdown",
   "id": "russian-terror",
   "metadata": {},
   "source": [
    "# Setup"
   ]
  },
  {
   "cell_type": "code",
   "execution_count": 1,
   "id": "sudden-pantyhose",
   "metadata": {},
   "outputs": [
    {
     "data": {
      "text/plain": [
       "<matplotlib.pyplot._IoffContext at 0x7fbe8a35c700>"
      ]
     },
     "execution_count": 1,
     "metadata": {},
     "output_type": "execute_result"
    }
   ],
   "source": [
    "# Impot modules\n",
    "import os\n",
    "import pandas as pd\n",
    "import numpy as np\n",
    "import seaborn as sns\n",
    "from sklearn import preprocessing\n",
    "from imblearn.over_sampling import SMOTENC\n",
    "from sklearn.neighbors import KNeighborsClassifier\n",
    "from sklearn.model_selection import TimeSeriesSplit\n",
    "from sklearn.metrics import confusion_matrix\n",
    "from sklearn.model_selection import KFold\n",
    "from sklearn.ensemble import AdaBoostClassifier\n",
    "from sklearn.neural_network import MLPClassifier\n",
    "import matplotlib.pyplot as plt \n",
    "\n",
    "# Suppress warnings\n",
    "import warnings\n",
    "warnings.filterwarnings(\"ignore\") \n",
    "\n",
    "# Disable interactive mode\n",
    "plt.ioff()"
   ]
  },
  {
   "cell_type": "code",
   "execution_count": 2,
   "id": "atomic-velvet",
   "metadata": {},
   "outputs": [],
   "source": [
    "# Create/Map directories\n",
    "if not os.path.exists('result'): os.mkdir('result')\n",
    "data_path = os.path.join(os.getcwd(), \"data\")\n",
    "result_path = os.path.join(os.getcwd(), \"result\")"
   ]
  },
  {
   "cell_type": "markdown",
   "id": "seventh-construction",
   "metadata": {},
   "source": [
    "# Import"
   ]
  },
  {
   "cell_type": "code",
   "execution_count": 3,
   "id": "renewable-provider",
   "metadata": {},
   "outputs": [],
   "source": [
    "sheet_to_df_map = pd.read_excel(os.path.join(data_path, \"full.xlsx\"), sheet_name=None)\n",
    "full = pd.concat(sheet_to_df_map, axis=0, ignore_index=True)\n",
    "\n",
    "recategorised_data = pd.read_csv(os.path.join(data_path, \"recategorised_data.csv\"))"
   ]
  },
  {
   "cell_type": "markdown",
   "id": "northern-parameter",
   "metadata": {},
   "source": [
    "# Tidy"
   ]
  },
  {
   "cell_type": "code",
   "execution_count": 4,
   "id": "convenient-jumping",
   "metadata": {},
   "outputs": [],
   "source": [
    "# Raw data for exploration\n",
    "full.dropna()\n",
    "full[\"Class\"] = np.where(full[\"Entero\"]>=280, 1, 0)\n",
    "full = full.drop([\"Entero\"], axis=1)\n",
    "\n",
    "# Recategorsied data for modelling\n",
    "recategorised_data = recategorised_data.drop([\"Entero\", \"RainWA\", \"BeachName\", \"Wdirection_level\", \"Wspeed_level\", \"BeachDirection\"], axis=1)\n",
    "\n",
    "# Converted to datatime64 for ordering\n",
    "recategorised_data[\"DATE\"] = recategorised_data[\"DATE\"].astype(\"datetime64\")\n",
    "\n",
    "# Converted to catogory for oversampling\n",
    "recategorised_data[\"BeachType\"] = recategorised_data[\"BeachType\"].astype(\"category\")\n",
    "recategorised_data[\"on_offshore\"] = recategorised_data[\"on_offshore\"].astype(\"category\")\n",
    "\n",
    "# Scale down the categorical features to (0, 1)\n",
    "recategorised_data[\"on_offshore\"] = recategorised_data[\"on_offshore\"].apply(lambda x: x/2)\n",
    "\n",
    "# Rearrange the features, so numerics comes first for nomalisation\n",
    "recategorised_data = recategorised_data.reindex(columns=(list([c for c in recategorised_data.columns if c != \"Entero_level\"]) + [\"Entero_level\"]))"
   ]
  },
  {
   "cell_type": "markdown",
   "id": "suspended-bronze",
   "metadata": {},
   "source": [
    "# Exploration"
   ]
  },
  {
   "cell_type": "code",
   "execution_count": 5,
   "id": "restricted-wallpaper",
   "metadata": {},
   "outputs": [
    {
     "data": {
      "text/html": [
       "<div>\n",
       "<style scoped>\n",
       "    .dataframe tbody tr th:only-of-type {\n",
       "        vertical-align: middle;\n",
       "    }\n",
       "\n",
       "    .dataframe tbody tr th {\n",
       "        vertical-align: top;\n",
       "    }\n",
       "\n",
       "    .dataframe thead th {\n",
       "        text-align: right;\n",
       "    }\n",
       "</style>\n",
       "<table border=\"1\" class=\"dataframe\">\n",
       "  <thead>\n",
       "    <tr style=\"text-align: right;\">\n",
       "      <th></th>\n",
       "      <th>Date</th>\n",
       "      <th>Rain24</th>\n",
       "      <th>Rain48</th>\n",
       "      <th>Rain72</th>\n",
       "      <th>RainWA</th>\n",
       "      <th>WDirection</th>\n",
       "      <th>WSpeed</th>\n",
       "      <th>SolarHours</th>\n",
       "      <th>Class</th>\n",
       "    </tr>\n",
       "  </thead>\n",
       "  <tbody>\n",
       "    <tr>\n",
       "      <th>0</th>\n",
       "      <td>1995-12-16</td>\n",
       "      <td>9.17</td>\n",
       "      <td>13.67</td>\n",
       "      <td>37.00</td>\n",
       "      <td>59.84</td>\n",
       "      <td>200</td>\n",
       "      <td>1.5</td>\n",
       "      <td>1.8</td>\n",
       "      <td>0</td>\n",
       "    </tr>\n",
       "    <tr>\n",
       "      <th>1</th>\n",
       "      <td>1995-12-27</td>\n",
       "      <td>0.00</td>\n",
       "      <td>0.00</td>\n",
       "      <td>0.33</td>\n",
       "      <td>0.33</td>\n",
       "      <td>230</td>\n",
       "      <td>5.7</td>\n",
       "      <td>8.5</td>\n",
       "      <td>0</td>\n",
       "    </tr>\n",
       "    <tr>\n",
       "      <th>2</th>\n",
       "      <td>1995-12-28</td>\n",
       "      <td>2.50</td>\n",
       "      <td>2.50</td>\n",
       "      <td>2.50</td>\n",
       "      <td>7.50</td>\n",
       "      <td>320</td>\n",
       "      <td>3.6</td>\n",
       "      <td>11.7</td>\n",
       "      <td>0</td>\n",
       "    </tr>\n",
       "    <tr>\n",
       "      <th>3</th>\n",
       "      <td>1996-01-07</td>\n",
       "      <td>0.00</td>\n",
       "      <td>0.00</td>\n",
       "      <td>0.00</td>\n",
       "      <td>0.00</td>\n",
       "      <td>130</td>\n",
       "      <td>4.1</td>\n",
       "      <td>7.9</td>\n",
       "      <td>0</td>\n",
       "    </tr>\n",
       "    <tr>\n",
       "      <th>4</th>\n",
       "      <td>1996-01-08</td>\n",
       "      <td>0.00</td>\n",
       "      <td>0.00</td>\n",
       "      <td>0.00</td>\n",
       "      <td>0.00</td>\n",
       "      <td>100</td>\n",
       "      <td>3.6</td>\n",
       "      <td>4.4</td>\n",
       "      <td>0</td>\n",
       "    </tr>\n",
       "    <tr>\n",
       "      <th>...</th>\n",
       "      <td>...</td>\n",
       "      <td>...</td>\n",
       "      <td>...</td>\n",
       "      <td>...</td>\n",
       "      <td>...</td>\n",
       "      <td>...</td>\n",
       "      <td>...</td>\n",
       "      <td>...</td>\n",
       "      <td>...</td>\n",
       "    </tr>\n",
       "    <tr>\n",
       "      <th>2014</th>\n",
       "      <td>2017-08-18</td>\n",
       "      <td>1.50</td>\n",
       "      <td>1.50</td>\n",
       "      <td>1.50</td>\n",
       "      <td>4.50</td>\n",
       "      <td>172</td>\n",
       "      <td>1.7</td>\n",
       "      <td>1.6</td>\n",
       "      <td>0</td>\n",
       "    </tr>\n",
       "    <tr>\n",
       "      <th>2015</th>\n",
       "      <td>2017-08-28</td>\n",
       "      <td>6.50</td>\n",
       "      <td>8.00</td>\n",
       "      <td>8.00</td>\n",
       "      <td>22.50</td>\n",
       "      <td>5</td>\n",
       "      <td>4.1</td>\n",
       "      <td>3.7</td>\n",
       "      <td>0</td>\n",
       "    </tr>\n",
       "    <tr>\n",
       "      <th>2016</th>\n",
       "      <td>2017-09-14</td>\n",
       "      <td>0.00</td>\n",
       "      <td>1.00</td>\n",
       "      <td>4.00</td>\n",
       "      <td>5.00</td>\n",
       "      <td>261</td>\n",
       "      <td>3.1</td>\n",
       "      <td>2.8</td>\n",
       "      <td>0</td>\n",
       "    </tr>\n",
       "    <tr>\n",
       "      <th>2017</th>\n",
       "      <td>2017-09-18</td>\n",
       "      <td>26.00</td>\n",
       "      <td>26.50</td>\n",
       "      <td>34.00</td>\n",
       "      <td>86.50</td>\n",
       "      <td>276</td>\n",
       "      <td>2.8</td>\n",
       "      <td>6.1</td>\n",
       "      <td>0</td>\n",
       "    </tr>\n",
       "    <tr>\n",
       "      <th>2018</th>\n",
       "      <td>2017-09-27</td>\n",
       "      <td>8.00</td>\n",
       "      <td>12.50</td>\n",
       "      <td>12.50</td>\n",
       "      <td>33.00</td>\n",
       "      <td>230</td>\n",
       "      <td>1.2</td>\n",
       "      <td>5.5</td>\n",
       "      <td>0</td>\n",
       "    </tr>\n",
       "  </tbody>\n",
       "</table>\n",
       "<p>2019 rows × 9 columns</p>\n",
       "</div>"
      ],
      "text/plain": [
       "           Date  Rain24  Rain48  Rain72  RainWA  WDirection  WSpeed  \\\n",
       "0    1995-12-16    9.17   13.67   37.00   59.84         200     1.5   \n",
       "1    1995-12-27    0.00    0.00    0.33    0.33         230     5.7   \n",
       "2    1995-12-28    2.50    2.50    2.50    7.50         320     3.6   \n",
       "3    1996-01-07    0.00    0.00    0.00    0.00         130     4.1   \n",
       "4    1996-01-08    0.00    0.00    0.00    0.00         100     3.6   \n",
       "...         ...     ...     ...     ...     ...         ...     ...   \n",
       "2014 2017-08-18    1.50    1.50    1.50    4.50         172     1.7   \n",
       "2015 2017-08-28    6.50    8.00    8.00   22.50           5     4.1   \n",
       "2016 2017-09-14    0.00    1.00    4.00    5.00         261     3.1   \n",
       "2017 2017-09-18   26.00   26.50   34.00   86.50         276     2.8   \n",
       "2018 2017-09-27    8.00   12.50   12.50   33.00         230     1.2   \n",
       "\n",
       "      SolarHours  Class  \n",
       "0            1.8      0  \n",
       "1            8.5      0  \n",
       "2           11.7      0  \n",
       "3            7.9      0  \n",
       "4            4.4      0  \n",
       "...          ...    ...  \n",
       "2014         1.6      0  \n",
       "2015         3.7      0  \n",
       "2016         2.8      0  \n",
       "2017         6.1      0  \n",
       "2018         5.5      0  \n",
       "\n",
       "[2019 rows x 9 columns]"
      ]
     },
     "execution_count": 5,
     "metadata": {},
     "output_type": "execute_result"
    }
   ],
   "source": [
    "# Raw data\n",
    "full"
   ]
  },
  {
   "cell_type": "code",
   "execution_count": 6,
   "id": "dangerous-franchise",
   "metadata": {},
   "outputs": [],
   "source": [
    "# Stats\n",
    "stats = full.describe()\n",
    "stats.to_csv(os.path.join(result_path, \"stats.csv\"))"
   ]
  },
  {
   "cell_type": "code",
   "execution_count": 7,
   "id": "shaped-spring",
   "metadata": {},
   "outputs": [],
   "source": [
    "# Scatter plots\n",
    "plt.figure()\n",
    "figure = sns.pairplot(full, hue=\"Class\").figure\n",
    "figure.set_size_inches(16, 10)\n",
    "figure.savefig(os.path.join(result_path, \"scatter_plots\"), bbox_inches=\"tight\")"
   ]
  },
  {
   "cell_type": "code",
   "execution_count": 8,
   "id": "italian-improvement",
   "metadata": {},
   "outputs": [],
   "source": [
    "# Correlation heatmap\n",
    "plt.figure()\n",
    "figure = sns.heatmap(full.corr()).get_figure()\n",
    "figure.set_size_inches(16, 10)\n",
    "figure.savefig(os.path.join(result_path, \"correlation_heatmap\"), bbox_inches=\"tight\")"
   ]
  },
  {
   "cell_type": "markdown",
   "id": "municipal-bench",
   "metadata": {},
   "source": [
    "# Modelling"
   ]
  },
  {
   "cell_type": "markdown",
   "id": "assumed-doctor",
   "metadata": {},
   "source": [
    "## Helpers"
   ]
  },
  {
   "cell_type": "code",
   "execution_count": 9,
   "id": "respected-spring",
   "metadata": {},
   "outputs": [],
   "source": [
    "# Set random state\n",
    "RANDOM_STATE = 1234\n",
    "np.random.seed(RANDOM_STATE)\n",
    "\n",
    "# Order data by date\n",
    "recategorised_data = recategorised_data.sort_values(by=['DATE'])\n",
    "recategorised_data = recategorised_data.drop(\"DATE\", axis=1)\n",
    "\n",
    "# Extract features and label\n",
    "def extract(dataframe):\n",
    "    X = dataframe.iloc[:, 0:-1]\n",
    "    y = dataframe.iloc[:, -1]\n",
    "    return X, y\n",
    "\n",
    "# Set test size\n",
    "test_size = 200\n",
    "\n",
    "# Hold out the test set\n",
    "cv_dataset = recategorised_data.iloc[:-test_size, :]\n",
    "\n",
    "# Timeseries splits for the training\n",
    "n_split = 5\n",
    "ts = TimeSeriesSplit(n_splits=n_split)\n",
    "\n",
    "# Set the number of observations at each step for the test\n",
    "n_obsn = 40\n",
    "\n",
    "# Dataframes to store model performances for autorank\n",
    "dfSen = pd.DataFrame(columns=[\"KNN\", \"BDT\", \"ANN\"])\n",
    "dfAcc = pd.DataFrame(columns=[\"KNN\", \"BDT\", \"ANN\"])\n",
    "dfSp = pd.DataFrame(columns=[\"KNN\", \"BDT\", \"ANN\"])"
   ]
  },
  {
   "cell_type": "code",
   "execution_count": 10,
   "id": "electric-orlando",
   "metadata": {},
   "outputs": [],
   "source": [
    "# Training phase to tune hyperparameters\n",
    "def rolling_cv(hyperparameters, setup_classifier):\n",
    "    # Pre-allocate space for results\n",
    "    tscv = np.zeros((ts.n_splits, len(hyperparameters)))\n",
    "\n",
    "    # Multi-split the data into train sets and validation sets in a timely manner\n",
    "    ts_idx = -1\n",
    "    for train_index, validation_index in ts.split(cv_dataset):    \n",
    "        ts_idx += 1\n",
    "        train, validation = cv_dataset.iloc[train_index, :], cv_dataset.iloc[validation_index, :]\n",
    "        \n",
    "        X_train, y_train = extract(train)\n",
    "        X_valdn, y_valdn = extract(validation)\n",
    "        \n",
    "        # Fit the scaler to X_train, and then use it to transform both the train set and the test set\n",
    "        transfromer = preprocessing.Normalizer().fit(X_train.iloc[:, 0:6])\n",
    "        X_train.iloc[:, 0:6] = transfromer.transform(X_train.iloc[:, 0:6])\n",
    "        X_valdn.iloc[:, 0:6] = transfromer.transform(X_valdn.iloc[:, 0:6])\n",
    "\n",
    "        # Oversample the train set with SMOTENC\n",
    "        smotenc = SMOTENC(categorical_features=[X_train.dtypes==\"category\"], sampling_strategy=\"minority\", k_neighbors=1)\n",
    "        X_train, y_train = smotenc.fit_resample(X_train, y_train)\n",
    "\n",
    "        # Test hyperparameters\n",
    "        idx = -1\n",
    "        for i in hyperparameters:\n",
    "            idx += 1\n",
    "            classifier = setup_classifier(i)\n",
    "            fitted_model = classifier.fit(X_train, y_train)\n",
    "            \n",
    "            # Sensitivity as the optimisation target\n",
    "            tn, fp, fn, tp = confusion_matrix(y_valdn, fitted_model.predict(X_valdn)).ravel()\n",
    "            tscv[ts_idx, idx] = tp/(tp+fn)\n",
    "            \n",
    "    return tscv"
   ]
  },
  {
   "cell_type": "code",
   "execution_count": 11,
   "id": "rough-coast",
   "metadata": {},
   "outputs": [],
   "source": [
    "# Testing phase for the performances from the best models, i.e. KNN, BDT, ANN\n",
    "def walking_eval(classifier, classifier_name, l_test=test_size, step=n_obsn):\n",
    "    sen = []\n",
    "    sp = []\n",
    "    acc = []\n",
    "    \n",
    "    for i in range(0, l_test, n_obsn):\n",
    "        if l_test-i < n_obsn: break\n",
    "        train = recategorised_data.iloc[0:-(l_test-i), :]\n",
    "        test = recategorised_data.iloc[-(l_test-i):-(l_test-i-n_obsn if l_test-i-n_obsn!=0 else 1), :]\n",
    "        \n",
    "        X_train, y_train = extract(train)\n",
    "        X_test, y_test = extract(test)\n",
    "        \n",
    "        transfromer = preprocessing.Normalizer().fit(X_train.iloc[:, 0:6])\n",
    "        X_train.iloc[:, 0:6] = transfromer.transform(X_train.iloc[:, 0:6])\n",
    "        X_test.iloc[:, 0:6] = transfromer.transform(X_test.iloc[:, 0:6])\n",
    "\n",
    "        smotenc = SMOTENC(categorical_features=[X_train.dtypes==\"category\"], sampling_strategy=\"minority\", k_neighbors=1)\n",
    "        X_train, y_train = smotenc.fit_resample(X_train, y_train)\n",
    "\n",
    "        fitted_model = classifier.fit(X_train, y_train)\n",
    "        \n",
    "        tn, fp, fn, tp = confusion_matrix(y_test, fitted_model.predict(X_test)).ravel()\n",
    "        sen.append(tp/(tp+fn))\n",
    "        acc.append((tp+tn)/(tn+fp+fn+tp))\n",
    "        sp.append(tn/(tn+fp))\n",
    "        \n",
    "        \n",
    "    dfSen.loc[:, classifier_name] = sen\n",
    "    dfAcc.loc[:, classifier_name] = acc\n",
    "    dfSp.loc[:, classifier_name] = sp\n",
    "    \n",
    "    return np.array(sen)"
   ]
  },
  {
   "cell_type": "markdown",
   "id": "welcome-glucose",
   "metadata": {
    "tags": []
   },
   "source": [
    "## KNN"
   ]
  },
  {
   "cell_type": "code",
   "execution_count": 12,
   "id": "treated-portugal",
   "metadata": {},
   "outputs": [
    {
     "name": "stdout",
     "output_type": "stream",
     "text": [
      "The best KNN is with 39 neighbour(s)\n",
      "The average sensitivity for the best KNNs is 0.6428571428571429\n"
     ]
    }
   ],
   "source": [
    "# Train\n",
    "neighbors = range(1, 41, 1)\n",
    "def knn(i):\n",
    "    knn = KNeighborsClassifier(n_neighbors=i)\n",
    "    return knn\n",
    "cv = rolling_cv(neighbors, knn)\n",
    "means = np.mean(cv, axis=0)\n",
    "best = neighbors[np.argmax(means)]\n",
    "print(\"The best KNN is with %s neighbour(s)\" %(best))\n",
    "\n",
    "# Evaluate\n",
    "r = walking_eval(knn(best), \"KNN\")\n",
    "print(\"The average sensitivity for the best KNNs is %s\" %(np.mean(r)))"
   ]
  },
  {
   "cell_type": "markdown",
   "id": "fitted-kazakhstan",
   "metadata": {},
   "source": [
    "## BDT"
   ]
  },
  {
   "cell_type": "code",
   "execution_count": null,
   "id": "immediate-danger",
   "metadata": {},
   "outputs": [],
   "source": [
    "# Train\n",
    "n_estimators = range(1, 101, 1)\n",
    "def ada(i):\n",
    "    ada = AdaBoostClassifier(n_estimators=i)\n",
    "    return ada\n",
    "cv = rolling_cv(n_estimators, ada)\n",
    "means = np.mean(cv, axis=0)\n",
    "best = n_estimators[np.argmax(means)]\n",
    "print(\"The best BDT is with an n_estimators of %s\" %(best))\n",
    "\n",
    "# Evaluate\n",
    "r = walking_eval(ada(best), \"BDT\")\n",
    "print(\"The average sensitivity for the best BDTs is %s\" %(np.mean(r)))"
   ]
  },
  {
   "cell_type": "markdown",
   "id": "utility-median",
   "metadata": {},
   "source": [
    "## ANN"
   ]
  },
  {
   "cell_type": "code",
   "execution_count": null,
   "id": "phantom-marks",
   "metadata": {},
   "outputs": [],
   "source": [
    "# Skip the training part as the data set is not large enough to tune the hyperparameters properly for ANN\n",
    "\n",
    "# Evaluate ANN on an adaptive learning rate\n",
    "ann = MLPClassifier(solver=\"sgd\", learning_rate=\"adaptive\", hidden_layer_sizes=(4, 2), max_iter=1000) \n",
    "r = walking_eval(ann, \"ANN\")\n",
    "print(\"The average sensitivity for the ANNs is %s\" %(np.mean(r)))"
   ]
  },
  {
   "cell_type": "markdown",
   "id": "encouraging-variance",
   "metadata": {},
   "source": [
    "# Conclusion"
   ]
  },
  {
   "cell_type": "code",
   "execution_count": null,
   "id": "simple-contact",
   "metadata": {
    "scrolled": true
   },
   "outputs": [],
   "source": [
    "stats = dfSen.describe()\n",
    "stats.to_csv(os.path.join(result_path, \"sensitivity_stats.csv\"))\n",
    "figure = plt.figure()\n",
    "dfSen.boxplot()\n",
    "figure.set_size_inches(16, 10)\n",
    "figure.savefig(os.path.join(result_path, \"sensitivity_results\"), bbox_inches=\"tight\")"
   ]
  },
  {
   "cell_type": "code",
   "execution_count": null,
   "id": "printable-membrane",
   "metadata": {
    "scrolled": true
   },
   "outputs": [],
   "source": [
    "stats = dfAcc.describe()\n",
    "stats.to_csv(os.path.join(result_path, \"accuracy_stats.csv\"))\n",
    "figure = plt.figure()\n",
    "dfAcc.boxplot()\n",
    "figure.set_size_inches(16, 10)\n",
    "figure.savefig(os.path.join(result_path, \"accuracy_results\"), bbox_inches=\"tight\")"
   ]
  },
  {
   "cell_type": "code",
   "execution_count": null,
   "id": "placed-shareware",
   "metadata": {},
   "outputs": [],
   "source": [
    "stats = dfSp.describe()\n",
    "stats.to_csv(os.path.join(result_path, \"specificity_stats.csv\"))\n",
    "figure = plt.figure()\n",
    "dfSp.boxplot()\n",
    "figure.set_size_inches(16, 10)\n",
    "figure.savefig(os.path.join(result_path, \"specificity_results\"), bbox_inches=\"tight\")"
   ]
  }
 ],
 "metadata": {
  "kernelspec": {
   "display_name": "Python 3.8.12",
   "language": "python",
   "name": "python3"
  },
  "language_info": {
   "codemirror_mode": {
    "name": "ipython",
    "version": 3
   },
   "file_extension": ".py",
   "mimetype": "text/x-python",
   "name": "python",
   "nbconvert_exporter": "python",
   "pygments_lexer": "ipython3",
   "version": "3.8.12"
  }
 },
 "nbformat": 4,
 "nbformat_minor": 5
}
