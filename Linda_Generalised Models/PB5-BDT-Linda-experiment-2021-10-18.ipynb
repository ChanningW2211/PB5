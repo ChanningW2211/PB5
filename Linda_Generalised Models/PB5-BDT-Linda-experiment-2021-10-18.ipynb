{
 "cells": [
  {
   "cell_type": "code",
   "execution_count": 1,
   "id": "8d61ec00",
   "metadata": {},
   "outputs": [
    {
     "name": "stdout",
     "output_type": "stream",
     "text": [
      "Requirement already satisfied: imblearn in c:\\users\\hp-family desktop\\anaconda3\\lib\\site-packages (0.0)\n",
      "Requirement already satisfied: imbalanced-learn in c:\\users\\hp-family desktop\\anaconda3\\lib\\site-packages (from imblearn) (0.8.1)\n",
      "Requirement already satisfied: scikit-learn>=0.24 in c:\\users\\hp-family desktop\\anaconda3\\lib\\site-packages (from imbalanced-learn->imblearn) (0.24.1)\n",
      "Requirement already satisfied: scipy>=0.19.1 in c:\\users\\hp-family desktop\\anaconda3\\lib\\site-packages (from imbalanced-learn->imblearn) (1.6.2)\n",
      "Requirement already satisfied: numpy>=1.13.3 in c:\\users\\hp-family desktop\\appdata\\roaming\\python\\python38\\site-packages (from imbalanced-learn->imblearn) (1.21.2)\n",
      "Requirement already satisfied: joblib>=0.11 in c:\\users\\hp-family desktop\\anaconda3\\lib\\site-packages (from imbalanced-learn->imblearn) (1.0.1)\n",
      "Requirement already satisfied: threadpoolctl>=2.0.0 in c:\\users\\hp-family desktop\\anaconda3\\lib\\site-packages (from scikit-learn>=0.24->imbalanced-learn->imblearn) (2.1.0)\n"
     ]
    }
   ],
   "source": [
    "# Setup\n",
    "import pandas as pd\n",
    "import numpy as np\n",
    "import matplotlib.pyplot as plt\n",
    "import seaborn as sns\n",
    "from sklearn.ensemble import AdaBoostClassifier\n",
    "from sklearn.tree import DecisionTreeClassifier\n",
    "from sklearn.model_selection import train_test_split\n",
    "from sklearn.metrics import accuracy_score\n",
    "from sklearn.metrics import confusion_matrix\n",
    "from sklearn import preprocessing\n",
    "from sklearn import tree\n",
    "\n",
    "!pip install imblearn\n",
    "from imblearn.over_sampling import ADASYN"
   ]
  },
  {
   "cell_type": "code",
   "execution_count": 2,
   "id": "d44f965e",
   "metadata": {},
   "outputs": [
    {
     "data": {
      "text/html": [
       "<div>\n",
       "<style scoped>\n",
       "    .dataframe tbody tr th:only-of-type {\n",
       "        vertical-align: middle;\n",
       "    }\n",
       "\n",
       "    .dataframe tbody tr th {\n",
       "        vertical-align: top;\n",
       "    }\n",
       "\n",
       "    .dataframe thead th {\n",
       "        text-align: right;\n",
       "    }\n",
       "</style>\n",
       "<table border=\"1\" class=\"dataframe\">\n",
       "  <thead>\n",
       "    <tr style=\"text-align: right;\">\n",
       "      <th></th>\n",
       "      <th>Entero</th>\n",
       "      <th>Rain24</th>\n",
       "      <th>Rain48</th>\n",
       "      <th>Rain72</th>\n",
       "      <th>RainWA</th>\n",
       "      <th>Wdirection</th>\n",
       "      <th>Wspeed</th>\n",
       "      <th>Solarhours</th>\n",
       "      <th>BeachType</th>\n",
       "      <th>BeachDirection</th>\n",
       "      <th>Entero_level</th>\n",
       "      <th>Wspeed_level</th>\n",
       "      <th>Wdirection_level</th>\n",
       "      <th>on_offshore</th>\n",
       "    </tr>\n",
       "  </thead>\n",
       "  <tbody>\n",
       "    <tr>\n",
       "      <th>count</th>\n",
       "      <td>1816.000000</td>\n",
       "      <td>1816.000000</td>\n",
       "      <td>1816.000000</td>\n",
       "      <td>1816.000000</td>\n",
       "      <td>1816.000000</td>\n",
       "      <td>1816.000000</td>\n",
       "      <td>1816.000000</td>\n",
       "      <td>1816.000000</td>\n",
       "      <td>1816.000000</td>\n",
       "      <td>1816.000000</td>\n",
       "      <td>1816.000000</td>\n",
       "      <td>1816.000000</td>\n",
       "      <td>1816.000000</td>\n",
       "      <td>1816.000000</td>\n",
       "    </tr>\n",
       "    <tr>\n",
       "      <th>mean</th>\n",
       "      <td>125.903084</td>\n",
       "      <td>1.884796</td>\n",
       "      <td>4.148640</td>\n",
       "      <td>6.578678</td>\n",
       "      <td>12.612115</td>\n",
       "      <td>187.495595</td>\n",
       "      <td>2.641189</td>\n",
       "      <td>6.729075</td>\n",
       "      <td>0.477423</td>\n",
       "      <td>3.962555</td>\n",
       "      <td>0.064427</td>\n",
       "      <td>1.007709</td>\n",
       "      <td>7.985683</td>\n",
       "      <td>0.869493</td>\n",
       "    </tr>\n",
       "    <tr>\n",
       "      <th>std</th>\n",
       "      <td>894.696898</td>\n",
       "      <td>5.334074</td>\n",
       "      <td>9.024765</td>\n",
       "      <td>12.162776</td>\n",
       "      <td>24.039501</td>\n",
       "      <td>90.964819</td>\n",
       "      <td>1.596487</td>\n",
       "      <td>3.844990</td>\n",
       "      <td>0.499628</td>\n",
       "      <td>4.816492</td>\n",
       "      <td>0.245580</td>\n",
       "      <td>0.093573</td>\n",
       "      <td>4.072729</td>\n",
       "      <td>0.862462</td>\n",
       "    </tr>\n",
       "    <tr>\n",
       "      <th>min</th>\n",
       "      <td>10.000000</td>\n",
       "      <td>0.000000</td>\n",
       "      <td>0.000000</td>\n",
       "      <td>0.000000</td>\n",
       "      <td>0.000000</td>\n",
       "      <td>0.000000</td>\n",
       "      <td>0.000000</td>\n",
       "      <td>0.000000</td>\n",
       "      <td>0.000000</td>\n",
       "      <td>1.000000</td>\n",
       "      <td>0.000000</td>\n",
       "      <td>0.000000</td>\n",
       "      <td>0.000000</td>\n",
       "      <td>0.000000</td>\n",
       "    </tr>\n",
       "    <tr>\n",
       "      <th>25%</th>\n",
       "      <td>10.000000</td>\n",
       "      <td>0.000000</td>\n",
       "      <td>0.000000</td>\n",
       "      <td>0.000000</td>\n",
       "      <td>0.000000</td>\n",
       "      <td>112.750000</td>\n",
       "      <td>1.500000</td>\n",
       "      <td>3.500000</td>\n",
       "      <td>0.000000</td>\n",
       "      <td>1.000000</td>\n",
       "      <td>0.000000</td>\n",
       "      <td>1.000000</td>\n",
       "      <td>5.000000</td>\n",
       "      <td>0.000000</td>\n",
       "    </tr>\n",
       "    <tr>\n",
       "      <th>50%</th>\n",
       "      <td>10.000000</td>\n",
       "      <td>0.000000</td>\n",
       "      <td>0.460000</td>\n",
       "      <td>1.375000</td>\n",
       "      <td>2.355000</td>\n",
       "      <td>209.000000</td>\n",
       "      <td>2.400000</td>\n",
       "      <td>7.200000</td>\n",
       "      <td>0.000000</td>\n",
       "      <td>2.000000</td>\n",
       "      <td>0.000000</td>\n",
       "      <td>1.000000</td>\n",
       "      <td>9.000000</td>\n",
       "      <td>1.000000</td>\n",
       "    </tr>\n",
       "    <tr>\n",
       "      <th>75%</th>\n",
       "      <td>20.000000</td>\n",
       "      <td>0.830000</td>\n",
       "      <td>4.000000</td>\n",
       "      <td>7.447500</td>\n",
       "      <td>14.315000</td>\n",
       "      <td>252.000000</td>\n",
       "      <td>3.325000</td>\n",
       "      <td>10.000000</td>\n",
       "      <td>1.000000</td>\n",
       "      <td>2.000000</td>\n",
       "      <td>0.000000</td>\n",
       "      <td>1.000000</td>\n",
       "      <td>11.000000</td>\n",
       "      <td>2.000000</td>\n",
       "    </tr>\n",
       "    <tr>\n",
       "      <th>max</th>\n",
       "      <td>24000.000000</td>\n",
       "      <td>57.080000</td>\n",
       "      <td>115.250000</td>\n",
       "      <td>127.320000</td>\n",
       "      <td>251.620000</td>\n",
       "      <td>360.000000</td>\n",
       "      <td>12.100000</td>\n",
       "      <td>14.100000</td>\n",
       "      <td>1.000000</td>\n",
       "      <td>15.000000</td>\n",
       "      <td>1.000000</td>\n",
       "      <td>2.000000</td>\n",
       "      <td>15.000000</td>\n",
       "      <td>2.000000</td>\n",
       "    </tr>\n",
       "  </tbody>\n",
       "</table>\n",
       "</div>"
      ],
      "text/plain": [
       "             Entero       Rain24       Rain48       Rain72       RainWA  \\\n",
       "count   1816.000000  1816.000000  1816.000000  1816.000000  1816.000000   \n",
       "mean     125.903084     1.884796     4.148640     6.578678    12.612115   \n",
       "std      894.696898     5.334074     9.024765    12.162776    24.039501   \n",
       "min       10.000000     0.000000     0.000000     0.000000     0.000000   \n",
       "25%       10.000000     0.000000     0.000000     0.000000     0.000000   \n",
       "50%       10.000000     0.000000     0.460000     1.375000     2.355000   \n",
       "75%       20.000000     0.830000     4.000000     7.447500    14.315000   \n",
       "max    24000.000000    57.080000   115.250000   127.320000   251.620000   \n",
       "\n",
       "        Wdirection       Wspeed   Solarhours    BeachType  BeachDirection  \\\n",
       "count  1816.000000  1816.000000  1816.000000  1816.000000     1816.000000   \n",
       "mean    187.495595     2.641189     6.729075     0.477423        3.962555   \n",
       "std      90.964819     1.596487     3.844990     0.499628        4.816492   \n",
       "min       0.000000     0.000000     0.000000     0.000000        1.000000   \n",
       "25%     112.750000     1.500000     3.500000     0.000000        1.000000   \n",
       "50%     209.000000     2.400000     7.200000     0.000000        2.000000   \n",
       "75%     252.000000     3.325000    10.000000     1.000000        2.000000   \n",
       "max     360.000000    12.100000    14.100000     1.000000       15.000000   \n",
       "\n",
       "       Entero_level  Wspeed_level  Wdirection_level  on_offshore  \n",
       "count   1816.000000   1816.000000       1816.000000  1816.000000  \n",
       "mean       0.064427      1.007709          7.985683     0.869493  \n",
       "std        0.245580      0.093573          4.072729     0.862462  \n",
       "min        0.000000      0.000000          0.000000     0.000000  \n",
       "25%        0.000000      1.000000          5.000000     0.000000  \n",
       "50%        0.000000      1.000000          9.000000     1.000000  \n",
       "75%        0.000000      1.000000         11.000000     2.000000  \n",
       "max        1.000000      2.000000         15.000000     2.000000  "
      ]
     },
     "execution_count": 2,
     "metadata": {},
     "output_type": "execute_result"
    }
   ],
   "source": [
    "# Import trainset\n",
    "trainset = pd.read_csv(\"PB5_trainset.csv\")\n",
    "trainset.describe()"
   ]
  },
  {
   "cell_type": "code",
   "execution_count": 3,
   "id": "1e4b2b20",
   "metadata": {},
   "outputs": [
    {
     "name": "stdout",
     "output_type": "stream",
     "text": [
      "<class 'pandas.core.frame.DataFrame'>\n",
      "RangeIndex: 1816 entries, 0 to 1815\n",
      "Data columns (total 16 columns):\n",
      " #   Column            Non-Null Count  Dtype  \n",
      "---  ------            --------------  -----  \n",
      " 0   DATE              1816 non-null   object \n",
      " 1   Entero            1816 non-null   float64\n",
      " 2   Rain24            1816 non-null   float64\n",
      " 3   Rain48            1816 non-null   float64\n",
      " 4   Rain72            1816 non-null   float64\n",
      " 5   RainWA            1816 non-null   float64\n",
      " 6   Wdirection        1816 non-null   int64  \n",
      " 7   Wspeed            1816 non-null   float64\n",
      " 8   Solarhours        1816 non-null   float64\n",
      " 9   BeachName         1816 non-null   object \n",
      " 10  BeachType         1816 non-null   int64  \n",
      " 11  BeachDirection    1816 non-null   int64  \n",
      " 12  Entero_level      1816 non-null   int64  \n",
      " 13  Wspeed_level      1816 non-null   int64  \n",
      " 14  Wdirection_level  1816 non-null   int64  \n",
      " 15  on_offshore       1816 non-null   int64  \n",
      "dtypes: float64(7), int64(7), object(2)\n",
      "memory usage: 227.1+ KB\n"
     ]
    }
   ],
   "source": [
    "trainset.info()"
   ]
  },
  {
   "cell_type": "code",
   "execution_count": 4,
   "id": "c962fe55",
   "metadata": {},
   "outputs": [
    {
     "name": "stdout",
     "output_type": "stream",
     "text": [
      "<class 'pandas.core.frame.DataFrame'>\n",
      "RangeIndex: 1816 entries, 0 to 1815\n",
      "Data columns (total 13 columns):\n",
      " #   Column            Non-Null Count  Dtype  \n",
      "---  ------            --------------  -----  \n",
      " 0   Entero_level      1816 non-null   int64  \n",
      " 1   Rain24            1816 non-null   float64\n",
      " 2   Rain48            1816 non-null   float64\n",
      " 3   Rain72            1816 non-null   float64\n",
      " 4   RainWA            1816 non-null   float64\n",
      " 5   Wdirection        1816 non-null   int64  \n",
      " 6   Wspeed            1816 non-null   float64\n",
      " 7   Solarhours        1816 non-null   float64\n",
      " 8   BeachType         1816 non-null   int64  \n",
      " 9   BeachDirection    1816 non-null   int64  \n",
      " 10  Wspeed_level      1816 non-null   int64  \n",
      " 11  Wdirection_level  1816 non-null   int64  \n",
      " 12  on_offshore       1816 non-null   int64  \n",
      "dtypes: float64(6), int64(7)\n",
      "memory usage: 184.6 KB\n"
     ]
    }
   ],
   "source": [
    "# Delete columns \"DATE\",\"Entero\",\"BeachName\"\n",
    "data_frame = trainset.drop(columns=['Entero','DATE','BeachName'])\n",
    "\n",
    "# Move column \"Entero_level\" to the front\n",
    "data_frame = data_frame[ ['Entero_level'] + [ col for col in data_frame.columns if col != 'Entero_level' ] ]\n",
    "data_frame.info()"
   ]
  },
  {
   "cell_type": "code",
   "execution_count": 5,
   "id": "86524057",
   "metadata": {},
   "outputs": [],
   "source": [
    "#AdaBoost = AdaBoostClassifier(n_estimators=400, learning_rate=1,algorithm='SAMME')\n",
    "AdaBoost = AdaBoostClassifier(learning_rate=0.0001)"
   ]
  },
  {
   "cell_type": "code",
   "execution_count": 6,
   "id": "7a47cea3",
   "metadata": {},
   "outputs": [
    {
     "name": "stdout",
     "output_type": "stream",
     "text": [
      "BDT with ADASYN (n=10) balanced data ----\n",
      "input data - ['Rain24' 'Rain48' 'Rain72' 'RainWA' 'Wdirection' 'Wspeed' 'Solarhours'\n",
      " 'BeachType' 'BeachDirection' 'Wspeed_level' 'Wdirection_level'\n",
      " 'on_offshore']\n",
      "Overall accuracy :  0.6280084745762712\n",
      "Sensitivity :  0.5500854700854702\n",
      "Specificity :  0.704621848739496\n"
     ]
    },
    {
     "data": {
      "image/png": "[encoded data removed]",
      "text/plain": [
       "<Figure size 432x288 with 1 Axes>"
      ]
     },
     "metadata": {
      "needs_background": "light"
     },
     "output_type": "display_data"
    }
   ],
   "source": [
    "### BDT with ADASYN balanced data\n",
    "print(\"BDT with ADASYN (n=10) balanced data ----\")\n",
    "print(\"input data -\", end =\" \")\n",
    "input_data = data_frame.drop(columns=['Entero_level'])\n",
    "entero_data = data_frame['Entero_level']\n",
    "c = input_data.columns\n",
    "print(input_data.columns.values)\n",
    "# Separate real above and real below data\n",
    "index_above = (data_frame['Entero_level']==1)\n",
    "index_below = (data_frame['Entero_level']==0)\n",
    "input_real_above_data = data_frame[index_above]\n",
    "input_real_below_data = data_frame[index_below]\n",
    "\n",
    "# Use real above data form testset above data\n",
    "testset_above_data = input_real_above_data.drop(columns=['Entero_level'])\n",
    "water_above_label = input_real_above_data['Entero_level']\n",
    "\n",
    "# Calculate ratio for train/test for real below data\n",
    "len_testset = len(input_real_above_data)\n",
    "ratio = round(len_testset/len(input_real_below_data),2)\n",
    "\n",
    "# ADASYN\n",
    "ada = ADASYN(sampling_strategy=1, n_neighbors=10)\n",
    "\n",
    "# For loop\n",
    "j=np.zeros(100)\n",
    "sen=np.zeros(100)\n",
    "spe=np.zeros(100)\n",
    "for i in range(100):\n",
    "    # Generate synthetic sampling data with ADASYN\n",
    "    data_fake, entero_fake = ada.fit_resample(input_data, entero_data)\n",
    "    x=pd.DataFrame(data_fake, columns=input_data.columns)\n",
    "    y=pd.DataFrame(entero_fake, columns=['Entero_level'])\n",
    "    x['Entero_level']=y['Entero_level'].values\n",
    "    data_fake_frame=x.query(\"Entero_level == 1\")\n",
    "    data_fake_frame=data_fake_frame.reset_index(drop=True)\n",
    "    data_fake_frame.describe()\n",
    "    \n",
    "    # Use synthetic data to form trainset above data\n",
    "    input_fake_data = data_fake_frame.iloc[:,0:-1]\n",
    "    water_fake_label = data_fake_frame.iloc[:,-1]\n",
    "    \n",
    "    # Split the real below data randomly - test set size matches real above data size\n",
    "    input_real_data = input_real_below_data.drop(columns=['Entero_level'])\n",
    "    entero_real_data = input_real_below_data.iloc[:,0]\n",
    "    trainset_below_data, testset_below_data, trainset_below_labels, testset_below_labels = train_test_split(input_real_data, entero_real_data, test_size=ratio, random_state=42)\n",
    "    \n",
    "    # Use fake above data plus real below data to form trainset\n",
    "    trainset_data = np.vstack((input_fake_data, trainset_below_data))\n",
    "    trainset_labels = np.hstack((water_fake_label, trainset_below_labels))\n",
    "    \n",
    "    # Use real above data plus same amount of real below data to form testset\n",
    "    testset_data = np.vstack((testset_above_data, testset_below_data))\n",
    "    testset_labels = np.hstack((water_above_label, testset_below_labels))\n",
    "    \n",
    "    # Train data normalization\n",
    "    sc = preprocessing.Normalizer().fit(trainset_data)\n",
    "    trainset_data = sc.transform(trainset_data)\n",
    "    testset_data = sc.transform(testset_data)\n",
    "    \n",
    "    # Run BDT\n",
    "    bdt=AdaBoost.fit(trainset_data, trainset_labels)\n",
    "    cm1 = confusion_matrix(testset_labels,bdt.predict(testset_data))\n",
    "    total1=sum(sum(cm1))\n",
    "    #####from confusion matrix calculate accuracy\n",
    "    j[i] = (cm1[0,0]+cm1[1,1])/total1\n",
    "    sen[i] = cm1[1,1]/(cm1[1,0]+cm1[1,1])\n",
    "    spe[i] = cm1[0,0]/(cm1[0,0]+cm1[0,1])\n",
    "    i=i+1\n",
    "\n",
    "#End of loop\n",
    "\n",
    "# Show the KNN result\n",
    "print ('Overall accuracy : ', j.mean())\n",
    "print('Sensitivity : ', sen.mean())\n",
    "print('Specificity : ', spe.mean())\n",
    "plt.boxplot([j, sen, spe])\n",
    "plt.xticks([1, 2, 3], [\"Accuracy\",\"Sensitivity\", \"Specificity\"])\n",
    "plt.show()\n"
   ]
  },
  {
   "cell_type": "code",
   "execution_count": 7,
   "id": "c55e38b2",
   "metadata": {},
   "outputs": [
    {
     "name": "stdout",
     "output_type": "stream",
     "text": [
      "BDT model with ADASYN (n=10) balanced data----\n",
      "Drop: Rain24\n",
      "input data - ['Rain48' 'Rain72' 'RainWA' 'Wdirection' 'Wspeed' 'Solarhours' 'BeachType'\n",
      " 'BeachDirection' 'Wspeed_level' 'Wdirection_level' 'on_offshore']\n",
      "Overall accuracy :  0.6461864406779663\n",
      "Sensitivity :  0.5415384615384616\n",
      "Specificity :  0.7490756302521008\n"
     ]
    },
    {
     "data": {
      "image/png": "[encoded data removed]",
      "text/plain": [
       "<Figure size 432x288 with 1 Axes>"
      ]
     },
     "metadata": {
      "needs_background": "light"
     },
     "output_type": "display_data"
    },
    {
     "name": "stdout",
     "output_type": "stream",
     "text": [
      "Drop: Rain48\n",
      "input data - ['Rain24' 'Rain72' 'RainWA' 'Wdirection' 'Wspeed' 'Solarhours' 'BeachType'\n",
      " 'BeachDirection' 'Wspeed_level' 'Wdirection_level' 'on_offshore']\n",
      "Overall accuracy :  0.6272457627118646\n",
      "Sensitivity :  0.5654700854700855\n",
      "Specificity :  0.6879831932773111\n"
     ]
    },
    {
     "data": {
      "image/png": "[encoded data removed]",
      "text/plain": [
       "<Figure size 432x288 with 1 Axes>"
      ]
     },
     "metadata": {
      "needs_background": "light"
     },
     "output_type": "display_data"
    },
    {
     "name": "stdout",
     "output_type": "stream",
     "text": [
      "Drop: Rain72\n",
      "input data - ['Rain24' 'Rain48' 'RainWA' 'Wdirection' 'Wspeed' 'Solarhours' 'BeachType'\n",
      " 'BeachDirection' 'Wspeed_level' 'Wdirection_level' 'on_offshore']\n",
      "Overall accuracy :  0.6327118644067798\n",
      "Sensitivity :  0.5779487179487179\n",
      "Specificity :  0.6865546218487398\n"
     ]
    },
    {
     "data": {
      "image/png": "[encoded data removed]",
      "text/plain": [
       "<Figure size 432x288 with 1 Axes>"
      ]
     },
     "metadata": {
      "needs_background": "light"
     },
     "output_type": "display_data"
    },
    {
     "name": "stdout",
     "output_type": "stream",
     "text": [
      "Drop: RainWA\n",
      "input data - ['Rain24' 'Rain48' 'Rain72' 'Wdirection' 'Wspeed' 'Solarhours' 'BeachType'\n",
      " 'BeachDirection' 'Wspeed_level' 'Wdirection_level' 'on_offshore']\n",
      "Overall accuracy :  0.6059322033898307\n",
      "Sensitivity :  0.5555555555555555\n",
      "Specificity :  0.6554621848739498\n"
     ]
    },
    {
     "data": {
      "image/png": "[encoded data removed]",
      "text/plain": [
       "<Figure size 432x288 with 1 Axes>"
      ]
     },
     "metadata": {
      "needs_background": "light"
     },
     "output_type": "display_data"
    },
    {
     "name": "stdout",
     "output_type": "stream",
     "text": [
      "Drop: Wdirection\n",
      "input data - ['Rain24' 'Rain48' 'Rain72' 'RainWA' 'Wspeed' 'Solarhours' 'BeachType'\n",
      " 'BeachDirection' 'Wspeed_level' 'Wdirection_level' 'on_offshore']\n",
      "Overall accuracy :  0.6059322033898307\n",
      "Sensitivity :  0.5555555555555555\n",
      "Specificity :  0.6554621848739498\n"
     ]
    },
    {
     "data": {
      "image/png": "[encoded data removed]",
      "text/plain": [
       "<Figure size 432x288 with 1 Axes>"
      ]
     },
     "metadata": {
      "needs_background": "light"
     },
     "output_type": "display_data"
    },
    {
     "name": "stdout",
     "output_type": "stream",
     "text": [
      "Drop: Wspeed\n",
      "input data - ['Rain24' 'Rain48' 'Rain72' 'RainWA' 'Wdirection' 'Solarhours' 'BeachType'\n",
      " 'BeachDirection' 'Wspeed_level' 'Wdirection_level' 'on_offshore']\n",
      "Overall accuracy :  0.6250423728813561\n",
      "Sensitivity :  0.5325641025641027\n",
      "Specificity :  0.715966386554622\n"
     ]
    },
    {
     "data": {
      "image/png": "[encoded data removed]",
      "text/plain": [
       "<Figure size 432x288 with 1 Axes>"
      ]
     },
     "metadata": {
      "needs_background": "light"
     },
     "output_type": "display_data"
    },
    {
     "name": "stdout",
     "output_type": "stream",
     "text": [
      "Drop: Solarhours\n",
      "input data - ['Rain24' 'Rain48' 'Rain72' 'RainWA' 'Wdirection' 'Wspeed' 'BeachType'\n",
      " 'BeachDirection' 'Wspeed_level' 'Wdirection_level' 'on_offshore']\n",
      "Overall accuracy :  0.621271186440678\n",
      "Sensitivity :  0.5165811965811966\n",
      "Specificity :  0.7242016806722691\n"
     ]
    },
    {
     "data": {
      "image/png": "[encoded data removed]",
      "text/plain": [
       "<Figure size 432x288 with 1 Axes>"
      ]
     },
     "metadata": {
      "needs_background": "light"
     },
     "output_type": "display_data"
    },
    {
     "name": "stdout",
     "output_type": "stream",
     "text": [
      "Drop: BeachType\n",
      "input data - ['Rain24' 'Rain48' 'Rain72' 'RainWA' 'Wdirection' 'Wspeed' 'Solarhours'\n",
      " 'BeachDirection' 'Wspeed_level' 'Wdirection_level' 'on_offshore']\n",
      "Overall accuracy :  0.6245338983050849\n",
      "Sensitivity :  0.5311965811965813\n",
      "Specificity :  0.7163025210084035\n"
     ]
    },
    {
     "data": {
      "image/png": "[encoded data removed]",
      "text/plain": [
       "<Figure size 432x288 with 1 Axes>"
      ]
     },
     "metadata": {
      "needs_background": "light"
     },
     "output_type": "display_data"
    },
    {
     "name": "stdout",
     "output_type": "stream",
     "text": [
      "Drop: BeachDirection\n",
      "input data - ['Rain24' 'Rain48' 'Rain72' 'RainWA' 'Wdirection' 'Wspeed' 'Solarhours'\n",
      " 'BeachType' 'Wspeed_level' 'Wdirection_level' 'on_offshore']\n",
      "Overall accuracy :  0.6141525423728814\n",
      "Sensitivity :  0.5040170940170942\n",
      "Specificity :  0.7224369747899161\n"
     ]
    },
    {
     "data": {
      "image/png": "[encoded data removed]",
      "text/plain": [
       "<Figure size 432x288 with 1 Axes>"
      ]
     },
     "metadata": {
      "needs_background": "light"
     },
     "output_type": "display_data"
    },
    {
     "name": "stdout",
     "output_type": "stream",
     "text": [
      "Drop: Wspeed_level\n",
      "input data - ['Rain24' 'Rain48' 'Rain72' 'RainWA' 'Wdirection' 'Wspeed' 'Solarhours'\n",
      " 'BeachType' 'BeachDirection' 'Wdirection_level' 'on_offshore']\n",
      "Overall accuracy :  0.6239406779661018\n",
      "Sensitivity :  0.5465811965811966\n",
      "Specificity :  0.7000000000000002\n"
     ]
    },
    {
     "data": {
      "image/png": "[encoded data removed]",
      "text/plain": [
       "<Figure size 432x288 with 1 Axes>"
      ]
     },
     "metadata": {
      "needs_background": "light"
     },
     "output_type": "display_data"
    },
    {
     "name": "stdout",
     "output_type": "stream",
     "text": [
      "Drop: Wdirection_level\n",
      "input data - ['Rain24' 'Rain48' 'Rain72' 'RainWA' 'Wdirection' 'Wspeed' 'Solarhours'\n",
      " 'BeachType' 'BeachDirection' 'Wspeed_level' 'on_offshore']\n",
      "Overall accuracy :  0.6242372881355933\n",
      "Sensitivity :  0.5884615384615385\n",
      "Specificity :  0.6594117647058825\n"
     ]
    },
    {
     "data": {
      "image/png": "[encoded data removed]",
      "text/plain": [
       "<Figure size 432x288 with 1 Axes>"
      ]
     },
     "metadata": {
      "needs_background": "light"
     },
     "output_type": "display_data"
    },
    {
     "name": "stdout",
     "output_type": "stream",
     "text": [
      "Drop: on_offshore\n",
      "input data - ['Rain24' 'Rain48' 'Rain72' 'RainWA' 'Wdirection' 'Wspeed' 'Solarhours'\n",
      " 'BeachType' 'BeachDirection' 'Wspeed_level' 'Wdirection_level']\n",
      "Overall accuracy :  0.6189406779661017\n",
      "Sensitivity :  0.5335897435897436\n",
      "Specificity :  0.7028571428571431\n"
     ]
    },
    {
     "data": {
      "image/png": "[encoded data removed]",
      "text/plain": [
       "<Figure size 432x288 with 1 Axes>"
      ]
     },
     "metadata": {
      "needs_background": "light"
     },
     "output_type": "display_data"
    },
    {
     "name": "stdout",
     "output_type": "stream",
     "text": [
      "Best sensitivity:  0.5884615384615385 after drop  ['Wdirection_level']\n",
      "Best accuracy:  0.6461864406779663 after drop  ['Rain24']\n"
     ]
    }
   ],
   "source": [
    "### BDT with ADASYN balanced data - drop one parameter each time to compare\n",
    "print(\"BDT model with ADASYN (n=10) balanced data----\")\n",
    "best_sen_drop=[]\n",
    "best_acc_drop=[]\n",
    "best_acc=j.mean()\n",
    "best_sen=sen.mean()\n",
    "for col in c:\n",
    "    print(\"Drop:\", col)\n",
    "    input_data = data_frame.drop(columns=[str(col),'Entero_level'])\n",
    "    entero_data = data_frame['Entero_level']\n",
    "    print(\"input data -\", end =\" \")\n",
    "    print(input_data.columns.values)\n",
    "    # Separate real above and real below data\n",
    "    index_above = (data_frame['Entero_level']==1)\n",
    "    index_below = (data_frame['Entero_level']==0)\n",
    "    input_real_above_data = data_frame[index_above]\n",
    "    input_real_below_data = data_frame[index_below]\n",
    "\n",
    "    # Use real above data form testset above data\n",
    "    testset_above_data = input_real_above_data.drop(columns=['Entero_level',str(col)])\n",
    "    water_above_label = input_real_above_data.iloc[:,0]\n",
    "    \n",
    "    # ADASYN\n",
    "    ada = ADASYN(sampling_strategy=1, n_neighbors=10)\n",
    "\n",
    "    # For loop\n",
    "    j=np.zeros(100)\n",
    "    sen=np.zeros(100)\n",
    "    spe=np.zeros(100)\n",
    "    for i in range(100):\n",
    "        # Generate synthetic sampling data with ADASYN\n",
    "        data_fake, entero_fake = ada.fit_resample(input_data, entero_data)\n",
    "        x=pd.DataFrame(data_fake, columns=input_data.columns)\n",
    "        y=pd.DataFrame(entero_fake, columns=['Entero_level'])\n",
    "        x['Entero_level']=y['Entero_level'].values\n",
    "        data_fake_frame=x.query(\"Entero_level == 1\")\n",
    "        data_fake_frame=data_fake_frame.reset_index(drop=True)\n",
    "        #data_fake_frame.describe()\n",
    "    \n",
    "        # Use synthetic data to form trainset above data\n",
    "        input_fake_data = data_fake_frame.iloc[:,0:-1]\n",
    "        water_fake_label = data_fake_frame.iloc[:,-1]\n",
    "    \n",
    "        # Split the real below data randomly - test set size matches real above data size\n",
    "        input_real_data = input_real_below_data.drop(columns=['Entero_level',str(col)])\n",
    "        entero_real_data = input_real_below_data.iloc[:,0]\n",
    "        trainset_below_data, testset_below_data, trainset_below_labels, testset_below_labels = train_test_split(input_real_data, entero_real_data, test_size=ratio, random_state=42)\n",
    "    \n",
    "        # Use fake above data plus real below data to form trainset\n",
    "        trainset_data = np.vstack((input_fake_data, trainset_below_data))\n",
    "        trainset_labels = np.hstack((water_fake_label, trainset_below_labels))\n",
    "    \n",
    "        # Use real above data plus same amount of real below data to form testset\n",
    "        testset_data = np.vstack((testset_above_data, testset_below_data))\n",
    "        testset_labels = np.hstack((water_above_label, testset_below_labels))\n",
    "    \n",
    "        # Train data normalization\n",
    "        sc = preprocessing.Normalizer().fit(trainset_data)\n",
    "        trainset_data = sc.transform(trainset_data)\n",
    "        testset_data = sc.transform(testset_data)\n",
    "    \n",
    "        # Run BDT\n",
    "        bdt=AdaBoost.fit(trainset_data, trainset_labels)\n",
    "        cm1 = confusion_matrix(testset_labels,bdt.predict(testset_data))\n",
    "        \n",
    "        total1=sum(sum(cm1))\n",
    "        #####from confusion matrix calculate accuracy\n",
    "        j[i] = (cm1[0,0]+cm1[1,1])/total1\n",
    "        sen[i] = cm1[1,1]/(cm1[1,0]+cm1[1,1])\n",
    "        spe[i] = cm1[0,0]/(cm1[0,0]+cm1[0,1])\n",
    "        i=i+1\n",
    "\n",
    "    #End of loop\n",
    "\n",
    "    # Show the BDT result\n",
    "    print ('Overall accuracy : ', j.mean())\n",
    "    print('Sensitivity : ', sen.mean())\n",
    "    print('Specificity : ', spe.mean())\n",
    "    if sen.mean()>best_sen:\n",
    "        best_sen=sen.mean()\n",
    "        best_sen_drop=[col]\n",
    "    if j.mean()>best_acc:\n",
    "        best_acc=j.mean()\n",
    "        best_acc_drop=[col]\n",
    "    plt.boxplot([j, sen, spe])\n",
    "    plt.xticks([1, 2, 3], [\"Accuracy\",\"Sensitivity\", \"Specificity\"])\n",
    "    plt.show()\n",
    "#End of loop\n",
    "\n",
    "print('Best sensitivity: ',best_sen, 'after drop ', best_sen_drop)\n",
    "print('Best accuracy: ', best_acc, 'after drop ', best_acc_drop)"
   ]
  },
  {
   "cell_type": "code",
   "execution_count": 8,
   "id": "7bcd1955",
   "metadata": {},
   "outputs": [],
   "source": [
    "# Pass best_sen_drop and best_acc_drop\n",
    "bsd = best_sen_drop\n",
    "bad = best_acc_drop"
   ]
  },
  {
   "cell_type": "code",
   "execution_count": 9,
   "id": "46db1b28",
   "metadata": {},
   "outputs": [
    {
     "name": "stdout",
     "output_type": "stream",
     "text": [
      "BDT model with ADASYN (n=10) balanced data----Best sensitivity drop ['Wdirection_level']\n",
      "Drop: Rain24\n",
      "input data - ['Rain48' 'Rain72' 'RainWA' 'Wdirection' 'Wspeed' 'Solarhours' 'BeachType'\n",
      " 'BeachDirection' 'Wspeed_level' 'on_offshore']\n",
      "Overall accuracy :  0.6616525423728813\n",
      "Sensitivity :  0.7010256410256411\n",
      "Specificity :  0.6229411764705882\n"
     ]
    },
    {
     "data": {
      "image/png": "[encoded data removed]",
      "text/plain": [
       "<Figure size 432x288 with 1 Axes>"
      ]
     },
     "metadata": {
      "needs_background": "light"
     },
     "output_type": "display_data"
    },
    {
     "name": "stdout",
     "output_type": "stream",
     "text": [
      "Drop: Rain48\n",
      "input data - ['Rain24' 'Rain72' 'RainWA' 'Wdirection' 'Wspeed' 'Solarhours' 'BeachType'\n",
      " 'BeachDirection' 'Wspeed_level' 'on_offshore']\n",
      "Overall accuracy :  0.6333050847457629\n",
      "Sensitivity :  0.604957264957265\n",
      "Specificity :  0.6611764705882357\n"
     ]
    },
    {
     "data": {
      "image/png": "[encoded data removed]",
      "text/plain": [
       "<Figure size 432x288 with 1 Axes>"
      ]
     },
     "metadata": {
      "needs_background": "light"
     },
     "output_type": "display_data"
    },
    {
     "name": "stdout",
     "output_type": "stream",
     "text": [
      "Drop: Rain72\n",
      "input data - ['Rain24' 'Rain48' 'RainWA' 'Wdirection' 'Wspeed' 'Solarhours' 'BeachType'\n",
      " 'BeachDirection' 'Wspeed_level' 'on_offshore']\n",
      "Overall accuracy :  0.6283898305084747\n",
      "Sensitivity :  0.601965811965812\n",
      "Specificity :  0.6543697478991598\n"
     ]
    },
    {
     "data": {
      "image/png": "[encoded data removed]",
      "text/plain": [
       "<Figure size 432x288 with 1 Axes>"
      ]
     },
     "metadata": {
      "needs_background": "light"
     },
     "output_type": "display_data"
    },
    {
     "name": "stdout",
     "output_type": "stream",
     "text": [
      "Drop: RainWA\n",
      "input data - ['Rain24' 'Rain48' 'Rain72' 'Wdirection' 'Wspeed' 'Solarhours' 'BeachType'\n",
      " 'BeachDirection' 'Wspeed_level' 'on_offshore']\n",
      "Overall accuracy :  0.6059322033898307\n",
      "Sensitivity :  0.5555555555555555\n",
      "Specificity :  0.6554621848739498\n"
     ]
    },
    {
     "data": {
      "image/png": "[encoded data removed]",
      "text/plain": [
       "<Figure size 432x288 with 1 Axes>"
      ]
     },
     "metadata": {
      "needs_background": "light"
     },
     "output_type": "display_data"
    },
    {
     "name": "stdout",
     "output_type": "stream",
     "text": [
      "Drop: Wdirection\n",
      "input data - ['Rain24' 'Rain48' 'Rain72' 'RainWA' 'Wspeed' 'Solarhours' 'BeachType'\n",
      " 'BeachDirection' 'Wspeed_level' 'on_offshore']\n",
      "Overall accuracy :  0.6059322033898307\n",
      "Sensitivity :  0.5555555555555555\n",
      "Specificity :  0.6554621848739498\n"
     ]
    },
    {
     "data": {
      "image/png": "[encoded data removed]",
      "text/plain": [
       "<Figure size 432x288 with 1 Axes>"
      ]
     },
     "metadata": {
      "needs_background": "light"
     },
     "output_type": "display_data"
    },
    {
     "name": "stdout",
     "output_type": "stream",
     "text": [
      "Drop: Wspeed\n",
      "input data - ['Rain24' 'Rain48' 'Rain72' 'RainWA' 'Wdirection' 'Solarhours' 'BeachType'\n",
      " 'BeachDirection' 'Wspeed_level' 'on_offshore']\n",
      "Overall accuracy :  0.630127118644068\n",
      "Sensitivity :  0.5988034188034189\n",
      "Specificity :  0.6609243697478995\n"
     ]
    },
    {
     "data": {
      "image/png": "[encoded data removed]",
      "text/plain": [
       "<Figure size 432x288 with 1 Axes>"
      ]
     },
     "metadata": {
      "needs_background": "light"
     },
     "output_type": "display_data"
    },
    {
     "name": "stdout",
     "output_type": "stream",
     "text": [
      "Drop: Solarhours\n",
      "input data - ['Rain24' 'Rain48' 'Rain72' 'RainWA' 'Wdirection' 'Wspeed' 'BeachType'\n",
      " 'BeachDirection' 'Wspeed_level' 'on_offshore']\n",
      "Overall accuracy :  0.622542372881356\n",
      "Sensitivity :  0.5886324786324786\n",
      "Specificity :  0.6558823529411767\n"
     ]
    },
    {
     "data": {
      "image/png": "[encoded data removed]",
      "text/plain": [
       "<Figure size 432x288 with 1 Axes>"
      ]
     },
     "metadata": {
      "needs_background": "light"
     },
     "output_type": "display_data"
    },
    {
     "name": "stdout",
     "output_type": "stream",
     "text": [
      "Drop: BeachType\n",
      "input data - ['Rain24' 'Rain48' 'Rain72' 'RainWA' 'Wdirection' 'Wspeed' 'Solarhours'\n",
      " 'BeachDirection' 'Wspeed_level' 'on_offshore']\n",
      "Overall accuracy :  0.6241525423728815\n",
      "Sensitivity :  0.5883760683760684\n",
      "Specificity :  0.6593277310924373\n"
     ]
    },
    {
     "data": {
      "image/png": "[encoded data removed]",
      "text/plain": [
       "<Figure size 432x288 with 1 Axes>"
      ]
     },
     "metadata": {
      "needs_background": "light"
     },
     "output_type": "display_data"
    },
    {
     "name": "stdout",
     "output_type": "stream",
     "text": [
      "Drop: BeachDirection\n",
      "input data - ['Rain24' 'Rain48' 'Rain72' 'RainWA' 'Wdirection' 'Wspeed' 'Solarhours'\n",
      " 'BeachType' 'Wspeed_level' 'on_offshore']\n",
      "Overall accuracy :  0.5929661016949154\n",
      "Sensitivity :  0.5955555555555555\n",
      "Specificity :  0.590420168067227\n"
     ]
    },
    {
     "data": {
      "image/png": "[encoded data removed]",
      "text/plain": [
       "<Figure size 432x288 with 1 Axes>"
      ]
     },
     "metadata": {
      "needs_background": "light"
     },
     "output_type": "display_data"
    },
    {
     "name": "stdout",
     "output_type": "stream",
     "text": [
      "Drop: Wspeed_level\n",
      "input data - ['Rain24' 'Rain48' 'Rain72' 'RainWA' 'Wdirection' 'Wspeed' 'Solarhours'\n",
      " 'BeachType' 'BeachDirection' 'on_offshore']\n",
      "Overall accuracy :  0.6218220338983051\n",
      "Sensitivity :  0.5906837606837607\n",
      "Specificity :  0.652436974789916\n"
     ]
    },
    {
     "data": {
      "image/png": "[encoded data removed]",
      "text/plain": [
       "<Figure size 432x288 with 1 Axes>"
      ]
     },
     "metadata": {
      "needs_background": "light"
     },
     "output_type": "display_data"
    },
    {
     "name": "stdout",
     "output_type": "stream",
     "text": [
      "Drop: on_offshore\n",
      "input data - ['Rain24' 'Rain48' 'Rain72' 'RainWA' 'Wdirection' 'Wspeed' 'Solarhours'\n",
      " 'BeachType' 'BeachDirection' 'Wspeed_level']\n",
      "Overall accuracy :  0.6149576271186441\n",
      "Sensitivity :  0.5753846153846154\n",
      "Specificity :  0.6538655462184876\n"
     ]
    },
    {
     "data": {
      "image/png": "[encoded data removed]",
      "text/plain": [
       "<Figure size 432x288 with 1 Axes>"
      ]
     },
     "metadata": {
      "needs_background": "light"
     },
     "output_type": "display_data"
    },
    {
     "name": "stdout",
     "output_type": "stream",
     "text": [
      "Best sensitivity:  0.7010256410256411 after drop  ['Wdirection_level', 'Rain24']\n",
      "Best accuracy:  0.6616525423728813 after drop  ['Wdirection_level', 'Rain24']\n"
     ]
    }
   ],
   "source": [
    "### BDT with ADASYN balanced data - based on best sensitivity - drop second parameter one each time to compare\n",
    "print(\"BDT model with ADASYN (n=10) balanced data----Best sensitivity drop\", bsd)\n",
    "data_frame2 = data_frame.drop(columns=bsd)\n",
    "c = data_frame2.columns\n",
    "c = c.delete(0)\n",
    "for col in c:\n",
    "    print(\"Drop:\", col)\n",
    "    input_data = data_frame2.drop(columns=[str(col),'Entero_level'])\n",
    "    entero_data = data_frame['Entero_level']\n",
    "    print(\"input data -\", end =\" \")\n",
    "    print(input_data.columns.values)\n",
    "    # Separate real above and real below data\n",
    "    index_above = (data_frame2['Entero_level']==1)\n",
    "    index_below = (data_frame2['Entero_level']==0)\n",
    "    input_real_above_data = data_frame2[index_above]\n",
    "    input_real_below_data = data_frame2[index_below]\n",
    "\n",
    "    # Use real above data form testset above data\n",
    "    testset_above_data = input_real_above_data.drop(columns=['Entero_level',str(col)])\n",
    "    water_above_label = input_real_above_data.iloc[:,0]\n",
    "    \n",
    "    # ADASYN\n",
    "    ada = ADASYN(sampling_strategy=1, n_neighbors=10)\n",
    "\n",
    "    # For loop\n",
    "    j=np.zeros(100)\n",
    "    sen=np.zeros(100)\n",
    "    spe=np.zeros(100)\n",
    "    for i in range(100):\n",
    "        # Generate synthetic sampling data with ADASYN\n",
    "        data_fake, entero_fake = ada.fit_resample(input_data, entero_data)\n",
    "        x=pd.DataFrame(data_fake, columns=input_data.columns)\n",
    "        y=pd.DataFrame(entero_fake, columns=['Entero_level'])\n",
    "        x['Entero_level']=y['Entero_level'].values\n",
    "        data_fake_frame=x.query(\"Entero_level == 1\")\n",
    "        data_fake_frame=data_fake_frame.reset_index(drop=True)\n",
    "        #data_fake_frame.describe()\n",
    "    \n",
    "        # Use synthetic data to form trainset above data\n",
    "        input_fake_data = data_fake_frame.iloc[:,0:-1]\n",
    "        water_fake_label = data_fake_frame.iloc[:,-1]\n",
    "    \n",
    "        # Split the real below data randomly - test set size matches real above data size\n",
    "        input_real_data = input_real_below_data.drop(columns=['Entero_level',str(col)])\n",
    "        entero_real_data = input_real_below_data.iloc[:,0]\n",
    "        trainset_below_data, testset_below_data, trainset_below_labels, testset_below_labels = train_test_split(input_real_data, entero_real_data, test_size=ratio, random_state=42)\n",
    "    \n",
    "        # Use fake above data plus real below data to form trainset\n",
    "        trainset_data = np.vstack((input_fake_data, trainset_below_data))\n",
    "        trainset_labels = np.hstack((water_fake_label, trainset_below_labels))\n",
    "        \n",
    "        # Use real above data plus same amount of real below data to form testset\n",
    "        testset_data = np.vstack((testset_above_data, testset_below_data))\n",
    "        testset_labels = np.hstack((water_above_label, testset_below_labels))\n",
    "    \n",
    "        # Train data normalization\n",
    "        sc = preprocessing.Normalizer().fit(trainset_data)\n",
    "        trainset_data = sc.transform(trainset_data)\n",
    "        testset_data = sc.transform(testset_data)\n",
    "    \n",
    "        # Run BDT\n",
    "        bdt=AdaBoost.fit(trainset_data, trainset_labels)\n",
    "        cm1 = confusion_matrix(testset_labels,bdt.predict(testset_data))\n",
    "        total1=sum(sum(cm1))\n",
    "        #####from confusion matrix calculate accuracy\n",
    "        j[i] = (cm1[0,0]+cm1[1,1])/total1\n",
    "        sen[i] = cm1[1,1]/(cm1[1,0]+cm1[1,1])\n",
    "        spe[i] = cm1[0,0]/(cm1[0,0]+cm1[0,1])\n",
    "        i=i+1\n",
    "    \n",
    "    #End of loop\n",
    "\n",
    "    # Show the KNN result\n",
    "    print ('Overall accuracy : ', j.mean())\n",
    "    print('Sensitivity : ', sen.mean())\n",
    "    print('Specificity : ', spe.mean())\n",
    "    if sen.mean()>best_sen:\n",
    "        best_sen=sen.mean()\n",
    "        best_sen_drop=bsd+list([col])\n",
    "    if j.mean()>best_acc:\n",
    "        best_acc=j.mean()\n",
    "        best_acc_drop=bsd+list([col])\n",
    "    plt.boxplot([j, sen, spe])\n",
    "    plt.xticks([1, 2, 3], [\"Accuracy\",\"Sensitivity\", \"Specificity\"])\n",
    "    plt.show()\n",
    "#End of loop\n",
    "\n",
    "print('Best sensitivity: ',best_sen, 'after drop ', best_sen_drop)\n",
    "print('Best accuracy: ', best_acc, 'after drop ', best_acc_drop)"
   ]
  },
  {
   "cell_type": "code",
   "execution_count": 10,
   "id": "ef75cc31",
   "metadata": {},
   "outputs": [],
   "source": [
    "# Pass best_sen_drop and best_acc_drop\n",
    "bsd = best_sen_drop\n",
    "bad = best_acc_drop"
   ]
  },
  {
   "cell_type": "code",
   "execution_count": 11,
   "id": "ca918757",
   "metadata": {},
   "outputs": [
    {
     "name": "stdout",
     "output_type": "stream",
     "text": [
      "BDT model with ADASYN (n=10) balanced data----Best sensitivity drop ['Wdirection_level', 'Rain24']\n",
      "Drop: Rain48\n",
      "input data - ['Rain72' 'RainWA' 'Wdirection' 'Wspeed' 'Solarhours' 'BeachType'\n",
      " 'BeachDirection' 'Wspeed_level' 'on_offshore']\n",
      "Overall accuracy :  0.6730084745762713\n",
      "Sensitivity :  0.7038461538461541\n",
      "Specificity :  0.6426890756302521\n"
     ]
    },
    {
     "data": {
      "image/png": "[encoded data removed]",
      "text/plain": [
       "<Figure size 432x288 with 1 Axes>"
      ]
     },
     "metadata": {
      "needs_background": "light"
     },
     "output_type": "display_data"
    },
    {
     "name": "stdout",
     "output_type": "stream",
     "text": [
      "Drop: Rain72\n",
      "input data - ['Rain48' 'RainWA' 'Wdirection' 'Wspeed' 'Solarhours' 'BeachType'\n",
      " 'BeachDirection' 'Wspeed_level' 'on_offshore']\n",
      "Overall accuracy :  0.658177966101695\n",
      "Sensitivity :  0.6988034188034188\n",
      "Specificity :  0.6182352941176472\n"
     ]
    },
    {
     "data": {
      "image/png": "[encoded data removed]",
      "text/plain": [
       "<Figure size 432x288 with 1 Axes>"
      ]
     },
     "metadata": {
      "needs_background": "light"
     },
     "output_type": "display_data"
    },
    {
     "name": "stdout",
     "output_type": "stream",
     "text": [
      "Drop: RainWA\n",
      "input data - ['Rain48' 'Rain72' 'Wdirection' 'Wspeed' 'Solarhours' 'BeachType'\n",
      " 'BeachDirection' 'Wspeed_level' 'on_offshore']\n",
      "Overall accuracy :  0.5790677966101696\n",
      "Sensitivity :  0.7444444444444445\n",
      "Specificity :  0.41647058823529415\n"
     ]
    },
    {
     "data": {
      "image/png": "[encoded data removed]",
      "text/plain": [
       "<Figure size 432x288 with 1 Axes>"
      ]
     },
     "metadata": {
      "needs_background": "light"
     },
     "output_type": "display_data"
    },
    {
     "name": "stdout",
     "output_type": "stream",
     "text": [
      "Drop: Wdirection\n",
      "input data - ['Rain48' 'Rain72' 'RainWA' 'Wspeed' 'Solarhours' 'BeachType'\n",
      " 'BeachDirection' 'Wspeed_level' 'on_offshore']\n",
      "Overall accuracy :  0.5623728813559322\n",
      "Sensitivity :  0.6286324786324786\n",
      "Specificity :  0.49722689075630255\n"
     ]
    },
    {
     "data": {
      "image/png": "[encoded data removed]",
      "text/plain": [
       "<Figure size 432x288 with 1 Axes>"
      ]
     },
     "metadata": {
      "needs_background": "light"
     },
     "output_type": "display_data"
    },
    {
     "name": "stdout",
     "output_type": "stream",
     "text": [
      "Drop: Wspeed\n",
      "input data - ['Rain48' 'Rain72' 'RainWA' 'Wdirection' 'Solarhours' 'BeachType'\n",
      " 'BeachDirection' 'Wspeed_level' 'on_offshore']\n",
      "Overall accuracy :  0.6638559322033898\n",
      "Sensitivity :  0.7039316239316241\n",
      "Specificity :  0.6244537815126051\n"
     ]
    },
    {
     "data": {
      "image/png": "[encoded data removed]",
      "text/plain": [
       "<Figure size 432x288 with 1 Axes>"
      ]
     },
     "metadata": {
      "needs_background": "light"
     },
     "output_type": "display_data"
    },
    {
     "name": "stdout",
     "output_type": "stream",
     "text": [
      "Drop: Solarhours\n",
      "input data - ['Rain48' 'Rain72' 'RainWA' 'Wdirection' 'Wspeed' 'BeachType'\n",
      " 'BeachDirection' 'Wspeed_level' 'on_offshore']\n",
      "Overall accuracy :  0.6652542372881355\n",
      "Sensitivity :  0.6989743589743591\n",
      "Specificity :  0.6321008403361345\n"
     ]
    },
    {
     "data": {
      "image/png": "[encoded data removed]",
      "text/plain": [
       "<Figure size 432x288 with 1 Axes>"
      ]
     },
     "metadata": {
      "needs_background": "light"
     },
     "output_type": "display_data"
    },
    {
     "name": "stdout",
     "output_type": "stream",
     "text": [
      "Drop: BeachType\n",
      "input data - ['Rain48' 'Rain72' 'RainWA' 'Wdirection' 'Wspeed' 'Solarhours'\n",
      " 'BeachDirection' 'Wspeed_level' 'on_offshore']\n",
      "Overall accuracy :  0.6655508474576273\n",
      "Sensitivity :  0.7035897435897438\n",
      "Specificity :  0.6281512605042017\n"
     ]
    },
    {
     "data": {
      "image/png": "[encoded data removed]",
      "text/plain": [
       "<Figure size 432x288 with 1 Axes>"
      ]
     },
     "metadata": {
      "needs_background": "light"
     },
     "output_type": "display_data"
    },
    {
     "name": "stdout",
     "output_type": "stream",
     "text": [
      "Drop: BeachDirection\n",
      "input data - ['Rain48' 'Rain72' 'RainWA' 'Wdirection' 'Wspeed' 'Solarhours' 'BeachType'\n",
      " 'Wspeed_level' 'on_offshore']\n",
      "Overall accuracy :  0.5338983050847458\n",
      "Sensitivity :  0.7777777777777776\n",
      "Specificity :  0.29411764705882343\n"
     ]
    },
    {
     "data": {
      "image/png": "[encoded data removed]",
      "text/plain": [
       "<Figure size 432x288 with 1 Axes>"
      ]
     },
     "metadata": {
      "needs_background": "light"
     },
     "output_type": "display_data"
    },
    {
     "name": "stdout",
     "output_type": "stream",
     "text": [
      "Drop: Wspeed_level\n",
      "input data - ['Rain48' 'Rain72' 'RainWA' 'Wdirection' 'Wspeed' 'Solarhours' 'BeachType'\n",
      " 'BeachDirection' 'on_offshore']\n",
      "Overall accuracy :  0.6683898305084746\n",
      "Sensitivity :  0.70008547008547\n",
      "Specificity :  0.6372268907563027\n"
     ]
    },
    {
     "data": {
      "image/png": "[encoded data removed]",
      "text/plain": [
       "<Figure size 432x288 with 1 Axes>"
      ]
     },
     "metadata": {
      "needs_background": "light"
     },
     "output_type": "display_data"
    },
    {
     "name": "stdout",
     "output_type": "stream",
     "text": [
      "Drop: on_offshore\n",
      "input data - ['Rain48' 'Rain72' 'RainWA' 'Wdirection' 'Wspeed' 'Solarhours' 'BeachType'\n",
      " 'BeachDirection' 'Wspeed_level']\n",
      "Overall accuracy :  0.6634745762711864\n",
      "Sensitivity :  0.7018803418803421\n",
      "Specificity :  0.6257142857142857\n"
     ]
    },
    {
     "data": {
      "image/png": "[encoded data removed]",
      "text/plain": [
       "<Figure size 432x288 with 1 Axes>"
      ]
     },
     "metadata": {
      "needs_background": "light"
     },
     "output_type": "display_data"
    },
    {
     "name": "stdout",
     "output_type": "stream",
     "text": [
      "Best sensitivity:  0.7777777777777776 after drop  ['Wdirection_level', 'Rain24', 'BeachDirection']\n",
      "Best accuracy:  0.6730084745762713 after drop  ['Wdirection_level', 'Rain24', 'Rain48']\n"
     ]
    }
   ],
   "source": [
    "### BDT with ADASYN balanced data - based on best sensitivity - drop 3rd parameter one each time to compare\n",
    "print(\"BDT model with ADASYN (n=10) balanced data----Best sensitivity drop\", bsd)\n",
    "data_frame2 = data_frame.drop(columns=bsd)\n",
    "c = data_frame2.columns\n",
    "c = c.delete(0)\n",
    "for col in c:\n",
    "    print(\"Drop:\", col)\n",
    "    input_data = data_frame2.drop(columns=[str(col),'Entero_level'])\n",
    "    entero_data = data_frame['Entero_level']\n",
    "    print(\"input data -\", end =\" \")\n",
    "    print(input_data.columns.values)\n",
    "    # Separate real above and real below data\n",
    "    index_above = (data_frame2['Entero_level']==1)\n",
    "    index_below = (data_frame2['Entero_level']==0)\n",
    "    input_real_above_data = data_frame2[index_above]\n",
    "    input_real_below_data = data_frame2[index_below]\n",
    "\n",
    "    # Use real above data form testset above data\n",
    "    testset_above_data = input_real_above_data.drop(columns=['Entero_level',str(col)])\n",
    "    water_above_label = input_real_above_data.iloc[:,0]\n",
    "    \n",
    "    # ADASYN\n",
    "    ada = ADASYN(sampling_strategy=1, n_neighbors=10)\n",
    "\n",
    "    # For loop\n",
    "    j=np.zeros(100)\n",
    "    sen=np.zeros(100)\n",
    "    spe=np.zeros(100)\n",
    "    for i in range(100):\n",
    "        # Generate synthetic sampling data with ADASYN\n",
    "        data_fake, entero_fake = ada.fit_resample(input_data, entero_data)\n",
    "        x=pd.DataFrame(data_fake, columns=input_data.columns)\n",
    "        y=pd.DataFrame(entero_fake, columns=['Entero_level'])\n",
    "        x['Entero_level']=y['Entero_level'].values\n",
    "        data_fake_frame=x.query(\"Entero_level == 1\")\n",
    "        data_fake_frame=data_fake_frame.reset_index(drop=True)\n",
    "        #data_fake_frame.describe()\n",
    "    \n",
    "        # Use synthetic data to form trainset above data\n",
    "        input_fake_data = data_fake_frame.iloc[:,0:-1]\n",
    "        water_fake_label = data_fake_frame.iloc[:,-1]\n",
    "    \n",
    "        # Split the real below data randomly - test set size matches real above data size\n",
    "        input_real_data = input_real_below_data.drop(columns=['Entero_level',str(col)])\n",
    "        entero_real_data = input_real_below_data.iloc[:,0]\n",
    "        trainset_below_data, testset_below_data, trainset_below_labels, testset_below_labels = train_test_split(input_real_data, entero_real_data, test_size=ratio, random_state=42)\n",
    "    \n",
    "        # Use fake above data plus real below data to form trainset\n",
    "        trainset_data = np.vstack((input_fake_data, trainset_below_data))\n",
    "        trainset_labels = np.hstack((water_fake_label, trainset_below_labels))\n",
    "        \n",
    "        # Use real above data plus same amount of real below data to form testset\n",
    "        testset_data = np.vstack((testset_above_data, testset_below_data))\n",
    "        testset_labels = np.hstack((water_above_label, testset_below_labels))\n",
    "    \n",
    "        # Train data normalization\n",
    "        sc = preprocessing.Normalizer().fit(trainset_data)\n",
    "        trainset_data = sc.transform(trainset_data)\n",
    "        testset_data = sc.transform(testset_data)\n",
    "    \n",
    "        # Run BDT\n",
    "        bdt=AdaBoost.fit(trainset_data, trainset_labels)\n",
    "        cm1 = confusion_matrix(testset_labels,bdt.predict(testset_data))\n",
    "        total1=sum(sum(cm1))\n",
    "        #####from confusion matrix calculate accuracy\n",
    "        j[i] = (cm1[0,0]+cm1[1,1])/total1\n",
    "        sen[i] = cm1[1,1]/(cm1[1,0]+cm1[1,1])\n",
    "        spe[i] = cm1[0,0]/(cm1[0,0]+cm1[0,1])\n",
    "        i=i+1\n",
    "    \n",
    "    #End of loop\n",
    "\n",
    "    # Show the KNN result\n",
    "    print ('Overall accuracy : ', j.mean())\n",
    "    print('Sensitivity : ', sen.mean())\n",
    "    print('Specificity : ', spe.mean())\n",
    "    if sen.mean()>best_sen:\n",
    "        best_sen=sen.mean()\n",
    "        best_sen_drop=bsd+list([col])\n",
    "    if j.mean()>best_acc:\n",
    "        best_acc=j.mean()\n",
    "        best_acc_drop=bsd+list([col])\n",
    "    plt.boxplot([j, sen, spe])\n",
    "    plt.xticks([1, 2, 3], [\"Accuracy\",\"Sensitivity\", \"Specificity\"])\n",
    "    plt.show()\n",
    "#End of loop\n",
    "\n",
    "print('Best sensitivity: ',best_sen, 'after drop ', best_sen_drop)\n",
    "print('Best accuracy: ', best_acc, 'after drop ', best_acc_drop)"
   ]
  },
  {
   "cell_type": "code",
   "execution_count": 13,
   "id": "fd7545eb",
   "metadata": {},
   "outputs": [],
   "source": [
    "# Pass best_sen_drop and best_acc_drop\n",
    "bsd = best_sen_drop\n",
    "bad = best_acc_drop"
   ]
  },
  {
   "cell_type": "code",
   "execution_count": 14,
   "id": "9c9b27cc",
   "metadata": {},
   "outputs": [
    {
     "name": "stdout",
     "output_type": "stream",
     "text": [
      "BDT model with ADASYN (n=10) balanced data----Best sensitivity drop ['Wdirection_level', 'Rain24', 'BeachDirection']\n",
      "Drop: Rain48\n",
      "input data - ['Rain72' 'RainWA' 'Wdirection' 'Wspeed' 'Solarhours' 'BeachType'\n",
      " 'Wspeed_level' 'on_offshore']\n",
      "Overall accuracy :  0.5338983050847458\n",
      "Sensitivity :  0.7777777777777776\n",
      "Specificity :  0.29411764705882343\n"
     ]
    },
    {
     "data": {
      "image/png": "[encoded data removed]",
      "text/plain": [
       "<Figure size 432x288 with 1 Axes>"
      ]
     },
     "metadata": {
      "needs_background": "light"
     },
     "output_type": "display_data"
    },
    {
     "name": "stdout",
     "output_type": "stream",
     "text": [
      "Drop: Rain72\n",
      "input data - ['Rain48' 'RainWA' 'Wdirection' 'Wspeed' 'Solarhours' 'BeachType'\n",
      " 'Wspeed_level' 'on_offshore']\n",
      "Overall accuracy :  0.5338983050847458\n",
      "Sensitivity :  0.7777777777777776\n",
      "Specificity :  0.29411764705882343\n"
     ]
    },
    {
     "data": {
      "image/png": "[encoded data removed]",
      "text/plain": [
       "<Figure size 432x288 with 1 Axes>"
      ]
     },
     "metadata": {
      "needs_background": "light"
     },
     "output_type": "display_data"
    },
    {
     "name": "stdout",
     "output_type": "stream",
     "text": [
      "Drop: RainWA\n",
      "input data - ['Rain48' 'Rain72' 'Wdirection' 'Wspeed' 'Solarhours' 'BeachType'\n",
      " 'Wspeed_level' 'on_offshore']\n",
      "Overall accuracy :  0.5338983050847458\n",
      "Sensitivity :  0.7777777777777776\n",
      "Specificity :  0.29411764705882343\n"
     ]
    },
    {
     "data": {
      "image/png": "[encoded data removed]",
      "text/plain": [
       "<Figure size 432x288 with 1 Axes>"
      ]
     },
     "metadata": {
      "needs_background": "light"
     },
     "output_type": "display_data"
    },
    {
     "name": "stdout",
     "output_type": "stream",
     "text": [
      "Drop: Wdirection\n",
      "input data - ['Rain48' 'Rain72' 'RainWA' 'Wspeed' 'Solarhours' 'BeachType'\n",
      " 'Wspeed_level' 'on_offshore']\n",
      "Overall accuracy :  0.613771186440678\n",
      "Sensitivity :  0.4464957264957265\n",
      "Specificity :  0.7782352941176471\n"
     ]
    },
    {
     "data": {
      "image/png": "[encoded data removed]",
      "text/plain": [
       "<Figure size 432x288 with 1 Axes>"
      ]
     },
     "metadata": {
      "needs_background": "light"
     },
     "output_type": "display_data"
    },
    {
     "name": "stdout",
     "output_type": "stream",
     "text": [
      "Drop: Wspeed\n",
      "input data - ['Rain48' 'Rain72' 'RainWA' 'Wdirection' 'Solarhours' 'BeachType'\n",
      " 'Wspeed_level' 'on_offshore']\n",
      "Overall accuracy :  0.5338983050847458\n",
      "Sensitivity :  0.7777777777777776\n",
      "Specificity :  0.29411764705882343\n"
     ]
    },
    {
     "data": {
      "image/png": "[encoded data removed]",
      "text/plain": [
       "<Figure size 432x288 with 1 Axes>"
      ]
     },
     "metadata": {
      "needs_background": "light"
     },
     "output_type": "display_data"
    },
    {
     "name": "stdout",
     "output_type": "stream",
     "text": [
      "Drop: Solarhours\n",
      "input data - ['Rain48' 'Rain72' 'RainWA' 'Wdirection' 'Wspeed' 'BeachType'\n",
      " 'Wspeed_level' 'on_offshore']\n",
      "Overall accuracy :  0.5338983050847458\n",
      "Sensitivity :  0.7777777777777776\n",
      "Specificity :  0.29411764705882343\n"
     ]
    },
    {
     "data": {
      "image/png": "[encoded data removed]",
      "text/plain": [
       "<Figure size 432x288 with 1 Axes>"
      ]
     },
     "metadata": {
      "needs_background": "light"
     },
     "output_type": "display_data"
    },
    {
     "name": "stdout",
     "output_type": "stream",
     "text": [
      "Drop: BeachType\n",
      "input data - ['Rain48' 'Rain72' 'RainWA' 'Wdirection' 'Wspeed' 'Solarhours'\n",
      " 'Wspeed_level' 'on_offshore']\n",
      "Overall accuracy :  0.5338983050847458\n",
      "Sensitivity :  0.7777777777777776\n",
      "Specificity :  0.29411764705882343\n"
     ]
    },
    {
     "data": {
      "image/png": "[encoded data removed]",
      "text/plain": [
       "<Figure size 432x288 with 1 Axes>"
      ]
     },
     "metadata": {
      "needs_background": "light"
     },
     "output_type": "display_data"
    },
    {
     "name": "stdout",
     "output_type": "stream",
     "text": [
      "Drop: Wspeed_level\n",
      "input data - ['Rain48' 'Rain72' 'RainWA' 'Wdirection' 'Wspeed' 'Solarhours' 'BeachType'\n",
      " 'on_offshore']\n",
      "Overall accuracy :  0.5338983050847458\n",
      "Sensitivity :  0.7777777777777776\n",
      "Specificity :  0.29411764705882343\n"
     ]
    },
    {
     "data": {
      "image/png": "[encoded data removed]",
      "text/plain": [
       "<Figure size 432x288 with 1 Axes>"
      ]
     },
     "metadata": {
      "needs_background": "light"
     },
     "output_type": "display_data"
    },
    {
     "name": "stdout",
     "output_type": "stream",
     "text": [
      "Drop: on_offshore\n",
      "input data - ['Rain48' 'Rain72' 'RainWA' 'Wdirection' 'Wspeed' 'Solarhours' 'BeachType'\n",
      " 'Wspeed_level']\n",
      "Overall accuracy :  0.5338983050847458\n",
      "Sensitivity :  0.7777777777777776\n",
      "Specificity :  0.29411764705882343\n"
     ]
    },
    {
     "data": {
      "image/png": "[encoded data removed]",
      "text/plain": [
       "<Figure size 432x288 with 1 Axes>"
      ]
     },
     "metadata": {
      "needs_background": "light"
     },
     "output_type": "display_data"
    },
    {
     "name": "stdout",
     "output_type": "stream",
     "text": [
      "Best sensitivity:  0.7777777777777776 after drop  ['Wdirection_level', 'Rain24', 'BeachDirection']\n",
      "Best accuracy:  0.6730084745762713 after drop  ['Wdirection_level', 'Rain24', 'Rain48']\n"
     ]
    }
   ],
   "source": [
    "### BDT with ADASYN balanced data - based on best sensitivity - drop 4th parameter one each time to compare\n",
    "print(\"BDT model with ADASYN (n=10) balanced data----Best sensitivity drop\", bsd)\n",
    "data_frame2 = data_frame.drop(columns=bsd)\n",
    "c = data_frame2.columns\n",
    "c = c.delete(0)\n",
    "for col in c:\n",
    "    print(\"Drop:\", col)\n",
    "    input_data = data_frame2.drop(columns=[str(col),'Entero_level'])\n",
    "    entero_data = data_frame['Entero_level']\n",
    "    print(\"input data -\", end =\" \")\n",
    "    print(input_data.columns.values)\n",
    "    # Separate real above and real below data\n",
    "    index_above = (data_frame2['Entero_level']==1)\n",
    "    index_below = (data_frame2['Entero_level']==0)\n",
    "    input_real_above_data = data_frame2[index_above]\n",
    "    input_real_below_data = data_frame2[index_below]\n",
    "\n",
    "    # Use real above data form testset above data\n",
    "    testset_above_data = input_real_above_data.drop(columns=['Entero_level',str(col)])\n",
    "    water_above_label = input_real_above_data.iloc[:,0]\n",
    "    \n",
    "    # ADASYN\n",
    "    ada = ADASYN(sampling_strategy=1, n_neighbors=10)\n",
    "\n",
    "    # For loop\n",
    "    j=np.zeros(100)\n",
    "    sen=np.zeros(100)\n",
    "    spe=np.zeros(100)\n",
    "    for i in range(100):\n",
    "        # Generate synthetic sampling data with ADASYN\n",
    "        data_fake, entero_fake = ada.fit_resample(input_data, entero_data)\n",
    "        x=pd.DataFrame(data_fake, columns=input_data.columns)\n",
    "        y=pd.DataFrame(entero_fake, columns=['Entero_level'])\n",
    "        x['Entero_level']=y['Entero_level'].values\n",
    "        data_fake_frame=x.query(\"Entero_level == 1\")\n",
    "        data_fake_frame=data_fake_frame.reset_index(drop=True)\n",
    "        #data_fake_frame.describe()\n",
    "    \n",
    "        # Use synthetic data to form trainset above data\n",
    "        input_fake_data = data_fake_frame.iloc[:,0:-1]\n",
    "        water_fake_label = data_fake_frame.iloc[:,-1]\n",
    "    \n",
    "        # Split the real below data randomly - test set size matches real above data size\n",
    "        input_real_data = input_real_below_data.drop(columns=['Entero_level',str(col)])\n",
    "        entero_real_data = input_real_below_data.iloc[:,0]\n",
    "        trainset_below_data, testset_below_data, trainset_below_labels, testset_below_labels = train_test_split(input_real_data, entero_real_data, test_size=ratio, random_state=42)\n",
    "    \n",
    "        # Use fake above data plus real below data to form trainset\n",
    "        trainset_data = np.vstack((input_fake_data, trainset_below_data))\n",
    "        trainset_labels = np.hstack((water_fake_label, trainset_below_labels))\n",
    "        \n",
    "        # Use real above data plus same amount of real below data to form testset\n",
    "        testset_data = np.vstack((testset_above_data, testset_below_data))\n",
    "        testset_labels = np.hstack((water_above_label, testset_below_labels))\n",
    "    \n",
    "        # Train data normalization\n",
    "        sc = preprocessing.Normalizer().fit(trainset_data)\n",
    "        trainset_data = sc.transform(trainset_data)\n",
    "        testset_data = sc.transform(testset_data)\n",
    "    \n",
    "        # Run BDT\n",
    "        bdt=AdaBoost.fit(trainset_data, trainset_labels)\n",
    "        cm1 = confusion_matrix(testset_labels,bdt.predict(testset_data))\n",
    "        total1=sum(sum(cm1))\n",
    "        #####from confusion matrix calculate accuracy\n",
    "        j[i] = (cm1[0,0]+cm1[1,1])/total1\n",
    "        sen[i] = cm1[1,1]/(cm1[1,0]+cm1[1,1])\n",
    "        spe[i] = cm1[0,0]/(cm1[0,0]+cm1[0,1])\n",
    "        i=i+1\n",
    "    \n",
    "    #End of loop\n",
    "\n",
    "    # Show the KNN result\n",
    "    print ('Overall accuracy : ', j.mean())\n",
    "    print('Sensitivity : ', sen.mean())\n",
    "    print('Specificity : ', spe.mean())\n",
    "    if sen.mean()>best_sen:\n",
    "        best_sen=sen.mean()\n",
    "        best_sen_drop=bsd+list([col])\n",
    "    if j.mean()>best_acc:\n",
    "        best_acc=j.mean()\n",
    "        best_acc_drop=bsd+list([col])\n",
    "    plt.boxplot([j, sen, spe])\n",
    "    plt.xticks([1, 2, 3], [\"Accuracy\",\"Sensitivity\", \"Specificity\"])\n",
    "    plt.show()\n",
    "#End of loop\n",
    "\n",
    "print('Best sensitivity: ',best_sen, 'after drop ', best_sen_drop)\n",
    "print('Best accuracy: ', best_acc, 'after drop ', best_acc_drop)"
   ]
  },
  {
   "cell_type": "code",
   "execution_count": 16,
   "id": "5f212deb",
   "metadata": {},
   "outputs": [
    {
     "name": "stdout",
     "output_type": "stream",
     "text": [
      "There are no more improvement from drop additional parameters.\n",
      "The best sensitivity is:  0.7777777777777776 after drop  ['Wdirection_level', 'Rain24', 'BeachDirection']\n",
      "The best accuracy is:  0.6730084745762713 after drop  ['Wdirection_level', 'Rain24', 'Rain48']\n"
     ]
    }
   ],
   "source": [
    "print(\"There are no more improvement from drop additional parameters.\")\n",
    "print('The best sensitivity is: ',best_sen, 'after drop ', best_sen_drop)\n",
    "print('The best accuracy is: ', best_acc, 'after drop ', best_acc_drop)"
   ]
  },
  {
   "cell_type": "code",
   "execution_count": 17,
   "id": "1bc7b26b",
   "metadata": {},
   "outputs": [
    {
     "name": "stdout",
     "output_type": "stream",
     "text": [
      "<class 'pandas.core.frame.DataFrame'>\n",
      "RangeIndex: 201 entries, 0 to 200\n",
      "Data columns (total 13 columns):\n",
      " #   Column            Non-Null Count  Dtype  \n",
      "---  ------            --------------  -----  \n",
      " 0   Entero_level      201 non-null    int64  \n",
      " 1   Rain24            201 non-null    float64\n",
      " 2   Rain48            201 non-null    float64\n",
      " 3   Rain72            201 non-null    float64\n",
      " 4   RainWA            201 non-null    float64\n",
      " 5   Wdirection        201 non-null    int64  \n",
      " 6   Wspeed            201 non-null    float64\n",
      " 7   Solarhours        201 non-null    float64\n",
      " 8   BeachType         201 non-null    int64  \n",
      " 9   BeachDirection    201 non-null    int64  \n",
      " 10  Wspeed_level      201 non-null    int64  \n",
      " 11  Wdirection_level  201 non-null    int64  \n",
      " 12  on_offshore       201 non-null    int64  \n",
      "dtypes: float64(6), int64(7)\n",
      "memory usage: 20.5 KB\n"
     ]
    }
   ],
   "source": [
    "# Best models test on separate test-set\n",
    "\n",
    "# Import testset\n",
    "testset = pd.read_csv(\"PB5_testset.csv\")\n",
    "\n",
    "# Delete columns \"DATE\",\"Entero\",\"BeachName\"\n",
    "test_set = testset.drop(columns=['Entero','DATE','BeachName'])\n",
    "\n",
    "# Move column \"Entero_level\" to the front\n",
    "test_set = test_set[ ['Entero_level'] + [ col for col in test_set.columns if col != 'Entero_level' ] ]\n",
    "test_set.info()"
   ]
  },
  {
   "cell_type": "code",
   "execution_count": 18,
   "id": "09ef848b",
   "metadata": {},
   "outputs": [
    {
     "name": "stdout",
     "output_type": "stream",
     "text": [
      "['Rain72' 'RainWA' 'Wdirection' 'Wspeed' 'Solarhours' 'BeachType'\n",
      " 'BeachDirection' 'Wspeed_level' 'on_offshore']\n",
      "Confusion matrix\n",
      "[[88 81]\n",
      " [ 5 27]]\n",
      "Accuracy :  0.572139303482587\n",
      "Sensitivity :  0.84375\n",
      "Specificity :  0.5207100591715976\n"
     ]
    }
   ],
   "source": [
    "# Best accuracy model test on separate test-set\n",
    "input_data = data_frame.drop(columns=['Entero_level'])\n",
    "input_data = input_data.drop(columns=best_acc_drop)\n",
    "entero_data = data_frame['Entero_level']\n",
    "c = input_data.columns\n",
    "print(input_data.columns.values)\n",
    "\n",
    "# Separate real above and real below data\n",
    "index_above = (data_frame['Entero_level']==1)\n",
    "index_below = (data_frame['Entero_level']==0)\n",
    "input_real_above_data = data_frame[index_above]\n",
    "input_real_below_data = data_frame[index_below]\n",
    "\n",
    "# ADASYN\n",
    "ada = ADASYN(sampling_strategy=1, n_neighbors=10)\n",
    "\n",
    "# Generate synthetic sampling data with ADASYN\n",
    "data_fake, entero_fake = ada.fit_resample(input_data, entero_data)\n",
    "x=pd.DataFrame(data_fake, columns=c)\n",
    "y=pd.DataFrame(entero_fake, columns=['Entero_level'])\n",
    "x['Entero_level']=y['Entero_level'].values\n",
    "data_fake_frame=x.query(\"Entero_level == 1\")\n",
    "data_fake_frame=data_fake_frame.reset_index(drop=True)\n",
    "#data_fake_frame.describe()\n",
    "    \n",
    "# Use synthetic data to form trainset above data\n",
    "input_fake_data = data_fake_frame.iloc[:,0:-1]\n",
    "water_fake_label = data_fake_frame.iloc[:,-1]\n",
    "    \n",
    "# Use fake above data plus real below data to form trainset\n",
    "trainset_below_data = input_real_below_data.drop(columns=['Entero_level'])\n",
    "trainset_below_data = trainset_below_data.drop(columns=best_acc_drop)\n",
    "trainset_below_labels = input_real_below_data.iloc[:,0]\n",
    "trainset_data = np.vstack((input_fake_data, trainset_below_data))\n",
    "trainset_labels = np.hstack((water_fake_label, trainset_below_labels))\n",
    "\n",
    "# Test set\n",
    "test_set_data = test_set.drop(columns=['Entero_level'])\n",
    "test_set_data = test_set_data.drop(columns=best_acc_drop)\n",
    "test_set_labels = test_set['Entero_level']\n",
    "\n",
    "# Train/test data normalization\n",
    "sc = preprocessing.Normalizer().fit(trainset_data)\n",
    "trainset_data = sc.transform(trainset_data)\n",
    "test_set_data = sc.transform(test_set_data)\n",
    "        \n",
    "# Run BDT\n",
    "bdt=AdaBoost.fit(trainset_data, trainset_labels)\n",
    "\n",
    "#print(\"Overall accuracy:\")\n",
    "#print(accuracy_score(test_set_labels,bdt.predict(test_set_data)))\n",
    "print(\"Confusion matrix\")\n",
    "print(confusion_matrix(test_set_labels,bdt.predict(test_set_data)))\n",
    "\n",
    "cm1 = confusion_matrix(test_set_labels,bdt.predict(test_set_data))\n",
    "total1=sum(sum(cm1))\n",
    "#####from confusion matrix calculate accuracy\n",
    "accuracy=(cm1[0,0]+cm1[1,1])/total1\n",
    "sen = cm1[1,1]/(cm1[1,0]+cm1[1,1])\n",
    "spe = cm1[0,0]/(cm1[0,0]+cm1[0,1])\n",
    "\n",
    "print ('Accuracy : ', accuracy)\n",
    "print('Sensitivity : ', sen)\n",
    "print('Specificity : ', spe)"
   ]
  },
  {
   "cell_type": "code",
   "execution_count": 19,
   "id": "87af5958",
   "metadata": {},
   "outputs": [
    {
     "name": "stdout",
     "output_type": "stream",
     "text": [
      "['Rain48' 'Rain72' 'RainWA' 'Wdirection' 'Wspeed' 'Solarhours' 'BeachType'\n",
      " 'Wspeed_level' 'on_offshore']\n",
      "Confusion matrix\n",
      "[[ 54 115]\n",
      " [  3  29]]\n",
      "Accuracy :  0.4129353233830846\n",
      "Sensitivity :  0.90625\n",
      "Specificity :  0.31952662721893493\n"
     ]
    }
   ],
   "source": [
    "# Best sensitivity model test on separate test-set\n",
    "best_sen_drop\n",
    "input_data = data_frame.drop(columns=['Entero_level'])\n",
    "input_data = input_data.drop(columns=best_sen_drop)\n",
    "entero_data = data_frame['Entero_level']\n",
    "c = input_data.columns\n",
    "print(input_data.columns.values)\n",
    "\n",
    "# Separate real above and real below data\n",
    "index_above = (data_frame['Entero_level']==1)\n",
    "index_below = (data_frame['Entero_level']==0)\n",
    "input_real_above_data = data_frame[index_above]\n",
    "input_real_below_data = data_frame[index_below]\n",
    "\n",
    "# ADASYN\n",
    "ada = ADASYN(sampling_strategy=1, n_neighbors=10)\n",
    "\n",
    "# Generate synthetic sampling data with ADASYN\n",
    "data_fake, entero_fake = ada.fit_resample(input_data, entero_data)\n",
    "x=pd.DataFrame(data_fake, columns=c)\n",
    "y=pd.DataFrame(entero_fake, columns=['Entero_level'])\n",
    "x['Entero_level']=y['Entero_level'].values\n",
    "data_fake_frame=x.query(\"Entero_level == 1\")\n",
    "data_fake_frame=data_fake_frame.reset_index(drop=True)\n",
    "#data_fake_frame.describe()\n",
    "    \n",
    "# Use synthetic data to form trainset above data\n",
    "input_fake_data = data_fake_frame.iloc[:,0:-1]\n",
    "water_fake_label = data_fake_frame.iloc[:,-1]\n",
    "    \n",
    "# Use fake above data plus real below data to form trainset\n",
    "trainset_below_data = input_real_below_data.drop(columns=['Entero_level'])\n",
    "trainset_below_data = trainset_below_data.drop(columns=best_sen_drop)\n",
    "trainset_below_labels = input_real_below_data.iloc[:,0]\n",
    "trainset_data = np.vstack((input_fake_data, trainset_below_data))\n",
    "trainset_labels = np.hstack((water_fake_label, trainset_below_labels))\n",
    "\n",
    "# Test set\n",
    "test_set_data = test_set.drop(columns=['Entero_level'])\n",
    "test_set_data = test_set_data.drop(columns=best_sen_drop)\n",
    "test_set_labels = test_set['Entero_level']\n",
    "\n",
    "# Train/test data normalization\n",
    "sc = preprocessing.Normalizer().fit(trainset_data)\n",
    "trainset_data = sc.transform(trainset_data)\n",
    "test_set_data = sc.transform(test_set_data)\n",
    "        \n",
    "# Run BDT\n",
    "bdt=AdaBoost.fit(trainset_data, trainset_labels)\n",
    "\n",
    "#print(\"Overall accuracy:\")\n",
    "#print(accuracy_score(test_set_labels,bdt.predict(test_set_data)))\n",
    "print(\"Confusion matrix\")\n",
    "print(confusion_matrix(test_set_labels,bdt.predict(test_set_data)))\n",
    "\n",
    "cm1 = confusion_matrix(test_set_labels,bdt.predict(test_set_data))\n",
    "total1=sum(sum(cm1))\n",
    "#####from confusion matrix calculate accuracy\n",
    "accuracy=(cm1[0,0]+cm1[1,1])/total1\n",
    "sen = cm1[1,1]/(cm1[1,0]+cm1[1,1])\n",
    "spe = cm1[0,0]/(cm1[0,0]+cm1[0,1])\n",
    "\n",
    "print ('Accuracy : ', accuracy)\n",
    "print('Sensitivity : ', sen)\n",
    "print('Specificity : ', spe)"
   ]
  },
  {
   "cell_type": "code",
   "execution_count": null,
   "id": "f280e738",
   "metadata": {},
   "outputs": [],
   "source": []
  }
 ],
 "metadata": {
  "kernelspec": {
   "display_name": "Python 3",
   "language": "python",
   "name": "python3"
  },
  "language_info": {
   "codemirror_mode": {
    "name": "ipython",
    "version": 3
   },
   "file_extension": ".py",
   "mimetype": "text/x-python",
   "name": "python",
   "nbconvert_exporter": "python",
   "pygments_lexer": "ipython3",
   "version": "3.8.8"
  }
 },
 "nbformat": 4,
 "nbformat_minor": 5
}
