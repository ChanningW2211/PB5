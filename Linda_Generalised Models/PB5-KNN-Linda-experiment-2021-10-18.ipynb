{
 "cells": [
  {
   "cell_type": "code",
   "execution_count": 1,
   "id": "8d61ec00",
   "metadata": {},
   "outputs": [
    {
     "name": "stdout",
     "output_type": "stream",
     "text": [
      "Requirement already satisfied: imblearn in c:\\users\\hp-family desktop\\anaconda3\\lib\\site-packages (0.0)\n",
      "Requirement already satisfied: imbalanced-learn in c:\\users\\hp-family desktop\\anaconda3\\lib\\site-packages (from imblearn) (0.8.1)\n",
      "Requirement already satisfied: scipy>=0.19.1 in c:\\users\\hp-family desktop\\anaconda3\\lib\\site-packages (from imbalanced-learn->imblearn) (1.6.2)\n",
      "Requirement already satisfied: joblib>=0.11 in c:\\users\\hp-family desktop\\anaconda3\\lib\\site-packages (from imbalanced-learn->imblearn) (1.0.1)\n",
      "Requirement already satisfied: numpy>=1.13.3 in c:\\users\\hp-family desktop\\appdata\\roaming\\python\\python38\\site-packages (from imbalanced-learn->imblearn) (1.21.2)\n",
      "Requirement already satisfied: scikit-learn>=0.24 in c:\\users\\hp-family desktop\\anaconda3\\lib\\site-packages (from imbalanced-learn->imblearn) (0.24.1)\n",
      "Requirement already satisfied: threadpoolctl>=2.0.0 in c:\\users\\hp-family desktop\\anaconda3\\lib\\site-packages (from scikit-learn>=0.24->imbalanced-learn->imblearn) (2.1.0)\n"
     ]
    }
   ],
   "source": [
    "# Setup\n",
    "import pandas as pd\n",
    "import numpy as np\n",
    "import matplotlib.pyplot as plt\n",
    "import seaborn as sns\n",
    "from sklearn.neighbors import KNeighborsClassifier\n",
    "from sklearn.model_selection import train_test_split\n",
    "from sklearn.metrics import accuracy_score\n",
    "from sklearn.metrics import confusion_matrix\n",
    "from sklearn import preprocessing\n",
    "\n",
    "!pip install imblearn\n",
    "from imblearn.over_sampling import ADASYN"
   ]
  },
  {
   "cell_type": "code",
   "execution_count": 2,
   "id": "d44f965e",
   "metadata": {},
   "outputs": [
    {
     "data": {
      "text/html": [
       "<div>\n",
       "<style scoped>\n",
       "    .dataframe tbody tr th:only-of-type {\n",
       "        vertical-align: middle;\n",
       "    }\n",
       "\n",
       "    .dataframe tbody tr th {\n",
       "        vertical-align: top;\n",
       "    }\n",
       "\n",
       "    .dataframe thead th {\n",
       "        text-align: right;\n",
       "    }\n",
       "</style>\n",
       "<table border=\"1\" class=\"dataframe\">\n",
       "  <thead>\n",
       "    <tr style=\"text-align: right;\">\n",
       "      <th></th>\n",
       "      <th>Entero</th>\n",
       "      <th>Rain24</th>\n",
       "      <th>Rain48</th>\n",
       "      <th>Rain72</th>\n",
       "      <th>RainWA</th>\n",
       "      <th>Wdirection</th>\n",
       "      <th>Wspeed</th>\n",
       "      <th>Solarhours</th>\n",
       "      <th>BeachType</th>\n",
       "      <th>BeachDirection</th>\n",
       "      <th>Entero_level</th>\n",
       "      <th>Wspeed_level</th>\n",
       "      <th>Wdirection_level</th>\n",
       "      <th>on_offshore</th>\n",
       "    </tr>\n",
       "  </thead>\n",
       "  <tbody>\n",
       "    <tr>\n",
       "      <th>count</th>\n",
       "      <td>1816.000000</td>\n",
       "      <td>1816.000000</td>\n",
       "      <td>1816.000000</td>\n",
       "      <td>1816.000000</td>\n",
       "      <td>1816.000000</td>\n",
       "      <td>1816.000000</td>\n",
       "      <td>1816.000000</td>\n",
       "      <td>1816.000000</td>\n",
       "      <td>1816.000000</td>\n",
       "      <td>1816.000000</td>\n",
       "      <td>1816.000000</td>\n",
       "      <td>1816.000000</td>\n",
       "      <td>1816.000000</td>\n",
       "      <td>1816.000000</td>\n",
       "    </tr>\n",
       "    <tr>\n",
       "      <th>mean</th>\n",
       "      <td>125.903084</td>\n",
       "      <td>1.884796</td>\n",
       "      <td>4.148640</td>\n",
       "      <td>6.578678</td>\n",
       "      <td>12.612115</td>\n",
       "      <td>187.495595</td>\n",
       "      <td>2.641189</td>\n",
       "      <td>6.729075</td>\n",
       "      <td>0.477423</td>\n",
       "      <td>3.962555</td>\n",
       "      <td>0.064427</td>\n",
       "      <td>1.007709</td>\n",
       "      <td>7.985683</td>\n",
       "      <td>0.869493</td>\n",
       "    </tr>\n",
       "    <tr>\n",
       "      <th>std</th>\n",
       "      <td>894.696898</td>\n",
       "      <td>5.334074</td>\n",
       "      <td>9.024765</td>\n",
       "      <td>12.162776</td>\n",
       "      <td>24.039501</td>\n",
       "      <td>90.964819</td>\n",
       "      <td>1.596487</td>\n",
       "      <td>3.844990</td>\n",
       "      <td>0.499628</td>\n",
       "      <td>4.816492</td>\n",
       "      <td>0.245580</td>\n",
       "      <td>0.093573</td>\n",
       "      <td>4.072729</td>\n",
       "      <td>0.862462</td>\n",
       "    </tr>\n",
       "    <tr>\n",
       "      <th>min</th>\n",
       "      <td>10.000000</td>\n",
       "      <td>0.000000</td>\n",
       "      <td>0.000000</td>\n",
       "      <td>0.000000</td>\n",
       "      <td>0.000000</td>\n",
       "      <td>0.000000</td>\n",
       "      <td>0.000000</td>\n",
       "      <td>0.000000</td>\n",
       "      <td>0.000000</td>\n",
       "      <td>1.000000</td>\n",
       "      <td>0.000000</td>\n",
       "      <td>0.000000</td>\n",
       "      <td>0.000000</td>\n",
       "      <td>0.000000</td>\n",
       "    </tr>\n",
       "    <tr>\n",
       "      <th>25%</th>\n",
       "      <td>10.000000</td>\n",
       "      <td>0.000000</td>\n",
       "      <td>0.000000</td>\n",
       "      <td>0.000000</td>\n",
       "      <td>0.000000</td>\n",
       "      <td>112.750000</td>\n",
       "      <td>1.500000</td>\n",
       "      <td>3.500000</td>\n",
       "      <td>0.000000</td>\n",
       "      <td>1.000000</td>\n",
       "      <td>0.000000</td>\n",
       "      <td>1.000000</td>\n",
       "      <td>5.000000</td>\n",
       "      <td>0.000000</td>\n",
       "    </tr>\n",
       "    <tr>\n",
       "      <th>50%</th>\n",
       "      <td>10.000000</td>\n",
       "      <td>0.000000</td>\n",
       "      <td>0.460000</td>\n",
       "      <td>1.375000</td>\n",
       "      <td>2.355000</td>\n",
       "      <td>209.000000</td>\n",
       "      <td>2.400000</td>\n",
       "      <td>7.200000</td>\n",
       "      <td>0.000000</td>\n",
       "      <td>2.000000</td>\n",
       "      <td>0.000000</td>\n",
       "      <td>1.000000</td>\n",
       "      <td>9.000000</td>\n",
       "      <td>1.000000</td>\n",
       "    </tr>\n",
       "    <tr>\n",
       "      <th>75%</th>\n",
       "      <td>20.000000</td>\n",
       "      <td>0.830000</td>\n",
       "      <td>4.000000</td>\n",
       "      <td>7.447500</td>\n",
       "      <td>14.315000</td>\n",
       "      <td>252.000000</td>\n",
       "      <td>3.325000</td>\n",
       "      <td>10.000000</td>\n",
       "      <td>1.000000</td>\n",
       "      <td>2.000000</td>\n",
       "      <td>0.000000</td>\n",
       "      <td>1.000000</td>\n",
       "      <td>11.000000</td>\n",
       "      <td>2.000000</td>\n",
       "    </tr>\n",
       "    <tr>\n",
       "      <th>max</th>\n",
       "      <td>24000.000000</td>\n",
       "      <td>57.080000</td>\n",
       "      <td>115.250000</td>\n",
       "      <td>127.320000</td>\n",
       "      <td>251.620000</td>\n",
       "      <td>360.000000</td>\n",
       "      <td>12.100000</td>\n",
       "      <td>14.100000</td>\n",
       "      <td>1.000000</td>\n",
       "      <td>15.000000</td>\n",
       "      <td>1.000000</td>\n",
       "      <td>2.000000</td>\n",
       "      <td>15.000000</td>\n",
       "      <td>2.000000</td>\n",
       "    </tr>\n",
       "  </tbody>\n",
       "</table>\n",
       "</div>"
      ],
      "text/plain": [
       "             Entero       Rain24       Rain48       Rain72       RainWA  \\\n",
       "count   1816.000000  1816.000000  1816.000000  1816.000000  1816.000000   \n",
       "mean     125.903084     1.884796     4.148640     6.578678    12.612115   \n",
       "std      894.696898     5.334074     9.024765    12.162776    24.039501   \n",
       "min       10.000000     0.000000     0.000000     0.000000     0.000000   \n",
       "25%       10.000000     0.000000     0.000000     0.000000     0.000000   \n",
       "50%       10.000000     0.000000     0.460000     1.375000     2.355000   \n",
       "75%       20.000000     0.830000     4.000000     7.447500    14.315000   \n",
       "max    24000.000000    57.080000   115.250000   127.320000   251.620000   \n",
       "\n",
       "        Wdirection       Wspeed   Solarhours    BeachType  BeachDirection  \\\n",
       "count  1816.000000  1816.000000  1816.000000  1816.000000     1816.000000   \n",
       "mean    187.495595     2.641189     6.729075     0.477423        3.962555   \n",
       "std      90.964819     1.596487     3.844990     0.499628        4.816492   \n",
       "min       0.000000     0.000000     0.000000     0.000000        1.000000   \n",
       "25%     112.750000     1.500000     3.500000     0.000000        1.000000   \n",
       "50%     209.000000     2.400000     7.200000     0.000000        2.000000   \n",
       "75%     252.000000     3.325000    10.000000     1.000000        2.000000   \n",
       "max     360.000000    12.100000    14.100000     1.000000       15.000000   \n",
       "\n",
       "       Entero_level  Wspeed_level  Wdirection_level  on_offshore  \n",
       "count   1816.000000   1816.000000       1816.000000  1816.000000  \n",
       "mean       0.064427      1.007709          7.985683     0.869493  \n",
       "std        0.245580      0.093573          4.072729     0.862462  \n",
       "min        0.000000      0.000000          0.000000     0.000000  \n",
       "25%        0.000000      1.000000          5.000000     0.000000  \n",
       "50%        0.000000      1.000000          9.000000     1.000000  \n",
       "75%        0.000000      1.000000         11.000000     2.000000  \n",
       "max        1.000000      2.000000         15.000000     2.000000  "
      ]
     },
     "execution_count": 2,
     "metadata": {},
     "output_type": "execute_result"
    }
   ],
   "source": [
    "# Import trainset\n",
    "trainset = pd.read_csv(\"PB5_trainset.csv\")\n",
    "trainset.describe()"
   ]
  },
  {
   "cell_type": "code",
   "execution_count": 3,
   "id": "1e4b2b20",
   "metadata": {},
   "outputs": [
    {
     "name": "stdout",
     "output_type": "stream",
     "text": [
      "<class 'pandas.core.frame.DataFrame'>\n",
      "RangeIndex: 1816 entries, 0 to 1815\n",
      "Data columns (total 16 columns):\n",
      " #   Column            Non-Null Count  Dtype  \n",
      "---  ------            --------------  -----  \n",
      " 0   DATE              1816 non-null   object \n",
      " 1   Entero            1816 non-null   float64\n",
      " 2   Rain24            1816 non-null   float64\n",
      " 3   Rain48            1816 non-null   float64\n",
      " 4   Rain72            1816 non-null   float64\n",
      " 5   RainWA            1816 non-null   float64\n",
      " 6   Wdirection        1816 non-null   int64  \n",
      " 7   Wspeed            1816 non-null   float64\n",
      " 8   Solarhours        1816 non-null   float64\n",
      " 9   BeachName         1816 non-null   object \n",
      " 10  BeachType         1816 non-null   int64  \n",
      " 11  BeachDirection    1816 non-null   int64  \n",
      " 12  Entero_level      1816 non-null   int64  \n",
      " 13  Wspeed_level      1816 non-null   int64  \n",
      " 14  Wdirection_level  1816 non-null   int64  \n",
      " 15  on_offshore       1816 non-null   int64  \n",
      "dtypes: float64(7), int64(7), object(2)\n",
      "memory usage: 227.1+ KB\n"
     ]
    }
   ],
   "source": [
    "trainset.info()"
   ]
  },
  {
   "cell_type": "code",
   "execution_count": 4,
   "id": "8b96bfb3",
   "metadata": {},
   "outputs": [],
   "source": [
    "# trainset['DATE']=trainset['DATE'].astype('datetime64')"
   ]
  },
  {
   "cell_type": "code",
   "execution_count": 5,
   "id": "c962fe55",
   "metadata": {},
   "outputs": [
    {
     "name": "stdout",
     "output_type": "stream",
     "text": [
      "<class 'pandas.core.frame.DataFrame'>\n",
      "RangeIndex: 1816 entries, 0 to 1815\n",
      "Data columns (total 13 columns):\n",
      " #   Column            Non-Null Count  Dtype  \n",
      "---  ------            --------------  -----  \n",
      " 0   Entero_level      1816 non-null   int64  \n",
      " 1   Rain24            1816 non-null   float64\n",
      " 2   Rain48            1816 non-null   float64\n",
      " 3   Rain72            1816 non-null   float64\n",
      " 4   RainWA            1816 non-null   float64\n",
      " 5   Wdirection        1816 non-null   int64  \n",
      " 6   Wspeed            1816 non-null   float64\n",
      " 7   Solarhours        1816 non-null   float64\n",
      " 8   BeachType         1816 non-null   int64  \n",
      " 9   BeachDirection    1816 non-null   int64  \n",
      " 10  Wspeed_level      1816 non-null   int64  \n",
      " 11  Wdirection_level  1816 non-null   int64  \n",
      " 12  on_offshore       1816 non-null   int64  \n",
      "dtypes: float64(6), int64(7)\n",
      "memory usage: 184.6 KB\n"
     ]
    }
   ],
   "source": [
    "# Delete columns \"DATE\",\"Entero\",\"BeachName\"\n",
    "data_frame = trainset.drop(columns=['Entero','DATE','BeachName'])\n",
    "# Move column \"Entero_level\" to the front\n",
    "data_frame = data_frame[ ['Entero_level'] + [ col for col in data_frame.columns if col != 'Entero_level' ] ]\n",
    "data_frame.info()"
   ]
  },
  {
   "cell_type": "code",
   "execution_count": 6,
   "id": "b70ffa27",
   "metadata": {},
   "outputs": [
    {
     "name": "stdout",
     "output_type": "stream",
     "text": [
      "KNN model with original unbalanced dataset----\n",
      "input data - ['Rain24' 'Rain48' 'Rain72' 'RainWA' 'Wdirection' 'Wspeed' 'Solarhours'\n",
      " 'BeachType' 'BeachDirection' 'Wspeed_level' 'Wdirection_level'\n",
      " 'on_offshore']\n",
      "Confusion Matrix : \n",
      " [[506   8]\n",
      " [ 30   1]]\n",
      "Accuracy :  0.9302752293577982\n",
      "Sensitivity :  0.03225806451612903\n",
      "Specificity :  0.9844357976653697\n"
     ]
    }
   ],
   "source": [
    "###KNN with original unbalanced dataset\n",
    "print(\"KNN model with original unbalanced dataset----\")\n",
    "print(\"input data -\", end =\" \")\n",
    "input_data = data_frame.drop(columns=['Entero_level'])\n",
    "print(input_data.columns.values)\n",
    "entero_data = data_frame.iloc[:,0]\n",
    "\n",
    "# Split the data randomly - 70% train set, 30% test set\n",
    "trainset_data, testset_data, trainset_labels, testset_labels = train_test_split(input_data, entero_data, test_size=0.3, random_state=42)\n",
    "\n",
    "# Train data normalization\n",
    "sc = preprocessing.Normalizer().fit(trainset_data)\n",
    "trainset_data = sc.transform(trainset_data)\n",
    "testset_data = sc.transform(testset_data)\n",
    "\n",
    "# Run KNN with sklearn\n",
    "knn = KNeighborsClassifier(algorithm='auto',leaf_size=30,metric='minkowski',metric_params=None,n_jobs=1,n_neighbors=5,p=2,weights='uniform')\n",
    "knn.fit(trainset_data, trainset_labels)\n",
    "\n",
    "# Show the KNN result\n",
    "cm1 = confusion_matrix(testset_labels,knn.predict(testset_data))\n",
    "print('Confusion Matrix : \\n', cm1)\n",
    "\n",
    "total1=sum(sum(cm1))\n",
    "#####from confusion matrix calculate accuracy\n",
    "accuracy1=(cm1[0,0]+cm1[1,1])/total1\n",
    "print ('Accuracy : ', accuracy1)\n",
    "\n",
    "sensitivity1 = cm1[1,1]/(cm1[1,0]+cm1[1,1])\n",
    "print('Sensitivity : ', sensitivity1 )\n",
    "\n",
    "specificity1 = cm1[0,0]/(cm1[0,0]+cm1[0,1])\n",
    "print('Specificity : ', specificity1)"
   ]
  },
  {
   "cell_type": "code",
   "execution_count": 8,
   "id": "7a47cea3",
   "metadata": {},
   "outputs": [
    {
     "name": "stdout",
     "output_type": "stream",
     "text": [
      "KNN (n=5) model with ADASYN (n=10) balanced data original columns ----\n",
      "input data - ['Rain24' 'Rain48' 'Rain72' 'RainWA' 'Wdirection' 'Wspeed' 'Solarhours']\n",
      "Overall accuracy :  0.7911440677966103\n",
      "Sensitivity :  0.9416239316239314\n",
      "Specificity :  0.6431932773109245\n"
     ]
    },
    {
     "data": {
      "image/png": "[encoded data removed]",
      "text/plain": [
       "<Figure size 432x288 with 1 Axes>"
      ]
     },
     "metadata": {
      "needs_background": "light"
     },
     "output_type": "display_data"
    }
   ],
   "source": [
    "### KNN with ADASYN balanced data-original columns (Rain24, Rain48, Rain72, RainWA, Wdirection, Wspeed, Solarhours)\n",
    "print(\"KNN (n=5) model with ADASYN (n=10) balanced data original columns ----\")\n",
    "print(\"input data -\", end =\" \")\n",
    "input_data = data_frame.drop(columns=['Entero_level','BeachType','BeachDirection','Wspeed_level','Wdirection_level','on_offshore'])\n",
    "entero_data = data_frame['Entero_level']\n",
    "c = input_data.columns\n",
    "print(input_data.columns.values)\n",
    "# Separate real above and real below data\n",
    "index_above = (data_frame['Entero_level']==1)\n",
    "index_below = (data_frame['Entero_level']==0)\n",
    "input_real_above_data = data_frame[index_above]\n",
    "input_real_below_data = data_frame[index_below]\n",
    "\n",
    "# Use real above data form testset above data\n",
    "testset_above_data = input_real_above_data.drop(columns=['Entero_level','BeachType','BeachDirection','Wspeed_level','Wdirection_level','on_offshore'])\n",
    "water_above_label = input_real_above_data['Entero_level']\n",
    "\n",
    "# Calculate ratio for train/test for real below data\n",
    "len_testset = len(input_real_above_data)\n",
    "ratio = round(len_testset/len(input_real_below_data),2)\n",
    "\n",
    "# ADASYN\n",
    "ada = ADASYN(sampling_strategy=1, n_neighbors=10)\n",
    "\n",
    "# For loop\n",
    "j=np.zeros(100)\n",
    "sen=np.zeros(100)\n",
    "spe=np.zeros(100)\n",
    "for i in range(100):\n",
    "    # Generate synthetic sampling data with ADASYN\n",
    "    data_fake, entero_fake = ada.fit_resample(input_data, entero_data)\n",
    "    x=pd.DataFrame(data_fake, columns=input_data.columns)\n",
    "    y=pd.DataFrame(entero_fake, columns=['Entero_level'])\n",
    "    x['Entero_level']=y['Entero_level'].values\n",
    "    data_fake_frame=x.query(\"Entero_level == 1\")\n",
    "    data_fake_frame=data_fake_frame.reset_index(drop=True)\n",
    "    data_fake_frame.describe()\n",
    "    \n",
    "    # Use synthetic data to form trainset above data\n",
    "    input_fake_data = data_fake_frame.iloc[:,0:-1]\n",
    "    water_fake_label = data_fake_frame.iloc[:,-1]\n",
    "    \n",
    "    # Split the real below data randomly - test set size matches real above data size\n",
    "    input_real_data = input_real_below_data.drop(columns=['Entero_level','BeachType','BeachDirection','Wspeed_level','Wdirection_level','on_offshore'])\n",
    "    entero_real_data = input_real_below_data.iloc[:,0]\n",
    "    trainset_below_data, testset_below_data, trainset_below_labels, testset_below_labels = train_test_split(input_real_data, entero_real_data, test_size=ratio, random_state=42)\n",
    "    \n",
    "    # Use fake above data plus real below data to form trainset\n",
    "    trainset_data = np.vstack((input_fake_data, trainset_below_data))\n",
    "    trainset_labels = np.hstack((water_fake_label, trainset_below_labels))\n",
    "    \n",
    "    # Use real above data plus same amount of real below data to form testset\n",
    "    testset_data = np.vstack((testset_above_data, testset_below_data))\n",
    "    testset_labels = np.hstack((water_above_label, testset_below_labels))\n",
    "    \n",
    "    # Train data normalization\n",
    "    sc = preprocessing.Normalizer().fit(trainset_data)\n",
    "    trainset_data = sc.transform(trainset_data)\n",
    "    testset_data = sc.transform(testset_data)\n",
    "    \n",
    "    # Run KNN with sklearn\n",
    "    knn = KNeighborsClassifier(algorithm='auto',leaf_size=30,metric='minkowski',metric_params=None,n_jobs=1,n_neighbors=5,p=2,weights='uniform')\n",
    "    knn.fit(trainset_data, trainset_labels)\n",
    "    #j[i]=accuracy_score(testset_labels,knn.predict(testset_data))\n",
    "    cm1 = confusion_matrix(testset_labels,knn.predict(testset_data))\n",
    "    total1=sum(sum(cm1))\n",
    "    #####from confusion matrix calculate accuracy\n",
    "    j[i] = (cm1[0,0]+cm1[1,1])/total1\n",
    "    sen[i] = cm1[1,1]/(cm1[1,0]+cm1[1,1])\n",
    "    spe[i] = cm1[0,0]/(cm1[0,0]+cm1[0,1])\n",
    "    i=i+1\n",
    "\n",
    "#End of loop\n",
    "\n",
    "# Show the KNN result\n",
    "print ('Overall accuracy : ', j.mean())\n",
    "print('Sensitivity : ', sen.mean())\n",
    "print('Specificity : ', spe.mean())\n",
    "plt.boxplot([j, sen, spe])\n",
    "plt.xticks([1, 2, 3], [\"Accuracy\",\"Sensitivity\", \"Specificity\"])\n",
    "plt.show()\n"
   ]
  },
  {
   "cell_type": "code",
   "execution_count": 9,
   "id": "ef99323a",
   "metadata": {},
   "outputs": [
    {
     "name": "stdout",
     "output_type": "stream",
     "text": [
      "KNN (n=5) model with ADASYN (n=10) balanced data full columns----\n",
      "input data - ['Rain24' 'Rain48' 'Rain72' 'RainWA' 'Wdirection' 'Wspeed' 'Solarhours'\n",
      " 'BeachType' 'BeachDirection' 'Wspeed_level' 'Wdirection_level'\n",
      " 'on_offshore']\n",
      "Overall accuracy :  0.8322033898305083\n",
      "Sensitivity :  0.9664102564102564\n",
      "Specificity :  0.7002521008403362\n"
     ]
    },
    {
     "data": {
      "image/png": "[encoded data removed]",
      "text/plain": [
       "<Figure size 432x288 with 1 Axes>"
      ]
     },
     "metadata": {
      "needs_background": "light"
     },
     "output_type": "display_data"
    }
   ],
   "source": [
    "### KNN with ADASYN balanced data\n",
    "print(\"KNN (n=5) model with ADASYN (n=10) balanced data full columns----\")\n",
    "print(\"input data -\", end =\" \")\n",
    "input_data = data_frame.drop(columns=['Entero_level'])\n",
    "entero_data = data_frame['Entero_level']\n",
    "c = input_data.columns\n",
    "print(input_data.columns.values)\n",
    "# Separate real above and real below data\n",
    "index_above = (data_frame['Entero_level']==1)\n",
    "index_below = (data_frame['Entero_level']==0)\n",
    "input_real_above_data = data_frame[index_above]\n",
    "input_real_below_data = data_frame[index_below]\n",
    "\n",
    "# Use real above data form testset above data\n",
    "testset_above_data = input_real_above_data.drop(columns=['Entero_level'])\n",
    "water_above_label = input_real_above_data['Entero_level']\n",
    "\n",
    "# Calculate ratio for train/test for real below data\n",
    "len_testset = len(input_real_above_data)\n",
    "ratio = round(len_testset/len(input_real_below_data),2)\n",
    "\n",
    "# ADASYN\n",
    "ada = ADASYN(sampling_strategy=1, n_neighbors=10)\n",
    "\n",
    "# For loop\n",
    "j=np.zeros(100)\n",
    "sen=np.zeros(100)\n",
    "spe=np.zeros(100)\n",
    "for i in range(100):\n",
    "    # Generate synthetic sampling data with ADASYN\n",
    "    data_fake, entero_fake = ada.fit_resample(input_data, entero_data)\n",
    "    x=pd.DataFrame(data_fake, columns=input_data.columns)\n",
    "    y=pd.DataFrame(entero_fake, columns=['Entero_level'])\n",
    "    x['Entero_level']=y['Entero_level'].values\n",
    "    data_fake_frame=x.query(\"Entero_level == 1\")\n",
    "    data_fake_frame=data_fake_frame.reset_index(drop=True)\n",
    "    data_fake_frame.describe()\n",
    "    \n",
    "    # Use synthetic data to form trainset above data\n",
    "    input_fake_data = data_fake_frame.iloc[:,0:-1]\n",
    "    water_fake_label = data_fake_frame.iloc[:,-1]\n",
    "    \n",
    "    # Split the real below data randomly - test set size matches real above data size\n",
    "    input_real_data = input_real_below_data.drop(columns=['Entero_level'])\n",
    "    entero_real_data = input_real_below_data.iloc[:,0]\n",
    "    trainset_below_data, testset_below_data, trainset_below_labels, testset_below_labels = train_test_split(input_real_data, entero_real_data, test_size=ratio, random_state=42)\n",
    "    \n",
    "    # Use fake above data plus real below data to form trainset\n",
    "    trainset_data = np.vstack((input_fake_data, trainset_below_data))\n",
    "    trainset_labels = np.hstack((water_fake_label, trainset_below_labels))\n",
    "    \n",
    "    # Use real above data plus same amount of real below data to form testset\n",
    "    testset_data = np.vstack((testset_above_data, testset_below_data))\n",
    "    testset_labels = np.hstack((water_above_label, testset_below_labels))\n",
    "    \n",
    "    # Train data normalization\n",
    "    sc = preprocessing.Normalizer().fit(trainset_data)\n",
    "    trainset_data = sc.transform(trainset_data)\n",
    "    testset_data = sc.transform(testset_data)\n",
    "    \n",
    "    # Run KNN with sklearn\n",
    "    knn = KNeighborsClassifier(algorithm='auto',leaf_size=30,metric='minkowski',metric_params=None,n_jobs=1,n_neighbors=5,p=2,weights='uniform')\n",
    "    knn.fit(trainset_data, trainset_labels)\n",
    "    #j[i]=accuracy_score(testset_labels,knn.predict(testset_data))\n",
    "    cm1 = confusion_matrix(testset_labels,knn.predict(testset_data))\n",
    "    total1=sum(sum(cm1))\n",
    "    #####from confusion matrix calculate accuracy\n",
    "    j[i] = (cm1[0,0]+cm1[1,1])/total1\n",
    "    sen[i] = cm1[1,1]/(cm1[1,0]+cm1[1,1])\n",
    "    spe[i] = cm1[0,0]/(cm1[0,0]+cm1[0,1])\n",
    "    i=i+1\n",
    "\n",
    "#End of loop\n",
    "\n",
    "# Show the KNN result\n",
    "print ('Overall accuracy : ', j.mean())\n",
    "print('Sensitivity : ', sen.mean())\n",
    "print('Specificity : ', spe.mean())\n",
    "plt.boxplot([j, sen, spe])\n",
    "plt.xticks([1, 2, 3], [\"Accuracy\",\"Sensitivity\", \"Specificity\"])\n",
    "plt.show()\n"
   ]
  },
  {
   "cell_type": "code",
   "execution_count": 8,
   "id": "762affb8",
   "metadata": {},
   "outputs": [
    {
     "name": "stdout",
     "output_type": "stream",
     "text": [
      "KNN (n=5) model with ADASYN (n=10) balanced data----\n",
      "Drop: Rain24\n",
      "input data - ['Rain48' 'Rain72' 'RainWA' 'Wdirection' 'Wspeed' 'Solarhours' 'BeachType'\n",
      " 'BeachDirection' 'Wspeed_level' 'Wdirection_level' 'on_offshore']\n",
      "Overall accuracy :  0.8316525423728813\n",
      "Sensitivity :  0.9652136752136751\n",
      "Specificity :  0.7003361344537816\n"
     ]
    },
    {
     "data": {
      "image/png": "[encoded data removed]",
      "text/plain": [
       "<Figure size 432x288 with 1 Axes>"
      ]
     },
     "metadata": {
      "needs_background": "light"
     },
     "output_type": "display_data"
    },
    {
     "name": "stdout",
     "output_type": "stream",
     "text": [
      "Drop: Rain48\n",
      "input data - ['Rain24' 'Rain72' 'RainWA' 'Wdirection' 'Wspeed' 'Solarhours' 'BeachType'\n",
      " 'BeachDirection' 'Wspeed_level' 'Wdirection_level' 'on_offshore']\n",
      "Overall accuracy :  0.8352118644067797\n",
      "Sensitivity :  0.9645299145299145\n",
      "Specificity :  0.7080672268907564\n"
     ]
    },
    {
     "data": {
      "image/png": "[encoded data removed]",
      "text/plain": [
       "<Figure size 432x288 with 1 Axes>"
      ]
     },
     "metadata": {
      "needs_background": "light"
     },
     "output_type": "display_data"
    },
    {
     "name": "stdout",
     "output_type": "stream",
     "text": [
      "Drop: Rain72\n",
      "input data - ['Rain24' 'Rain48' 'RainWA' 'Wdirection' 'Wspeed' 'Solarhours' 'BeachType'\n",
      " 'BeachDirection' 'Wspeed_level' 'Wdirection_level' 'on_offshore']\n",
      "Overall accuracy :  0.8258898305084746\n",
      "Sensitivity :  0.9625641025641026\n",
      "Specificity :  0.6915126050420167\n"
     ]
    },
    {
     "data": {
      "image/png": "[encoded data removed]",
      "text/plain": [
       "<Figure size 432x288 with 1 Axes>"
      ]
     },
     "metadata": {
      "needs_background": "light"
     },
     "output_type": "display_data"
    },
    {
     "name": "stdout",
     "output_type": "stream",
     "text": [
      "Drop: RainWA\n",
      "input data - ['Rain24' 'Rain48' 'Rain72' 'Wdirection' 'Wspeed' 'Solarhours' 'BeachType'\n",
      " 'BeachDirection' 'Wspeed_level' 'Wdirection_level' 'on_offshore']\n",
      "Overall accuracy :  0.8241101694915254\n",
      "Sensitivity :  0.9608547008547008\n",
      "Specificity :  0.6896638655462184\n"
     ]
    },
    {
     "data": {
      "image/png": "[encoded data removed]",
      "text/plain": [
       "<Figure size 432x288 with 1 Axes>"
      ]
     },
     "metadata": {
      "needs_background": "light"
     },
     "output_type": "display_data"
    },
    {
     "name": "stdout",
     "output_type": "stream",
     "text": [
      "Drop: Wdirection\n",
      "input data - ['Rain24' 'Rain48' 'Rain72' 'RainWA' 'Wspeed' 'Solarhours' 'BeachType'\n",
      " 'BeachDirection' 'Wspeed_level' 'Wdirection_level' 'on_offshore']\n",
      "Overall accuracy :  0.8291101694915254\n",
      "Sensitivity :  0.9684615384615384\n",
      "Specificity :  0.6921008403361345\n"
     ]
    },
    {
     "data": {
      "image/png": "[encoded data removed]",
      "text/plain": [
       "<Figure size 432x288 with 1 Axes>"
      ]
     },
     "metadata": {
      "needs_background": "light"
     },
     "output_type": "display_data"
    },
    {
     "name": "stdout",
     "output_type": "stream",
     "text": [
      "Drop: Wspeed\n",
      "input data - ['Rain24' 'Rain48' 'Rain72' 'RainWA' 'Wdirection' 'Solarhours' 'BeachType'\n",
      " 'BeachDirection' 'Wspeed_level' 'Wdirection_level' 'on_offshore']\n",
      "Overall accuracy :  0.8067796610169492\n",
      "Sensitivity :  0.9317094017094018\n",
      "Specificity :  0.6839495798319328\n"
     ]
    },
    {
     "data": {
      "image/png": "[encoded data removed]",
      "text/plain": [
       "<Figure size 432x288 with 1 Axes>"
      ]
     },
     "metadata": {
      "needs_background": "light"
     },
     "output_type": "display_data"
    },
    {
     "name": "stdout",
     "output_type": "stream",
     "text": [
      "Drop: Solarhours\n",
      "input data - ['Rain24' 'Rain48' 'Rain72' 'RainWA' 'Wdirection' 'Wspeed' 'BeachType'\n",
      " 'BeachDirection' 'Wspeed_level' 'Wdirection_level' 'on_offshore']\n",
      "Overall accuracy :  0.8237711864406778\n",
      "Sensitivity :  0.9023931623931624\n",
      "Specificity :  0.7464705882352941\n"
     ]
    },
    {
     "data": {
      "image/png": "[encoded data removed]",
      "text/plain": [
       "<Figure size 432x288 with 1 Axes>"
      ]
     },
     "metadata": {
      "needs_background": "light"
     },
     "output_type": "display_data"
    },
    {
     "name": "stdout",
     "output_type": "stream",
     "text": [
      "Drop: BeachType\n",
      "input data - ['Rain24' 'Rain48' 'Rain72' 'RainWA' 'Wdirection' 'Wspeed' 'Solarhours'\n",
      " 'BeachDirection' 'Wspeed_level' 'Wdirection_level' 'on_offshore']\n",
      "Overall accuracy :  0.8328813559322034\n",
      "Sensitivity :  0.9605128205128204\n",
      "Specificity :  0.7073949579831933\n"
     ]
    },
    {
     "data": {
      "image/png": "[encoded data removed]",
      "text/plain": [
       "<Figure size 432x288 with 1 Axes>"
      ]
     },
     "metadata": {
      "needs_background": "light"
     },
     "output_type": "display_data"
    },
    {
     "name": "stdout",
     "output_type": "stream",
     "text": [
      "Drop: BeachDirection\n",
      "input data - ['Rain24' 'Rain48' 'Rain72' 'RainWA' 'Wdirection' 'Wspeed' 'Solarhours'\n",
      " 'BeachType' 'Wspeed_level' 'Wdirection_level' 'on_offshore']\n",
      "Overall accuracy :  0.8003389830508476\n",
      "Sensitivity :  0.9558974358974358\n",
      "Specificity :  0.6473949579831934\n"
     ]
    },
    {
     "data": {
      "image/png": "[encoded data removed]",
      "text/plain": [
       "<Figure size 432x288 with 1 Axes>"
      ]
     },
     "metadata": {
      "needs_background": "light"
     },
     "output_type": "display_data"
    },
    {
     "name": "stdout",
     "output_type": "stream",
     "text": [
      "Drop: Wspeed_level\n",
      "input data - ['Rain24' 'Rain48' 'Rain72' 'RainWA' 'Wdirection' 'Wspeed' 'Solarhours'\n",
      " 'BeachType' 'BeachDirection' 'Wdirection_level' 'on_offshore']\n",
      "Overall accuracy :  0.826822033898305\n",
      "Sensitivity :  0.9627350427350426\n",
      "Specificity :  0.6931932773109244\n"
     ]
    },
    {
     "data": {
      "image/png": "[encoded data removed]",
      "text/plain": [
       "<Figure size 432x288 with 1 Axes>"
      ]
     },
     "metadata": {
      "needs_background": "light"
     },
     "output_type": "display_data"
    },
    {
     "name": "stdout",
     "output_type": "stream",
     "text": [
      "Drop: Wdirection_level\n",
      "input data - ['Rain24' 'Rain48' 'Rain72' 'RainWA' 'Wdirection' 'Wspeed' 'Solarhours'\n",
      " 'BeachType' 'BeachDirection' 'Wspeed_level' 'on_offshore']\n",
      "Overall accuracy :  0.8323305084745763\n",
      "Sensitivity :  0.9684615384615384\n",
      "Specificity :  0.6984873949579833\n"
     ]
    },
    {
     "data": {
      "image/png": "[encoded data removed]",
      "text/plain": [
       "<Figure size 432x288 with 1 Axes>"
      ]
     },
     "metadata": {
      "needs_background": "light"
     },
     "output_type": "display_data"
    },
    {
     "name": "stdout",
     "output_type": "stream",
     "text": [
      "Drop: on_offshore\n",
      "input data - ['Rain24' 'Rain48' 'Rain72' 'RainWA' 'Wdirection' 'Wspeed' 'Solarhours'\n",
      " 'BeachType' 'BeachDirection' 'Wspeed_level' 'Wdirection_level']\n",
      "Overall accuracy :  0.8165254237288138\n",
      "Sensitivity :  0.9564102564102563\n",
      "Specificity :  0.6789915966386556\n"
     ]
    },
    {
     "data": {
      "image/png": "[encoded data removed]",
      "text/plain": [
       "<Figure size 432x288 with 1 Axes>"
      ]
     },
     "metadata": {
      "needs_background": "light"
     },
     "output_type": "display_data"
    },
    {
     "name": "stdout",
     "output_type": "stream",
     "text": [
      "Best sensitivity:  0.9684615384615384 after drop  ['Wdirection']\n",
      "Best accuracy:  0.8352118644067797 after drop  ['Rain48']\n"
     ]
    }
   ],
   "source": [
    "### KNN with ADASYN balanced data - drop one parameter each time to compare\n",
    "print(\"KNN (n=5) model with ADASYN (n=10) balanced data----\")\n",
    "best_sen_drop=[]\n",
    "best_acc_drop=[]\n",
    "best_acc=j.mean()\n",
    "best_sen=sen.mean()\n",
    "for col in c:\n",
    "    print(\"Drop:\", col)\n",
    "    input_data = data_frame.drop(columns=[str(col),'Entero_level'])\n",
    "    entero_data = data_frame['Entero_level']\n",
    "    print(\"input data -\", end =\" \")\n",
    "    print(input_data.columns.values)\n",
    "    # Separate real above and real below data\n",
    "    index_above = (data_frame['Entero_level']==1)\n",
    "    index_below = (data_frame['Entero_level']==0)\n",
    "    input_real_above_data = data_frame[index_above]\n",
    "    input_real_below_data = data_frame[index_below]\n",
    "\n",
    "    # Use real above data form testset above data\n",
    "    testset_above_data = input_real_above_data.drop(columns=['Entero_level',str(col)])\n",
    "    water_above_label = input_real_above_data.iloc[:,0]\n",
    "    \n",
    "    # ADASYN\n",
    "    ada = ADASYN(sampling_strategy=1, n_neighbors=10)\n",
    "\n",
    "    # For loop\n",
    "    j=np.zeros(100)\n",
    "    sen=np.zeros(100)\n",
    "    spe=np.zeros(100)\n",
    "    for i in range(100):\n",
    "        # Generate synthetic sampling data with ADASYN\n",
    "        data_fake, entero_fake = ada.fit_resample(input_data, entero_data)\n",
    "        x=pd.DataFrame(data_fake, columns=input_data.columns)\n",
    "        y=pd.DataFrame(entero_fake, columns=['Entero_level'])\n",
    "        x['Entero_level']=y['Entero_level'].values\n",
    "        data_fake_frame=x.query(\"Entero_level == 1\")\n",
    "        data_fake_frame=data_fake_frame.reset_index(drop=True)\n",
    "        #data_fake_frame.describe()\n",
    "    \n",
    "        # Use synthetic data to form trainset above data\n",
    "        input_fake_data = data_fake_frame.iloc[:,0:-1]\n",
    "        water_fake_label = data_fake_frame.iloc[:,-1]\n",
    "    \n",
    "        # Split the real below data randomly - test set size matches real above data size\n",
    "        input_real_data = input_real_below_data.drop(columns=['Entero_level',str(col)])\n",
    "        entero_real_data = input_real_below_data.iloc[:,0]\n",
    "        trainset_below_data, testset_below_data, trainset_below_labels, testset_below_labels = train_test_split(input_real_data, entero_real_data, test_size=ratio, random_state=42)\n",
    "    \n",
    "        # Use fake above data plus real below data to form trainset\n",
    "        trainset_data = np.vstack((input_fake_data, trainset_below_data))\n",
    "        trainset_labels = np.hstack((water_fake_label, trainset_below_labels))\n",
    "    \n",
    "        # Use real above data plus same amount of real below data to form testset\n",
    "        testset_data = np.vstack((testset_above_data, testset_below_data))\n",
    "        testset_labels = np.hstack((water_above_label, testset_below_labels))\n",
    "    \n",
    "        # Train data normalization\n",
    "        sc = preprocessing.Normalizer().fit(trainset_data)\n",
    "        trainset_data = sc.transform(trainset_data)\n",
    "        testset_data = sc.transform(testset_data)\n",
    "    \n",
    "        # Run KNN with sklearn\n",
    "        knn = KNeighborsClassifier(algorithm='auto',leaf_size=30,metric='minkowski',metric_params=None,n_jobs=1,n_neighbors=5,p=2,weights='uniform')\n",
    "        knn.fit(trainset_data, trainset_labels)\n",
    "        #j[i]=accuracy_score(testset_labels,knn.predict(testset_data))\n",
    "        cm1 = confusion_matrix(testset_labels,knn.predict(testset_data))\n",
    "        total1=sum(sum(cm1))\n",
    "        #####from confusion matrix calculate accuracy\n",
    "        j[i] = (cm1[0,0]+cm1[1,1])/total1\n",
    "        sen[i] = cm1[1,1]/(cm1[1,0]+cm1[1,1])\n",
    "        spe[i] = cm1[0,0]/(cm1[0,0]+cm1[0,1])\n",
    "        i=i+1\n",
    "\n",
    "    #End of loop\n",
    "\n",
    "    # Show the KNN result\n",
    "    print ('Overall accuracy : ', j.mean())\n",
    "    print('Sensitivity : ', sen.mean())\n",
    "    print('Specificity : ', spe.mean())\n",
    "    if sen.mean()>best_sen:\n",
    "        best_sen=sen.mean()\n",
    "        best_sen_drop=[col]\n",
    "    if j.mean()>best_acc:\n",
    "        best_acc=j.mean()\n",
    "        best_acc_drop=[col]\n",
    "    plt.boxplot([j, sen, spe])\n",
    "    plt.xticks([1, 2, 3], [\"Accuracy\",\"Sensitivity\", \"Specificity\"])\n",
    "    plt.show()\n",
    "#End of loop\n",
    "\n",
    "print('Best sensitivity: ',best_sen, 'after drop ', best_sen_drop)\n",
    "print('Best accuracy: ', best_acc, 'after drop ', best_acc_drop)"
   ]
  },
  {
   "cell_type": "code",
   "execution_count": 9,
   "id": "1080ec96",
   "metadata": {},
   "outputs": [],
   "source": [
    "# Pass best_sen_drop and best_acc_drop\n",
    "bsd = best_sen_drop\n",
    "bad = best_acc_drop"
   ]
  },
  {
   "cell_type": "code",
   "execution_count": 10,
   "id": "55b62c06",
   "metadata": {},
   "outputs": [
    {
     "name": "stdout",
     "output_type": "stream",
     "text": [
      "KNN (n=5) model with ADASYN (n=10) balanced data----Best sensitivity drop ['Wdirection']\n",
      "Drop: Rain24\n",
      "input data - ['Rain48' 'Rain72' 'RainWA' 'Wspeed' 'Solarhours' 'BeachType'\n",
      " 'BeachDirection' 'Wspeed_level' 'Wdirection_level' 'on_offshore']\n",
      "Overall accuracy :  0.8385169491525426\n",
      "Sensitivity :  0.967948717948718\n",
      "Specificity :  0.7112605042016807\n"
     ]
    },
    {
     "data": {
      "image/png": "[encoded data removed]",
      "text/plain": [
       "<Figure size 432x288 with 1 Axes>"
      ]
     },
     "metadata": {
      "needs_background": "light"
     },
     "output_type": "display_data"
    },
    {
     "name": "stdout",
     "output_type": "stream",
     "text": [
      "Drop: Rain48\n",
      "input data - ['Rain24' 'Rain72' 'RainWA' 'Wspeed' 'Solarhours' 'BeachType'\n",
      " 'BeachDirection' 'Wspeed_level' 'Wdirection_level' 'on_offshore']\n",
      "Overall accuracy :  0.8302966101694916\n",
      "Sensitivity :  0.9703418803418803\n",
      "Specificity :  0.6926050420168067\n"
     ]
    },
    {
     "data": {
      "image/png": "[encoded data removed]",
      "text/plain": [
       "<Figure size 432x288 with 1 Axes>"
      ]
     },
     "metadata": {
      "needs_background": "light"
     },
     "output_type": "display_data"
    },
    {
     "name": "stdout",
     "output_type": "stream",
     "text": [
      "Drop: Rain72\n",
      "input data - ['Rain24' 'Rain48' 'RainWA' 'Wspeed' 'Solarhours' 'BeachType'\n",
      " 'BeachDirection' 'Wspeed_level' 'Wdirection_level' 'on_offshore']\n",
      "Overall accuracy :  0.8229661016949155\n",
      "Sensitivity :  0.9683760683760684\n",
      "Specificity :  0.6800000000000002\n"
     ]
    },
    {
     "data": {
      "image/png": "[encoded data removed]",
      "text/plain": [
       "<Figure size 432x288 with 1 Axes>"
      ]
     },
     "metadata": {
      "needs_background": "light"
     },
     "output_type": "display_data"
    },
    {
     "name": "stdout",
     "output_type": "stream",
     "text": [
      "Drop: RainWA\n",
      "input data - ['Rain24' 'Rain48' 'Rain72' 'Wspeed' 'Solarhours' 'BeachType'\n",
      " 'BeachDirection' 'Wspeed_level' 'Wdirection_level' 'on_offshore']\n",
      "Overall accuracy :  0.8282203389830508\n",
      "Sensitivity :  0.967179487179487\n",
      "Specificity :  0.6915966386554622\n"
     ]
    },
    {
     "data": {
      "image/png": "[encoded data removed]",
      "text/plain": [
       "<Figure size 432x288 with 1 Axes>"
      ]
     },
     "metadata": {
      "needs_background": "light"
     },
     "output_type": "display_data"
    },
    {
     "name": "stdout",
     "output_type": "stream",
     "text": [
      "Drop: Wspeed\n",
      "input data - ['Rain24' 'Rain48' 'Rain72' 'RainWA' 'Solarhours' 'BeachType'\n",
      " 'BeachDirection' 'Wspeed_level' 'Wdirection_level' 'on_offshore']\n",
      "Overall accuracy :  0.8211016949152543\n",
      "Sensitivity :  0.9329914529914529\n",
      "Specificity :  0.7110924369747899\n"
     ]
    },
    {
     "data": {
      "image/png": "[encoded data removed]",
      "text/plain": [
       "<Figure size 432x288 with 1 Axes>"
      ]
     },
     "metadata": {
      "needs_background": "light"
     },
     "output_type": "display_data"
    },
    {
     "name": "stdout",
     "output_type": "stream",
     "text": [
      "Drop: Solarhours\n",
      "input data - ['Rain24' 'Rain48' 'Rain72' 'RainWA' 'Wspeed' 'BeachType' 'BeachDirection'\n",
      " 'Wspeed_level' 'Wdirection_level' 'on_offshore']\n",
      "Overall accuracy :  0.8145338983050847\n",
      "Sensitivity :  0.9201709401709401\n",
      "Specificity :  0.7106722689075631\n"
     ]
    },
    {
     "data": {
      "image/png": "[encoded data removed]",
      "text/plain": [
       "<Figure size 432x288 with 1 Axes>"
      ]
     },
     "metadata": {
      "needs_background": "light"
     },
     "output_type": "display_data"
    },
    {
     "name": "stdout",
     "output_type": "stream",
     "text": [
      "Drop: BeachType\n",
      "input data - ['Rain24' 'Rain48' 'Rain72' 'RainWA' 'Wspeed' 'Solarhours'\n",
      " 'BeachDirection' 'Wspeed_level' 'Wdirection_level' 'on_offshore']\n",
      "Overall accuracy :  0.8308898305084746\n",
      "Sensitivity :  0.9750427350427348\n",
      "Specificity :  0.6891596638655462\n"
     ]
    },
    {
     "data": {
      "image/png": "[encoded data removed]",
      "text/plain": [
       "<Figure size 432x288 with 1 Axes>"
      ]
     },
     "metadata": {
      "needs_background": "light"
     },
     "output_type": "display_data"
    },
    {
     "name": "stdout",
     "output_type": "stream",
     "text": [
      "Drop: BeachDirection\n",
      "input data - ['Rain24' 'Rain48' 'Rain72' 'RainWA' 'Wspeed' 'Solarhours' 'BeachType'\n",
      " 'Wspeed_level' 'Wdirection_level' 'on_offshore']\n",
      "Overall accuracy :  0.8149152542372882\n",
      "Sensitivity :  0.9687179487179489\n",
      "Specificity :  0.6636974789915966\n"
     ]
    },
    {
     "data": {
      "image/png": "[encoded data removed]",
      "text/plain": [
       "<Figure size 432x288 with 1 Axes>"
      ]
     },
     "metadata": {
      "needs_background": "light"
     },
     "output_type": "display_data"
    },
    {
     "name": "stdout",
     "output_type": "stream",
     "text": [
      "Drop: Wspeed_level\n",
      "input data - ['Rain24' 'Rain48' 'Rain72' 'RainWA' 'Wspeed' 'Solarhours' 'BeachType'\n",
      " 'BeachDirection' 'Wdirection_level' 'on_offshore']\n",
      "Overall accuracy :  0.8271610169491527\n",
      "Sensitivity :  0.9657264957264958\n",
      "Specificity :  0.6909243697478992\n"
     ]
    },
    {
     "data": {
      "image/png": "[encoded data removed]",
      "text/plain": [
       "<Figure size 432x288 with 1 Axes>"
      ]
     },
     "metadata": {
      "needs_background": "light"
     },
     "output_type": "display_data"
    },
    {
     "name": "stdout",
     "output_type": "stream",
     "text": [
      "Drop: Wdirection_level\n",
      "input data - ['Rain24' 'Rain48' 'Rain72' 'RainWA' 'Wspeed' 'Solarhours' 'BeachType'\n",
      " 'BeachDirection' 'Wspeed_level' 'on_offshore']\n",
      "Overall accuracy :  0.8498305084745761\n",
      "Sensitivity :  0.9725641025641025\n",
      "Specificity :  0.7291596638655463\n"
     ]
    },
    {
     "data": {
      "image/png": "[encoded data removed]",
      "text/plain": [
       "<Figure size 432x288 with 1 Axes>"
      ]
     },
     "metadata": {
      "needs_background": "light"
     },
     "output_type": "display_data"
    },
    {
     "name": "stdout",
     "output_type": "stream",
     "text": [
      "Drop: on_offshore\n",
      "input data - ['Rain24' 'Rain48' 'Rain72' 'RainWA' 'Wspeed' 'Solarhours' 'BeachType'\n",
      " 'BeachDirection' 'Wspeed_level' 'Wdirection_level']\n",
      "Overall accuracy :  0.8233050847457626\n",
      "Sensitivity :  0.9666666666666666\n",
      "Specificity :  0.6823529411764706\n"
     ]
    },
    {
     "data": {
      "image/png": "[encoded data removed]",
      "text/plain": [
       "<Figure size 432x288 with 1 Axes>"
      ]
     },
     "metadata": {
      "needs_background": "light"
     },
     "output_type": "display_data"
    },
    {
     "name": "stdout",
     "output_type": "stream",
     "text": [
      "Best sensitivity:  0.9750427350427348 after drop  ['Wdirection', 'BeachType']\n",
      "Best accuracy:  0.8498305084745761 after drop  ['Wdirection', 'Wdirection_level']\n"
     ]
    }
   ],
   "source": [
    "### KNN with ADASYN balanced data - based on best sensitivity - drop second parameter one each time to compare\n",
    "print(\"KNN (n=5) model with ADASYN (n=10) balanced data----Best sensitivity drop\", bsd)\n",
    "data_frame2 = data_frame.drop(columns=bsd)\n",
    "c = data_frame2.columns\n",
    "c = c.delete(0)\n",
    "for col in c:\n",
    "    print(\"Drop:\", col)\n",
    "    input_data = data_frame2.drop(columns=[str(col),'Entero_level'])\n",
    "    entero_data = data_frame['Entero_level']\n",
    "    print(\"input data -\", end =\" \")\n",
    "    print(input_data.columns.values)\n",
    "    # Separate real above and real below data\n",
    "    index_above = (data_frame2['Entero_level']==1)\n",
    "    index_below = (data_frame2['Entero_level']==0)\n",
    "    input_real_above_data = data_frame2[index_above]\n",
    "    input_real_below_data = data_frame2[index_below]\n",
    "\n",
    "    # Use real above data form testset above data\n",
    "    testset_above_data = input_real_above_data.drop(columns=['Entero_level',str(col)])\n",
    "    water_above_label = input_real_above_data.iloc[:,0]\n",
    "    \n",
    "    # ADASYN\n",
    "    ada = ADASYN(sampling_strategy=1, n_neighbors=10)\n",
    "\n",
    "    # For loop\n",
    "    j=np.zeros(100)\n",
    "    sen=np.zeros(100)\n",
    "    spe=np.zeros(100)\n",
    "    for i in range(100):\n",
    "        # Generate synthetic sampling data with ADASYN\n",
    "        data_fake, entero_fake = ada.fit_resample(input_data, entero_data)\n",
    "        x=pd.DataFrame(data_fake, columns=input_data.columns)\n",
    "        y=pd.DataFrame(entero_fake, columns=['Entero_level'])\n",
    "        x['Entero_level']=y['Entero_level'].values\n",
    "        data_fake_frame=x.query(\"Entero_level == 1\")\n",
    "        data_fake_frame=data_fake_frame.reset_index(drop=True)\n",
    "        #data_fake_frame.describe()\n",
    "    \n",
    "        # Use synthetic data to form trainset above data\n",
    "        input_fake_data = data_fake_frame.iloc[:,0:-1]\n",
    "        water_fake_label = data_fake_frame.iloc[:,-1]\n",
    "    \n",
    "        # Split the real below data randomly - test set size matches real above data size\n",
    "        input_real_data = input_real_below_data.drop(columns=['Entero_level',str(col)])\n",
    "        entero_real_data = input_real_below_data.iloc[:,0]\n",
    "        trainset_below_data, testset_below_data, trainset_below_labels, testset_below_labels = train_test_split(input_real_data, entero_real_data, test_size=ratio, random_state=42)\n",
    "    \n",
    "        # Use fake above data plus real below data to form trainset\n",
    "        trainset_data = np.vstack((input_fake_data, trainset_below_data))\n",
    "        trainset_labels = np.hstack((water_fake_label, trainset_below_labels))\n",
    "        \n",
    "        # Use real above data plus same amount of real below data to form testset\n",
    "        testset_data = np.vstack((testset_above_data, testset_below_data))\n",
    "        testset_labels = np.hstack((water_above_label, testset_below_labels))\n",
    "    \n",
    "        # Train data normalization\n",
    "        sc = preprocessing.Normalizer().fit(trainset_data)\n",
    "        trainset_data = sc.transform(trainset_data)\n",
    "        testset_data = sc.transform(testset_data)\n",
    "    \n",
    "        # Run KNN with sklearn\n",
    "        knn = KNeighborsClassifier(algorithm='auto',leaf_size=30,metric='minkowski',metric_params=None,n_jobs=1,n_neighbors=5,p=2,weights='uniform')\n",
    "        knn.fit(trainset_data, trainset_labels)\n",
    "        \n",
    "        cm1 = confusion_matrix(testset_labels,knn.predict(testset_data))\n",
    "        total1=sum(sum(cm1))\n",
    "        #####from confusion matrix calculate accuracy\n",
    "        j[i] = (cm1[0,0]+cm1[1,1])/total1\n",
    "        sen[i] = cm1[1,1]/(cm1[1,0]+cm1[1,1])\n",
    "        spe[i] = cm1[0,0]/(cm1[0,0]+cm1[0,1])\n",
    "        i=i+1\n",
    "    \n",
    "    #End of loop\n",
    "\n",
    "    # Show the KNN result\n",
    "    print ('Overall accuracy : ', j.mean())\n",
    "    print('Sensitivity : ', sen.mean())\n",
    "    print('Specificity : ', spe.mean())\n",
    "    if sen.mean()>best_sen:\n",
    "        best_sen=sen.mean()\n",
    "        best_sen_drop=bsd+list([col])\n",
    "    if j.mean()>best_acc:\n",
    "        best_acc=j.mean()\n",
    "        best_acc_drop=bsd+list([col])\n",
    "    plt.boxplot([j, sen, spe])\n",
    "    plt.xticks([1, 2, 3], [\"Accuracy\",\"Sensitivity\", \"Specificity\"])\n",
    "    plt.show()\n",
    "#End of loop\n",
    "\n",
    "print('Best sensitivity: ',best_sen, 'after drop ', best_sen_drop)\n",
    "print('Best accuracy: ', best_acc, 'after drop ', best_acc_drop)"
   ]
  },
  {
   "cell_type": "code",
   "execution_count": 11,
   "id": "b0e53112",
   "metadata": {},
   "outputs": [],
   "source": [
    "# Pass best_sen_drop and best_acc_drop\n",
    "bsd = best_sen_drop\n",
    "bad = best_acc_drop"
   ]
  },
  {
   "cell_type": "code",
   "execution_count": 12,
   "id": "55c9a7ab",
   "metadata": {},
   "outputs": [
    {
     "name": "stdout",
     "output_type": "stream",
     "text": [
      "KNN (n=5) model with ADASYN (n=10) balanced data----Best sensitivity drop ['Wdirection', 'BeachType']\n",
      "Drop: Rain24\n",
      "input data - ['Rain48' 'Rain72' 'RainWA' 'Wspeed' 'Solarhours' 'BeachDirection'\n",
      " 'Wspeed_level' 'Wdirection_level' 'on_offshore']\n",
      "Overall accuracy :  0.8349152542372882\n",
      "Sensitivity :  0.9757264957264955\n",
      "Specificity :  0.6964705882352941\n"
     ]
    },
    {
     "data": {
      "image/png": "[encoded data removed]",
      "text/plain": [
       "<Figure size 432x288 with 1 Axes>"
      ]
     },
     "metadata": {
      "needs_background": "light"
     },
     "output_type": "display_data"
    },
    {
     "name": "stdout",
     "output_type": "stream",
     "text": [
      "Drop: Rain48\n",
      "input data - ['Rain24' 'Rain72' 'RainWA' 'Wspeed' 'Solarhours' 'BeachDirection'\n",
      " 'Wspeed_level' 'Wdirection_level' 'on_offshore']\n",
      "Overall accuracy :  0.8330084745762713\n",
      "Sensitivity :  0.9757264957264957\n",
      "Specificity :  0.6926890756302521\n"
     ]
    },
    {
     "data": {
      "image/png": "[encoded data removed]",
      "text/plain": [
       "<Figure size 432x288 with 1 Axes>"
      ]
     },
     "metadata": {
      "needs_background": "light"
     },
     "output_type": "display_data"
    },
    {
     "name": "stdout",
     "output_type": "stream",
     "text": [
      "Drop: Rain72\n",
      "input data - ['Rain24' 'Rain48' 'RainWA' 'Wspeed' 'Solarhours' 'BeachDirection'\n",
      " 'Wspeed_level' 'Wdirection_level' 'on_offshore']\n",
      "Overall accuracy :  0.824449152542373\n",
      "Sensitivity :  0.9756410256410255\n",
      "Specificity :  0.6757983193277313\n"
     ]
    },
    {
     "data": {
      "image/png": "[encoded data removed]",
      "text/plain": [
       "<Figure size 432x288 with 1 Axes>"
      ]
     },
     "metadata": {
      "needs_background": "light"
     },
     "output_type": "display_data"
    },
    {
     "name": "stdout",
     "output_type": "stream",
     "text": [
      "Drop: RainWA\n",
      "input data - ['Rain24' 'Rain48' 'Rain72' 'Wspeed' 'Solarhours' 'BeachDirection'\n",
      " 'Wspeed_level' 'Wdirection_level' 'on_offshore']\n",
      "Overall accuracy :  0.8335593220338984\n",
      "Sensitivity :  0.9765811965811966\n",
      "Specificity :  0.6929411764705884\n"
     ]
    },
    {
     "data": {
      "image/png": "[encoded data removed]",
      "text/plain": [
       "<Figure size 432x288 with 1 Axes>"
      ]
     },
     "metadata": {
      "needs_background": "light"
     },
     "output_type": "display_data"
    },
    {
     "name": "stdout",
     "output_type": "stream",
     "text": [
      "Drop: Wspeed\n",
      "input data - ['Rain24' 'Rain48' 'Rain72' 'RainWA' 'Solarhours' 'BeachDirection'\n",
      " 'Wspeed_level' 'Wdirection_level' 'on_offshore']\n",
      "Overall accuracy :  0.8200423728813558\n",
      "Sensitivity :  0.9382905982905982\n",
      "Specificity :  0.703781512605042\n"
     ]
    },
    {
     "data": {
      "image/png": "[encoded data removed]",
      "text/plain": [
       "<Figure size 432x288 with 1 Axes>"
      ]
     },
     "metadata": {
      "needs_background": "light"
     },
     "output_type": "display_data"
    },
    {
     "name": "stdout",
     "output_type": "stream",
     "text": [
      "Drop: Solarhours\n",
      "input data - ['Rain24' 'Rain48' 'Rain72' 'RainWA' 'Wspeed' 'BeachDirection'\n",
      " 'Wspeed_level' 'Wdirection_level' 'on_offshore']\n",
      "Overall accuracy :  0.8227542372881357\n",
      "Sensitivity :  0.9336752136752137\n",
      "Specificity :  0.7136974789915967\n"
     ]
    },
    {
     "data": {
      "image/png": "[encoded data removed]",
      "text/plain": [
       "<Figure size 432x288 with 1 Axes>"
      ]
     },
     "metadata": {
      "needs_background": "light"
     },
     "output_type": "display_data"
    },
    {
     "name": "stdout",
     "output_type": "stream",
     "text": [
      "Drop: BeachDirection\n",
      "input data - ['Rain24' 'Rain48' 'Rain72' 'RainWA' 'Wspeed' 'Solarhours' 'Wspeed_level'\n",
      " 'Wdirection_level' 'on_offshore']\n",
      "Overall accuracy :  0.8052542372881356\n",
      "Sensitivity :  0.9294871794871795\n",
      "Specificity :  0.683109243697479\n"
     ]
    },
    {
     "data": {
      "image/png": "[encoded data removed]",
      "text/plain": [
       "<Figure size 432x288 with 1 Axes>"
      ]
     },
     "metadata": {
      "needs_background": "light"
     },
     "output_type": "display_data"
    },
    {
     "name": "stdout",
     "output_type": "stream",
     "text": [
      "Drop: Wspeed_level\n",
      "input data - ['Rain24' 'Rain48' 'Rain72' 'RainWA' 'Wspeed' 'Solarhours'\n",
      " 'BeachDirection' 'Wdirection_level' 'on_offshore']\n",
      "Overall accuracy :  0.8288559322033899\n",
      "Sensitivity :  0.9738461538461537\n",
      "Specificity :  0.6863025210084034\n"
     ]
    },
    {
     "data": {
      "image/png": "[encoded data removed]",
      "text/plain": [
       "<Figure size 432x288 with 1 Axes>"
      ]
     },
     "metadata": {
      "needs_background": "light"
     },
     "output_type": "display_data"
    },
    {
     "name": "stdout",
     "output_type": "stream",
     "text": [
      "Drop: Wdirection_level\n",
      "input data - ['Rain24' 'Rain48' 'Rain72' 'RainWA' 'Wspeed' 'Solarhours'\n",
      " 'BeachDirection' 'Wspeed_level' 'on_offshore']\n",
      "Overall accuracy :  0.8472881355932205\n",
      "Sensitivity :  0.9797435897435897\n",
      "Specificity :  0.7170588235294119\n"
     ]
    },
    {
     "data": {
      "image/png": "[encoded data removed]",
      "text/plain": [
       "<Figure size 432x288 with 1 Axes>"
      ]
     },
     "metadata": {
      "needs_background": "light"
     },
     "output_type": "display_data"
    },
    {
     "name": "stdout",
     "output_type": "stream",
     "text": [
      "Drop: on_offshore\n",
      "input data - ['Rain24' 'Rain48' 'Rain72' 'RainWA' 'Wspeed' 'Solarhours'\n",
      " 'BeachDirection' 'Wspeed_level' 'Wdirection_level']\n",
      "Overall accuracy :  0.8213559322033899\n",
      "Sensitivity :  0.9693162393162392\n",
      "Specificity :  0.6758823529411765\n"
     ]
    },
    {
     "data": {
      "image/png": "[encoded data removed]",
      "text/plain": [
       "<Figure size 432x288 with 1 Axes>"
      ]
     },
     "metadata": {
      "needs_background": "light"
     },
     "output_type": "display_data"
    },
    {
     "name": "stdout",
     "output_type": "stream",
     "text": [
      "Best sensitivity:  0.9797435897435897 after drop  ['Wdirection', 'BeachType', 'Wdirection_level']\n",
      "Best accuracy:  0.8498305084745761 after drop  ['Wdirection', 'Wdirection_level']\n"
     ]
    }
   ],
   "source": [
    "### KNN with ADASYN balanced data - based on best sensitivity - drop third parameter one each time to compare\n",
    "print(\"KNN (n=5) model with ADASYN (n=10) balanced data----Best sensitivity drop\", bsd)\n",
    "data_frame2 = data_frame.drop(columns=bsd)\n",
    "c = data_frame2.columns\n",
    "c = c.delete(0)\n",
    "for col in c:\n",
    "    print(\"Drop:\", col)\n",
    "    input_data = data_frame2.drop(columns=[str(col),'Entero_level'])\n",
    "    entero_data = data_frame['Entero_level']\n",
    "    print(\"input data -\", end =\" \")\n",
    "    print(input_data.columns.values)\n",
    "    # Separate real above and real below data\n",
    "    index_above = (data_frame2['Entero_level']==1)\n",
    "    index_below = (data_frame2['Entero_level']==0)\n",
    "    input_real_above_data = data_frame2[index_above]\n",
    "    input_real_below_data = data_frame2[index_below]\n",
    "\n",
    "    # Use real above data form testset above data\n",
    "    testset_above_data = input_real_above_data.drop(columns=['Entero_level',str(col)])\n",
    "    water_above_label = input_real_above_data.iloc[:,0]\n",
    "    \n",
    "    # ADASYN\n",
    "    ada = ADASYN(sampling_strategy=1, n_neighbors=10)\n",
    "\n",
    "    # For loop\n",
    "    j=np.zeros(100)\n",
    "    sen=np.zeros(100)\n",
    "    spe=np.zeros(100)\n",
    "    for i in range(100):\n",
    "        # Generate synthetic sampling data with ADASYN\n",
    "        data_fake, entero_fake = ada.fit_resample(input_data, entero_data)\n",
    "        x=pd.DataFrame(data_fake, columns=input_data.columns)\n",
    "        y=pd.DataFrame(entero_fake, columns=['Entero_level'])\n",
    "        x['Entero_level']=y['Entero_level'].values\n",
    "        data_fake_frame=x.query(\"Entero_level == 1\")\n",
    "        data_fake_frame=data_fake_frame.reset_index(drop=True)\n",
    "        #data_fake_frame.describe()\n",
    "    \n",
    "        # Use synthetic data to form trainset above data\n",
    "        input_fake_data = data_fake_frame.iloc[:,0:-1]\n",
    "        water_fake_label = data_fake_frame.iloc[:,-1]\n",
    "    \n",
    "        # Split the real below data randomly - test set size matches real above data size\n",
    "        input_real_data = input_real_below_data.drop(columns=['Entero_level',str(col)])\n",
    "        entero_real_data = input_real_below_data.iloc[:,0]\n",
    "        trainset_below_data, testset_below_data, trainset_below_labels, testset_below_labels = train_test_split(input_real_data, entero_real_data, test_size=ratio, random_state=42)\n",
    "    \n",
    "        # Use fake above data plus real below data to form trainset\n",
    "        trainset_data = np.vstack((input_fake_data, trainset_below_data))\n",
    "        trainset_labels = np.hstack((water_fake_label, trainset_below_labels))\n",
    "        \n",
    "        # Use real above data plus same amount of real below data to form testset\n",
    "        testset_data = np.vstack((testset_above_data, testset_below_data))\n",
    "        testset_labels = np.hstack((water_above_label, testset_below_labels))\n",
    "    \n",
    "        # Train data normalization\n",
    "        sc = preprocessing.Normalizer().fit(trainset_data)\n",
    "        trainset_data = sc.transform(trainset_data)\n",
    "        testset_data = sc.transform(testset_data)\n",
    "    \n",
    "        # Run KNN with sklearn\n",
    "        knn = KNeighborsClassifier(algorithm='auto',leaf_size=30,metric='minkowski',metric_params=None,n_jobs=1,n_neighbors=5,p=2,weights='uniform')\n",
    "        knn.fit(trainset_data, trainset_labels)\n",
    "        \n",
    "        cm1 = confusion_matrix(testset_labels,knn.predict(testset_data))\n",
    "        total1=sum(sum(cm1))\n",
    "        #####from confusion matrix calculate accuracy\n",
    "        j[i] = (cm1[0,0]+cm1[1,1])/total1\n",
    "        sen[i] = cm1[1,1]/(cm1[1,0]+cm1[1,1])\n",
    "        spe[i] = cm1[0,0]/(cm1[0,0]+cm1[0,1])\n",
    "        i=i+1\n",
    "    \n",
    "    #End of loop\n",
    "\n",
    "    # Show the KNN result\n",
    "    print ('Overall accuracy : ', j.mean())\n",
    "    print('Sensitivity : ', sen.mean())\n",
    "    print('Specificity : ', spe.mean())\n",
    "    if sen.mean()>best_sen:\n",
    "        best_sen=sen.mean()\n",
    "        best_sen_drop=bsd+list([col])\n",
    "    if j.mean()>best_acc:\n",
    "        best_acc=j.mean()\n",
    "        best_acc_drop=bsd+list([col])\n",
    "    plt.boxplot([j, sen, spe])\n",
    "    plt.xticks([1, 2, 3], [\"Accuracy\",\"Sensitivity\", \"Specificity\"])\n",
    "    plt.show()\n",
    "#End of loop\n",
    "\n",
    "print('Best sensitivity: ',best_sen, 'after drop ', best_sen_drop)\n",
    "print('Best accuracy: ', best_acc, 'after drop ', best_acc_drop)"
   ]
  },
  {
   "cell_type": "code",
   "execution_count": 13,
   "id": "cc9c945f",
   "metadata": {},
   "outputs": [],
   "source": [
    "# Pass best_sen_drop and best_acc_drop\n",
    "bsd = best_sen_drop\n",
    "bad = best_acc_drop"
   ]
  },
  {
   "cell_type": "code",
   "execution_count": 14,
   "id": "bd74fb64",
   "metadata": {},
   "outputs": [
    {
     "name": "stdout",
     "output_type": "stream",
     "text": [
      "KNN (n=5) model with ADASYN (n=10) balanced data----Best sensitivity drop ['Wdirection', 'BeachType', 'Wdirection_level']\n",
      "Drop: Rain24\n",
      "input data - ['Rain48' 'Rain72' 'RainWA' 'Wspeed' 'Solarhours' 'BeachDirection'\n",
      " 'Wspeed_level' 'on_offshore']\n",
      "Overall accuracy :  0.8378389830508474\n",
      "Sensitivity :  0.9788888888888887\n",
      "Specificity :  0.6991596638655463\n"
     ]
    },
    {
     "data": {
      "image/png": "[encoded data removed]",
      "text/plain": [
       "<Figure size 432x288 with 1 Axes>"
      ]
     },
     "metadata": {
      "needs_background": "light"
     },
     "output_type": "display_data"
    },
    {
     "name": "stdout",
     "output_type": "stream",
     "text": [
      "Drop: Rain48\n",
      "input data - ['Rain24' 'Rain72' 'RainWA' 'Wspeed' 'Solarhours' 'BeachDirection'\n",
      " 'Wspeed_level' 'on_offshore']\n",
      "Overall accuracy :  0.8419915254237289\n",
      "Sensitivity :  0.9810256410256408\n",
      "Specificity :  0.7052941176470588\n"
     ]
    },
    {
     "data": {
      "image/png": "[encoded data removed]",
      "text/plain": [
       "<Figure size 432x288 with 1 Axes>"
      ]
     },
     "metadata": {
      "needs_background": "light"
     },
     "output_type": "display_data"
    },
    {
     "name": "stdout",
     "output_type": "stream",
     "text": [
      "Drop: Rain72\n",
      "input data - ['Rain24' 'Rain48' 'RainWA' 'Wspeed' 'Solarhours' 'BeachDirection'\n",
      " 'Wspeed_level' 'on_offshore']\n",
      "Overall accuracy :  0.8456779661016947\n",
      "Sensitivity :  0.982991452991453\n",
      "Specificity :  0.7106722689075631\n"
     ]
    },
    {
     "data": {
      "image/png": "[encoded data removed]",
      "text/plain": [
       "<Figure size 432x288 with 1 Axes>"
      ]
     },
     "metadata": {
      "needs_background": "light"
     },
     "output_type": "display_data"
    },
    {
     "name": "stdout",
     "output_type": "stream",
     "text": [
      "Drop: RainWA\n",
      "input data - ['Rain24' 'Rain48' 'Rain72' 'Wspeed' 'Solarhours' 'BeachDirection'\n",
      " 'Wspeed_level' 'on_offshore']\n",
      "Overall accuracy :  0.8561016949152541\n",
      "Sensitivity :  0.9819658119658119\n",
      "Specificity :  0.7323529411764704\n"
     ]
    },
    {
     "data": {
      "image/png": "[encoded data removed]",
      "text/plain": [
       "<Figure size 432x288 with 1 Axes>"
      ]
     },
     "metadata": {
      "needs_background": "light"
     },
     "output_type": "display_data"
    },
    {
     "name": "stdout",
     "output_type": "stream",
     "text": [
      "Drop: Wspeed\n",
      "input data - ['Rain24' 'Rain48' 'Rain72' 'RainWA' 'Solarhours' 'BeachDirection'\n",
      " 'Wspeed_level' 'on_offshore']\n",
      "Overall accuracy :  0.830635593220339\n",
      "Sensitivity :  0.9197435897435898\n",
      "Specificity :  0.7430252100840334\n"
     ]
    },
    {
     "data": {
      "image/png": "[encoded data removed]",
      "text/plain": [
       "<Figure size 432x288 with 1 Axes>"
      ]
     },
     "metadata": {
      "needs_background": "light"
     },
     "output_type": "display_data"
    },
    {
     "name": "stdout",
     "output_type": "stream",
     "text": [
      "Drop: Solarhours\n",
      "input data - ['Rain24' 'Rain48' 'Rain72' 'RainWA' 'Wspeed' 'BeachDirection'\n",
      " 'Wspeed_level' 'on_offshore']\n",
      "Overall accuracy :  0.8197457627118645\n",
      "Sensitivity :  0.9294017094017096\n",
      "Specificity :  0.7119327731092436\n"
     ]
    },
    {
     "data": {
      "image/png": "[encoded data removed]",
      "text/plain": [
       "<Figure size 432x288 with 1 Axes>"
      ]
     },
     "metadata": {
      "needs_background": "light"
     },
     "output_type": "display_data"
    },
    {
     "name": "stdout",
     "output_type": "stream",
     "text": [
      "Drop: BeachDirection\n",
      "input data - ['Rain24' 'Rain48' 'Rain72' 'RainWA' 'Wspeed' 'Solarhours' 'Wspeed_level'\n",
      " 'on_offshore']\n",
      "Overall accuracy :  0.8316525423728812\n",
      "Sensitivity :  0.956068376068376\n",
      "Specificity :  0.709327731092437\n"
     ]
    },
    {
     "data": {
      "image/png": "[encoded data removed]",
      "text/plain": [
       "<Figure size 432x288 with 1 Axes>"
      ]
     },
     "metadata": {
      "needs_background": "light"
     },
     "output_type": "display_data"
    },
    {
     "name": "stdout",
     "output_type": "stream",
     "text": [
      "Drop: Wspeed_level\n",
      "input data - ['Rain24' 'Rain48' 'Rain72' 'RainWA' 'Wspeed' 'Solarhours'\n",
      " 'BeachDirection' 'on_offshore']\n",
      "Overall accuracy :  0.8398305084745763\n",
      "Sensitivity :  0.9772649572649574\n",
      "Specificity :  0.7047058823529413\n"
     ]
    },
    {
     "data": {
      "image/png": "[encoded data removed]",
      "text/plain": [
       "<Figure size 432x288 with 1 Axes>"
      ]
     },
     "metadata": {
      "needs_background": "light"
     },
     "output_type": "display_data"
    },
    {
     "name": "stdout",
     "output_type": "stream",
     "text": [
      "Drop: on_offshore\n",
      "input data - ['Rain24' 'Rain48' 'Rain72' 'RainWA' 'Wspeed' 'Solarhours'\n",
      " 'BeachDirection' 'Wspeed_level']\n",
      "Overall accuracy :  0.8475423728813557\n",
      "Sensitivity :  0.9687179487179486\n",
      "Specificity :  0.7284033613445378\n"
     ]
    },
    {
     "data": {
      "image/png": "[encoded data removed]",
      "text/plain": [
       "<Figure size 432x288 with 1 Axes>"
      ]
     },
     "metadata": {
      "needs_background": "light"
     },
     "output_type": "display_data"
    },
    {
     "name": "stdout",
     "output_type": "stream",
     "text": [
      "Best sensitivity:  0.982991452991453 after drop  ['Wdirection', 'BeachType', 'Wdirection_level', 'Rain72']\n",
      "Best accuracy:  0.8561016949152541 after drop  ['Wdirection', 'BeachType', 'Wdirection_level', 'RainWA']\n"
     ]
    }
   ],
   "source": [
    "### KNN with ADASYN balanced data - based on best sensitivity - drop fourth parameter one each time to compare\n",
    "print(\"KNN (n=5) model with ADASYN (n=10) balanced data----Best sensitivity drop\", bsd)\n",
    "data_frame2 = data_frame.drop(columns=bsd)\n",
    "c = data_frame2.columns\n",
    "c = c.delete(0)\n",
    "for col in c:\n",
    "    print(\"Drop:\", col)\n",
    "    input_data = data_frame2.drop(columns=[str(col),'Entero_level'])\n",
    "    entero_data = data_frame['Entero_level']\n",
    "    print(\"input data -\", end =\" \")\n",
    "    print(input_data.columns.values)\n",
    "    # Separate real above and real below data\n",
    "    index_above = (data_frame2['Entero_level']==1)\n",
    "    index_below = (data_frame2['Entero_level']==0)\n",
    "    input_real_above_data = data_frame2[index_above]\n",
    "    input_real_below_data = data_frame2[index_below]\n",
    "\n",
    "    # Use real above data form testset above data\n",
    "    testset_above_data = input_real_above_data.drop(columns=['Entero_level',str(col)])\n",
    "    water_above_label = input_real_above_data.iloc[:,0]\n",
    "    \n",
    "    # ADASYN\n",
    "    ada = ADASYN(sampling_strategy=1, n_neighbors=10)\n",
    "\n",
    "    # For loop\n",
    "    j=np.zeros(100)\n",
    "    sen=np.zeros(100)\n",
    "    spe=np.zeros(100)\n",
    "    for i in range(100):\n",
    "        # Generate synthetic sampling data with ADASYN\n",
    "        data_fake, entero_fake = ada.fit_resample(input_data, entero_data)\n",
    "        x=pd.DataFrame(data_fake, columns=input_data.columns)\n",
    "        y=pd.DataFrame(entero_fake, columns=['Entero_level'])\n",
    "        x['Entero_level']=y['Entero_level'].values\n",
    "        data_fake_frame=x.query(\"Entero_level == 1\")\n",
    "        data_fake_frame=data_fake_frame.reset_index(drop=True)\n",
    "        #data_fake_frame.describe()\n",
    "    \n",
    "        # Use synthetic data to form trainset above data\n",
    "        input_fake_data = data_fake_frame.iloc[:,0:-1]\n",
    "        water_fake_label = data_fake_frame.iloc[:,-1]\n",
    "    \n",
    "        # Split the real below data randomly - test set size matches real above data size\n",
    "        input_real_data = input_real_below_data.drop(columns=['Entero_level',str(col)])\n",
    "        entero_real_data = input_real_below_data.iloc[:,0]\n",
    "        trainset_below_data, testset_below_data, trainset_below_labels, testset_below_labels = train_test_split(input_real_data, entero_real_data, test_size=ratio, random_state=42)\n",
    "    \n",
    "        # Use fake above data plus real below data to form trainset\n",
    "        trainset_data = np.vstack((input_fake_data, trainset_below_data))\n",
    "        trainset_labels = np.hstack((water_fake_label, trainset_below_labels))\n",
    "        \n",
    "        # Use real above data plus same amount of real below data to form testset\n",
    "        testset_data = np.vstack((testset_above_data, testset_below_data))\n",
    "        testset_labels = np.hstack((water_above_label, testset_below_labels))\n",
    "    \n",
    "        # Train data normalization\n",
    "        sc = preprocessing.Normalizer().fit(trainset_data)\n",
    "        trainset_data = sc.transform(trainset_data)\n",
    "        testset_data = sc.transform(testset_data)\n",
    "    \n",
    "        # Run KNN with sklearn\n",
    "        knn = KNeighborsClassifier(algorithm='auto',leaf_size=30,metric='minkowski',metric_params=None,n_jobs=1,n_neighbors=5,p=2,weights='uniform')\n",
    "        knn.fit(trainset_data, trainset_labels)\n",
    "        \n",
    "        cm1 = confusion_matrix(testset_labels,knn.predict(testset_data))\n",
    "        total1=sum(sum(cm1))\n",
    "        #####from confusion matrix calculate accuracy\n",
    "        j[i] = (cm1[0,0]+cm1[1,1])/total1\n",
    "        sen[i] = cm1[1,1]/(cm1[1,0]+cm1[1,1])\n",
    "        spe[i] = cm1[0,0]/(cm1[0,0]+cm1[0,1])\n",
    "        i=i+1\n",
    "    \n",
    "    #End of loop\n",
    "\n",
    "    # Show the KNN result\n",
    "    print ('Overall accuracy : ', j.mean())\n",
    "    print('Sensitivity : ', sen.mean())\n",
    "    print('Specificity : ', spe.mean())\n",
    "    if sen.mean()>best_sen:\n",
    "        best_sen=sen.mean()\n",
    "        best_sen_drop=bsd+list([col])\n",
    "    if j.mean()>best_acc:\n",
    "        best_acc=j.mean()\n",
    "        best_acc_drop=bsd+list([col])\n",
    "    plt.boxplot([j, sen, spe])\n",
    "    plt.xticks([1, 2, 3], [\"Accuracy\",\"Sensitivity\", \"Specificity\"])\n",
    "    plt.show()\n",
    "#End of loop\n",
    "\n",
    "print('Best sensitivity: ',best_sen, 'after drop ', best_sen_drop)\n",
    "print('Best accuracy: ', best_acc, 'after drop ', best_acc_drop)"
   ]
  },
  {
   "cell_type": "code",
   "execution_count": 15,
   "id": "a9e1e6f3",
   "metadata": {},
   "outputs": [],
   "source": [
    "# Pass best_sen_drop and best_acc_drop\n",
    "bsd = best_sen_drop\n",
    "bad = best_acc_drop"
   ]
  },
  {
   "cell_type": "code",
   "execution_count": 16,
   "id": "9652e1e6",
   "metadata": {},
   "outputs": [
    {
     "name": "stdout",
     "output_type": "stream",
     "text": [
      "KNN (n=5) model with ADASYN (n=10) balanced data----Best sensitivity drop ['Wdirection', 'BeachType', 'Wdirection_level', 'Rain72']\n",
      "Drop: Rain24\n",
      "input data - ['Rain48' 'RainWA' 'Wspeed' 'Solarhours' 'BeachDirection' 'Wspeed_level'\n",
      " 'on_offshore']\n",
      "Overall accuracy :  0.8366101694915252\n",
      "Sensitivity :  0.9813675213675213\n",
      "Specificity :  0.6942857142857143\n"
     ]
    },
    {
     "data": {
      "image/png": "[encoded data removed]",
      "text/plain": [
       "<Figure size 432x288 with 1 Axes>"
      ]
     },
     "metadata": {
      "needs_background": "light"
     },
     "output_type": "display_data"
    },
    {
     "name": "stdout",
     "output_type": "stream",
     "text": [
      "Drop: Rain48\n",
      "input data - ['Rain24' 'RainWA' 'Wspeed' 'Solarhours' 'BeachDirection' 'Wspeed_level'\n",
      " 'on_offshore']\n",
      "Overall accuracy :  0.8596610169491526\n",
      "Sensitivity :  0.9792307692307692\n",
      "Specificity :  0.7421008403361345\n"
     ]
    },
    {
     "data": {
      "image/png": "[encoded data removed]",
      "text/plain": [
       "<Figure size 432x288 with 1 Axes>"
      ]
     },
     "metadata": {
      "needs_background": "light"
     },
     "output_type": "display_data"
    },
    {
     "name": "stdout",
     "output_type": "stream",
     "text": [
      "Drop: RainWA\n",
      "input data - ['Rain24' 'Rain48' 'Wspeed' 'Solarhours' 'BeachDirection' 'Wspeed_level'\n",
      " 'on_offshore']\n",
      "Overall accuracy :  0.8443644067796611\n",
      "Sensitivity :  0.968034188034188\n",
      "Specificity :  0.7227731092436975\n"
     ]
    },
    {
     "data": {
      "image/png": "[encoded data removed]",
      "text/plain": [
       "<Figure size 432x288 with 1 Axes>"
      ]
     },
     "metadata": {
      "needs_background": "light"
     },
     "output_type": "display_data"
    },
    {
     "name": "stdout",
     "output_type": "stream",
     "text": [
      "Drop: Wspeed\n",
      "input data - ['Rain24' 'Rain48' 'RainWA' 'Solarhours' 'BeachDirection' 'Wspeed_level'\n",
      " 'on_offshore']\n",
      "Overall accuracy :  0.8305932203389829\n",
      "Sensitivity :  0.9200854700854701\n",
      "Specificity :  0.7426050420168068\n"
     ]
    },
    {
     "data": {
      "image/png": "[encoded data removed]",
      "text/plain": [
       "<Figure size 432x288 with 1 Axes>"
      ]
     },
     "metadata": {
      "needs_background": "light"
     },
     "output_type": "display_data"
    },
    {
     "name": "stdout",
     "output_type": "stream",
     "text": [
      "Drop: Solarhours\n",
      "input data - ['Rain24' 'Rain48' 'RainWA' 'Wspeed' 'BeachDirection' 'Wspeed_level'\n",
      " 'on_offshore']\n",
      "Overall accuracy :  0.8169067796610169\n",
      "Sensitivity :  0.9208547008547009\n",
      "Specificity :  0.7147058823529412\n"
     ]
    },
    {
     "data": {
      "image/png": "[encoded data removed]",
      "text/plain": [
       "<Figure size 432x288 with 1 Axes>"
      ]
     },
     "metadata": {
      "needs_background": "light"
     },
     "output_type": "display_data"
    },
    {
     "name": "stdout",
     "output_type": "stream",
     "text": [
      "Drop: BeachDirection\n",
      "input data - ['Rain24' 'Rain48' 'RainWA' 'Wspeed' 'Solarhours' 'Wspeed_level'\n",
      " 'on_offshore']\n",
      "Overall accuracy :  0.8227966101694915\n",
      "Sensitivity :  0.9570940170940169\n",
      "Specificity :  0.6907563025210084\n"
     ]
    },
    {
     "data": {
      "image/png": "[encoded data removed]",
      "text/plain": [
       "<Figure size 432x288 with 1 Axes>"
      ]
     },
     "metadata": {
      "needs_background": "light"
     },
     "output_type": "display_data"
    },
    {
     "name": "stdout",
     "output_type": "stream",
     "text": [
      "Drop: Wspeed_level\n",
      "input data - ['Rain24' 'Rain48' 'RainWA' 'Wspeed' 'Solarhours' 'BeachDirection'\n",
      " 'on_offshore']\n",
      "Overall accuracy :  0.8403813559322033\n",
      "Sensitivity :  0.9788034188034187\n",
      "Specificity :  0.7042857142857144\n"
     ]
    },
    {
     "data": {
      "image/png": "[encoded data removed]",
      "text/plain": [
       "<Figure size 432x288 with 1 Axes>"
      ]
     },
     "metadata": {
      "needs_background": "light"
     },
     "output_type": "display_data"
    },
    {
     "name": "stdout",
     "output_type": "stream",
     "text": [
      "Drop: on_offshore\n",
      "input data - ['Rain24' 'Rain48' 'RainWA' 'Wspeed' 'Solarhours' 'BeachDirection'\n",
      " 'Wspeed_level']\n",
      "Overall accuracy :  0.8443644067796611\n",
      "Sensitivity :  0.9723931623931622\n",
      "Specificity :  0.7184873949579833\n"
     ]
    },
    {
     "data": {
      "image/png": "[encoded data removed]",
      "text/plain": [
       "<Figure size 432x288 with 1 Axes>"
      ]
     },
     "metadata": {
      "needs_background": "light"
     },
     "output_type": "display_data"
    },
    {
     "name": "stdout",
     "output_type": "stream",
     "text": [
      "Best sensitivity:  0.982991452991453 after drop  ['Wdirection', 'BeachType', 'Wdirection_level', 'Rain72']\n",
      "Best accuracy:  0.8596610169491526 after drop  ['Wdirection', 'BeachType', 'Wdirection_level', 'Rain72', 'Rain48']\n"
     ]
    }
   ],
   "source": [
    "### KNN with ADASYN balanced data - based on best sensitivity - drop fifth parameter one each time to compare\n",
    "print(\"KNN (n=5) model with ADASYN (n=10) balanced data----Best sensitivity drop\", bsd)\n",
    "data_frame2 = data_frame.drop(columns=bsd)\n",
    "c = data_frame2.columns\n",
    "c = c.delete(0)\n",
    "for col in c:\n",
    "    print(\"Drop:\", col)\n",
    "    input_data = data_frame2.drop(columns=[str(col),'Entero_level'])\n",
    "    entero_data = data_frame['Entero_level']\n",
    "    print(\"input data -\", end =\" \")\n",
    "    print(input_data.columns.values)\n",
    "    # Separate real above and real below data\n",
    "    index_above = (data_frame2['Entero_level']==1)\n",
    "    index_below = (data_frame2['Entero_level']==0)\n",
    "    input_real_above_data = data_frame2[index_above]\n",
    "    input_real_below_data = data_frame2[index_below]\n",
    "\n",
    "    # Use real above data form testset above data\n",
    "    testset_above_data = input_real_above_data.drop(columns=['Entero_level',str(col)])\n",
    "    water_above_label = input_real_above_data.iloc[:,0]\n",
    "    \n",
    "    # ADASYN\n",
    "    ada = ADASYN(sampling_strategy=1, n_neighbors=10)\n",
    "\n",
    "    # For loop\n",
    "    j=np.zeros(100)\n",
    "    sen=np.zeros(100)\n",
    "    spe=np.zeros(100)\n",
    "    for i in range(100):\n",
    "        # Generate synthetic sampling data with ADASYN\n",
    "        data_fake, entero_fake = ada.fit_resample(input_data, entero_data)\n",
    "        x=pd.DataFrame(data_fake, columns=input_data.columns)\n",
    "        y=pd.DataFrame(entero_fake, columns=['Entero_level'])\n",
    "        x['Entero_level']=y['Entero_level'].values\n",
    "        data_fake_frame=x.query(\"Entero_level == 1\")\n",
    "        data_fake_frame=data_fake_frame.reset_index(drop=True)\n",
    "        #data_fake_frame.describe()\n",
    "    \n",
    "        # Use synthetic data to form trainset above data\n",
    "        input_fake_data = data_fake_frame.iloc[:,0:-1]\n",
    "        water_fake_label = data_fake_frame.iloc[:,-1]\n",
    "    \n",
    "        # Split the real below data randomly - test set size matches real above data size\n",
    "        input_real_data = input_real_below_data.drop(columns=['Entero_level',str(col)])\n",
    "        entero_real_data = input_real_below_data.iloc[:,0]\n",
    "        trainset_below_data, testset_below_data, trainset_below_labels, testset_below_labels = train_test_split(input_real_data, entero_real_data, test_size=ratio, random_state=42)\n",
    "    \n",
    "        # Use fake above data plus real below data to form trainset\n",
    "        trainset_data = np.vstack((input_fake_data, trainset_below_data))\n",
    "        trainset_labels = np.hstack((water_fake_label, trainset_below_labels))\n",
    "        \n",
    "        # Use real above data plus same amount of real below data to form testset\n",
    "        testset_data = np.vstack((testset_above_data, testset_below_data))\n",
    "        testset_labels = np.hstack((water_above_label, testset_below_labels))\n",
    "    \n",
    "        # Train data normalization\n",
    "        sc = preprocessing.Normalizer().fit(trainset_data)\n",
    "        trainset_data = sc.transform(trainset_data)\n",
    "        testset_data = sc.transform(testset_data)\n",
    "    \n",
    "        # Run KNN with sklearn\n",
    "        knn = KNeighborsClassifier(algorithm='auto',leaf_size=30,metric='minkowski',metric_params=None,n_jobs=1,n_neighbors=5,p=2,weights='uniform')\n",
    "        knn.fit(trainset_data, trainset_labels)\n",
    "        \n",
    "        cm1 = confusion_matrix(testset_labels,knn.predict(testset_data))\n",
    "        total1=sum(sum(cm1))\n",
    "        #####from confusion matrix calculate accuracy\n",
    "        j[i] = (cm1[0,0]+cm1[1,1])/total1\n",
    "        sen[i] = cm1[1,1]/(cm1[1,0]+cm1[1,1])\n",
    "        spe[i] = cm1[0,0]/(cm1[0,0]+cm1[0,1])\n",
    "        i=i+1\n",
    "    \n",
    "    #End of loop\n",
    "\n",
    "    # Show the KNN result\n",
    "    print ('Overall accuracy : ', j.mean())\n",
    "    print('Sensitivity : ', sen.mean())\n",
    "    print('Specificity : ', spe.mean())\n",
    "    if sen.mean()>best_sen:\n",
    "        best_sen=sen.mean()\n",
    "        best_sen_drop=bsd+list([col])\n",
    "    if j.mean()>best_acc:\n",
    "        best_acc=j.mean()\n",
    "        best_acc_drop=bsd+list([col])\n",
    "    plt.boxplot([j, sen, spe])\n",
    "    plt.xticks([1, 2, 3], [\"Accuracy\",\"Sensitivity\", \"Specificity\"])\n",
    "    plt.show()\n",
    "#End of loop\n",
    "\n",
    "print('Best sensitivity: ',best_sen, 'after drop ', best_sen_drop)\n",
    "print('Best accuracy: ', best_acc, 'after drop ', best_acc_drop)"
   ]
  },
  {
   "cell_type": "code",
   "execution_count": 17,
   "id": "46f8f445",
   "metadata": {},
   "outputs": [],
   "source": [
    "# Pass best_sen_drop and best_acc_drop\n",
    "bsd = best_sen_drop\n",
    "bad = best_acc_drop"
   ]
  },
  {
   "cell_type": "code",
   "execution_count": 18,
   "id": "6794ead2",
   "metadata": {},
   "outputs": [
    {
     "name": "stdout",
     "output_type": "stream",
     "text": [
      "KNN (n=5) model with ADASYN (n=10) balanced data----Best accuracy drop ['Wdirection', 'BeachType', 'Wdirection_level', 'Rain72', 'Rain48']\n",
      "Drop: Rain24\n",
      "input data - ['RainWA' 'Wspeed' 'Solarhours' 'BeachDirection' 'Wspeed_level'\n",
      " 'on_offshore']\n",
      "Overall accuracy :  0.849957627118644\n",
      "Sensitivity :  0.9748717948717947\n",
      "Specificity :  0.7271428571428571\n"
     ]
    },
    {
     "data": {
      "image/png": "[encoded data removed]",
      "text/plain": [
       "<Figure size 432x288 with 1 Axes>"
      ]
     },
     "metadata": {
      "needs_background": "light"
     },
     "output_type": "display_data"
    },
    {
     "name": "stdout",
     "output_type": "stream",
     "text": [
      "Drop: RainWA\n",
      "input data - ['Rain24' 'Wspeed' 'Solarhours' 'BeachDirection' 'Wspeed_level'\n",
      " 'on_offshore']\n",
      "Overall accuracy :  0.8425423728813558\n",
      "Sensitivity :  0.9446153846153846\n",
      "Specificity :  0.7421848739495798\n"
     ]
    },
    {
     "data": {
      "image/png": "[encoded data removed]",
      "text/plain": [
       "<Figure size 432x288 with 1 Axes>"
      ]
     },
     "metadata": {
      "needs_background": "light"
     },
     "output_type": "display_data"
    },
    {
     "name": "stdout",
     "output_type": "stream",
     "text": [
      "Drop: Wspeed\n",
      "input data - ['Rain24' 'RainWA' 'Solarhours' 'BeachDirection' 'Wspeed_level'\n",
      " 'on_offshore']\n",
      "Overall accuracy :  0.8302966101694915\n",
      "Sensitivity :  0.9093162393162393\n",
      "Specificity :  0.7526050420168066\n"
     ]
    },
    {
     "data": {
      "image/png": "[encoded data removed]",
      "text/plain": [
       "<Figure size 432x288 with 1 Axes>"
      ]
     },
     "metadata": {
      "needs_background": "light"
     },
     "output_type": "display_data"
    },
    {
     "name": "stdout",
     "output_type": "stream",
     "text": [
      "Drop: Solarhours\n",
      "input data - ['Rain24' 'RainWA' 'Wspeed' 'BeachDirection' 'Wspeed_level' 'on_offshore']\n",
      "Overall accuracy :  0.8241525423728814\n",
      "Sensitivity :  0.9290598290598291\n",
      "Specificity :  0.7210084033613446\n"
     ]
    },
    {
     "data": {
      "image/png": "[encoded data removed]",
      "text/plain": [
       "<Figure size 432x288 with 1 Axes>"
      ]
     },
     "metadata": {
      "needs_background": "light"
     },
     "output_type": "display_data"
    },
    {
     "name": "stdout",
     "output_type": "stream",
     "text": [
      "Drop: BeachDirection\n",
      "input data - ['Rain24' 'RainWA' 'Wspeed' 'Solarhours' 'Wspeed_level' 'on_offshore']\n",
      "Overall accuracy :  0.8070762711864407\n",
      "Sensitivity :  0.9514529914529914\n",
      "Specificity :  0.665126050420168\n"
     ]
    },
    {
     "data": {
      "image/png": "[encoded data removed]",
      "text/plain": [
       "<Figure size 432x288 with 1 Axes>"
      ]
     },
     "metadata": {
      "needs_background": "light"
     },
     "output_type": "display_data"
    },
    {
     "name": "stdout",
     "output_type": "stream",
     "text": [
      "Drop: Wspeed_level\n",
      "input data - ['Rain24' 'RainWA' 'Wspeed' 'Solarhours' 'BeachDirection' 'on_offshore']\n",
      "Overall accuracy :  0.8509745762711863\n",
      "Sensitivity :  0.9764102564102564\n",
      "Specificity :  0.7276470588235293\n"
     ]
    },
    {
     "data": {
      "image/png": "[encoded data removed]",
      "text/plain": [
       "<Figure size 432x288 with 1 Axes>"
      ]
     },
     "metadata": {
      "needs_background": "light"
     },
     "output_type": "display_data"
    },
    {
     "name": "stdout",
     "output_type": "stream",
     "text": [
      "Drop: on_offshore\n",
      "input data - ['Rain24' 'RainWA' 'Wspeed' 'Solarhours' 'BeachDirection' 'Wspeed_level']\n",
      "Overall accuracy :  0.8614830508474575\n",
      "Sensitivity :  0.9705128205128204\n",
      "Specificity :  0.7542857142857141\n"
     ]
    },
    {
     "data": {
      "image/png": "[encoded data removed]",
      "text/plain": [
       "<Figure size 432x288 with 1 Axes>"
      ]
     },
     "metadata": {
      "needs_background": "light"
     },
     "output_type": "display_data"
    },
    {
     "name": "stdout",
     "output_type": "stream",
     "text": [
      "Best sensitivity:  0.982991452991453 after drop  ['Wdirection', 'BeachType', 'Wdirection_level', 'Rain72']\n",
      "Best accuracy:  0.8614830508474575 after drop  ['Wdirection', 'BeachType', 'Wdirection_level', 'Rain72', 'Rain48', 'on_offshore']\n"
     ]
    }
   ],
   "source": [
    "### KNN with ADASYN balanced data - based on best accuracy - drop sixth parameter one each time to compare (no improvement in best sensitivity from dropping extra parameter)\n",
    "print(\"KNN (n=5) model with ADASYN (n=10) balanced data----Best accuracy drop\", bad)\n",
    "data_frame2 = data_frame.drop(columns=bad)\n",
    "c = data_frame2.columns\n",
    "c = c.delete(0)\n",
    "for col in c:\n",
    "    print(\"Drop:\", col)\n",
    "    input_data = data_frame2.drop(columns=[str(col),'Entero_level'])\n",
    "    entero_data = data_frame['Entero_level']\n",
    "    print(\"input data -\", end =\" \")\n",
    "    print(input_data.columns.values)\n",
    "    # Separate real above and real below data\n",
    "    index_above = (data_frame2['Entero_level']==1)\n",
    "    index_below = (data_frame2['Entero_level']==0)\n",
    "    input_real_above_data = data_frame2[index_above]\n",
    "    input_real_below_data = data_frame2[index_below]\n",
    "\n",
    "    # Use real above data form testset above data\n",
    "    testset_above_data = input_real_above_data.drop(columns=['Entero_level',str(col)])\n",
    "    water_above_label = input_real_above_data.iloc[:,0]\n",
    "    \n",
    "    # ADASYN\n",
    "    ada = ADASYN(sampling_strategy=1, n_neighbors=10)\n",
    "\n",
    "    # For loop\n",
    "    j=np.zeros(100)\n",
    "    sen=np.zeros(100)\n",
    "    spe=np.zeros(100)\n",
    "    for i in range(100):\n",
    "        # Generate synthetic sampling data with ADASYN\n",
    "        data_fake, entero_fake = ada.fit_resample(input_data, entero_data)\n",
    "        x=pd.DataFrame(data_fake, columns=input_data.columns)\n",
    "        y=pd.DataFrame(entero_fake, columns=['Entero_level'])\n",
    "        x['Entero_level']=y['Entero_level'].values\n",
    "        data_fake_frame=x.query(\"Entero_level == 1\")\n",
    "        data_fake_frame=data_fake_frame.reset_index(drop=True)\n",
    "        #data_fake_frame.describe()\n",
    "    \n",
    "        # Use synthetic data to form trainset above data\n",
    "        input_fake_data = data_fake_frame.iloc[:,0:-1]\n",
    "        water_fake_label = data_fake_frame.iloc[:,-1]\n",
    "    \n",
    "        # Split the real below data randomly - test set size matches real above data size\n",
    "        input_real_data = input_real_below_data.drop(columns=['Entero_level',str(col)])\n",
    "        entero_real_data = input_real_below_data.iloc[:,0]\n",
    "        trainset_below_data, testset_below_data, trainset_below_labels, testset_below_labels = train_test_split(input_real_data, entero_real_data, test_size=ratio, random_state=42)\n",
    "    \n",
    "        # Use fake above data plus real below data to form trainset\n",
    "        trainset_data = np.vstack((input_fake_data, trainset_below_data))\n",
    "        trainset_labels = np.hstack((water_fake_label, trainset_below_labels))\n",
    "        \n",
    "        # Use real above data plus same amount of real below data to form testset\n",
    "        testset_data = np.vstack((testset_above_data, testset_below_data))\n",
    "        testset_labels = np.hstack((water_above_label, testset_below_labels))\n",
    "    \n",
    "        # Train data normalization\n",
    "        sc = preprocessing.Normalizer().fit(trainset_data)\n",
    "        trainset_data = sc.transform(trainset_data)\n",
    "        testset_data = sc.transform(testset_data)\n",
    "    \n",
    "        # Run KNN with sklearn\n",
    "        knn = KNeighborsClassifier(algorithm='auto',leaf_size=30,metric='minkowski',metric_params=None,n_jobs=1,n_neighbors=5,p=2,weights='uniform')\n",
    "        knn.fit(trainset_data, trainset_labels)\n",
    "        \n",
    "        cm1 = confusion_matrix(testset_labels,knn.predict(testset_data))\n",
    "        total1=sum(sum(cm1))\n",
    "        #####from confusion matrix calculate accuracy\n",
    "        j[i] = (cm1[0,0]+cm1[1,1])/total1\n",
    "        sen[i] = cm1[1,1]/(cm1[1,0]+cm1[1,1])\n",
    "        spe[i] = cm1[0,0]/(cm1[0,0]+cm1[0,1])\n",
    "        i=i+1\n",
    "    \n",
    "    #End of loop\n",
    "\n",
    "    # Show the KNN result\n",
    "    print ('Overall accuracy : ', j.mean())\n",
    "    print('Sensitivity : ', sen.mean())\n",
    "    print('Specificity : ', spe.mean())\n",
    "    if sen.mean()>best_sen:\n",
    "        best_sen=sen.mean()\n",
    "        best_sen_drop=bad+list([col])\n",
    "    if j.mean()>best_acc:\n",
    "        best_acc=j.mean()\n",
    "        best_acc_drop=bad+list([col])\n",
    "    plt.boxplot([j, sen, spe])\n",
    "    plt.xticks([1, 2, 3], [\"Accuracy\",\"Sensitivity\", \"Specificity\"])\n",
    "    plt.show()\n",
    "#End of loop\n",
    "\n",
    "print('Best sensitivity: ',best_sen, 'after drop ', best_sen_drop)\n",
    "print('Best accuracy: ', best_acc, 'after drop ', best_acc_drop)"
   ]
  },
  {
   "cell_type": "code",
   "execution_count": 19,
   "id": "4da4870d",
   "metadata": {},
   "outputs": [],
   "source": [
    "# Pass best_sen_drop and best_acc_drop\n",
    "bsd = best_sen_drop\n",
    "bad = best_acc_drop"
   ]
  },
  {
   "cell_type": "code",
   "execution_count": 20,
   "id": "70f01350",
   "metadata": {},
   "outputs": [
    {
     "name": "stdout",
     "output_type": "stream",
     "text": [
      "KNN (n=5) model with ADASYN (n=10) balanced data----Best accuracy drop ['Wdirection', 'BeachType', 'Wdirection_level', 'Rain72', 'Rain48', 'on_offshore']\n",
      "Drop: Rain24\n",
      "input data - ['RainWA' 'Wspeed' 'Solarhours' 'BeachDirection' 'Wspeed_level']\n",
      "Overall accuracy :  0.8553813559322033\n",
      "Sensitivity :  0.9643589743589742\n",
      "Specificity :  0.7482352941176471\n"
     ]
    },
    {
     "data": {
      "image/png": "[encoded data removed]",
      "text/plain": [
       "<Figure size 432x288 with 1 Axes>"
      ]
     },
     "metadata": {
      "needs_background": "light"
     },
     "output_type": "display_data"
    },
    {
     "name": "stdout",
     "output_type": "stream",
     "text": [
      "Drop: RainWA\n",
      "input data - ['Rain24' 'Wspeed' 'Solarhours' 'BeachDirection' 'Wspeed_level']\n",
      "Overall accuracy :  0.8329237288135594\n",
      "Sensitivity :  0.9478632478632477\n",
      "Specificity :  0.7199159663865545\n"
     ]
    },
    {
     "data": {
      "image/png": "[encoded data removed]",
      "text/plain": [
       "<Figure size 432x288 with 1 Axes>"
      ]
     },
     "metadata": {
      "needs_background": "light"
     },
     "output_type": "display_data"
    },
    {
     "name": "stdout",
     "output_type": "stream",
     "text": [
      "Drop: Wspeed\n",
      "input data - ['Rain24' 'RainWA' 'Solarhours' 'BeachDirection' 'Wspeed_level']\n",
      "Overall accuracy :  0.846101694915254\n",
      "Sensitivity :  0.9003418803418805\n",
      "Specificity :  0.7927731092436975\n"
     ]
    },
    {
     "data": {
      "image/png": "[encoded data removed]",
      "text/plain": [
       "<Figure size 432x288 with 1 Axes>"
      ]
     },
     "metadata": {
      "needs_background": "light"
     },
     "output_type": "display_data"
    },
    {
     "name": "stdout",
     "output_type": "stream",
     "text": [
      "Drop: Solarhours\n",
      "input data - ['Rain24' 'RainWA' 'Wspeed' 'BeachDirection' 'Wspeed_level']\n",
      "Overall accuracy :  0.8397457627118645\n",
      "Sensitivity :  0.877692307692308\n",
      "Specificity :  0.802436974789916\n"
     ]
    },
    {
     "data": {
      "image/png": "[encoded data removed]",
      "text/plain": [
       "<Figure size 432x288 with 1 Axes>"
      ]
     },
     "metadata": {
      "needs_background": "light"
     },
     "output_type": "display_data"
    },
    {
     "name": "stdout",
     "output_type": "stream",
     "text": [
      "Drop: BeachDirection\n",
      "input data - ['Rain24' 'RainWA' 'Wspeed' 'Solarhours' 'Wspeed_level']\n",
      "Overall accuracy :  0.828771186440678\n",
      "Sensitivity :  0.9496581196581195\n",
      "Specificity :  0.7099159663865546\n"
     ]
    },
    {
     "data": {
      "image/png": "[encoded data removed]",
      "text/plain": [
       "<Figure size 432x288 with 1 Axes>"
      ]
     },
     "metadata": {
      "needs_background": "light"
     },
     "output_type": "display_data"
    },
    {
     "name": "stdout",
     "output_type": "stream",
     "text": [
      "Drop: Wspeed_level\n",
      "input data - ['Rain24' 'RainWA' 'Wspeed' 'Solarhours' 'BeachDirection']\n",
      "Overall accuracy :  0.8522881355932204\n",
      "Sensitivity :  0.9610256410256409\n",
      "Specificity :  0.7453781512605043\n"
     ]
    },
    {
     "data": {
      "image/png": "[encoded data removed]",
      "text/plain": [
       "<Figure size 432x288 with 1 Axes>"
      ]
     },
     "metadata": {
      "needs_background": "light"
     },
     "output_type": "display_data"
    },
    {
     "name": "stdout",
     "output_type": "stream",
     "text": [
      "Best sensitivity:  0.982991452991453 after drop  ['Wdirection', 'BeachType', 'Wdirection_level', 'Rain72']\n",
      "Best accuracy:  0.8614830508474575 after drop  ['Wdirection', 'BeachType', 'Wdirection_level', 'Rain72', 'Rain48', 'on_offshore']\n"
     ]
    }
   ],
   "source": [
    "### KNN with ADASYN balanced data - based on best accuracy - drop seventh parameter one each time to compare\n",
    "print(\"KNN (n=5) model with ADASYN (n=10) balanced data----Best accuracy drop\", bad)\n",
    "data_frame2 = data_frame.drop(columns=bad)\n",
    "c = data_frame2.columns\n",
    "c = c.delete(0)\n",
    "for col in c:\n",
    "    print(\"Drop:\", col)\n",
    "    input_data = data_frame2.drop(columns=[str(col),'Entero_level'])\n",
    "    entero_data = data_frame['Entero_level']\n",
    "    print(\"input data -\", end =\" \")\n",
    "    print(input_data.columns.values)\n",
    "    # Separate real above and real below data\n",
    "    index_above = (data_frame2['Entero_level']==1)\n",
    "    index_below = (data_frame2['Entero_level']==0)\n",
    "    input_real_above_data = data_frame2[index_above]\n",
    "    input_real_below_data = data_frame2[index_below]\n",
    "\n",
    "    # Use real above data form testset above data\n",
    "    testset_above_data = input_real_above_data.drop(columns=['Entero_level',str(col)])\n",
    "    water_above_label = input_real_above_data.iloc[:,0]\n",
    "    \n",
    "    # ADASYN\n",
    "    ada = ADASYN(sampling_strategy=1, n_neighbors=10)\n",
    "\n",
    "    # For loop\n",
    "    j=np.zeros(100)\n",
    "    sen=np.zeros(100)\n",
    "    spe=np.zeros(100)\n",
    "    for i in range(100):\n",
    "        # Generate synthetic sampling data with ADASYN\n",
    "        data_fake, entero_fake = ada.fit_resample(input_data, entero_data)\n",
    "        x=pd.DataFrame(data_fake, columns=input_data.columns)\n",
    "        y=pd.DataFrame(entero_fake, columns=['Entero_level'])\n",
    "        x['Entero_level']=y['Entero_level'].values\n",
    "        data_fake_frame=x.query(\"Entero_level == 1\")\n",
    "        data_fake_frame=data_fake_frame.reset_index(drop=True)\n",
    "        #data_fake_frame.describe()\n",
    "    \n",
    "        # Use synthetic data to form trainset above data\n",
    "        input_fake_data = data_fake_frame.iloc[:,0:-1]\n",
    "        water_fake_label = data_fake_frame.iloc[:,-1]\n",
    "    \n",
    "        # Split the real below data randomly - test set size matches real above data size\n",
    "        input_real_data = input_real_below_data.drop(columns=['Entero_level',str(col)])\n",
    "        entero_real_data = input_real_below_data.iloc[:,0]\n",
    "        trainset_below_data, testset_below_data, trainset_below_labels, testset_below_labels = train_test_split(input_real_data, entero_real_data, test_size=ratio, random_state=42)\n",
    "    \n",
    "        # Use fake above data plus real below data to form trainset\n",
    "        trainset_data = np.vstack((input_fake_data, trainset_below_data))\n",
    "        trainset_labels = np.hstack((water_fake_label, trainset_below_labels))\n",
    "        \n",
    "        # Use real above data plus same amount of real below data to form testset\n",
    "        testset_data = np.vstack((testset_above_data, testset_below_data))\n",
    "        testset_labels = np.hstack((water_above_label, testset_below_labels))\n",
    "    \n",
    "        # Train data normalization\n",
    "        sc = preprocessing.Normalizer().fit(trainset_data)\n",
    "        trainset_data = sc.transform(trainset_data)\n",
    "        testset_data = sc.transform(testset_data)\n",
    "    \n",
    "        # Run KNN with sklearn\n",
    "        knn = KNeighborsClassifier(algorithm='auto',leaf_size=30,metric='minkowski',metric_params=None,n_jobs=1,n_neighbors=5,p=2,weights='uniform')\n",
    "        knn.fit(trainset_data, trainset_labels)\n",
    "        \n",
    "        cm1 = confusion_matrix(testset_labels,knn.predict(testset_data))\n",
    "        total1=sum(sum(cm1))\n",
    "        #####from confusion matrix calculate accuracy\n",
    "        j[i] = (cm1[0,0]+cm1[1,1])/total1\n",
    "        sen[i] = cm1[1,1]/(cm1[1,0]+cm1[1,1])\n",
    "        spe[i] = cm1[0,0]/(cm1[0,0]+cm1[0,1])\n",
    "        i=i+1\n",
    "    \n",
    "    #End of loop\n",
    "\n",
    "    # Show the KNN result\n",
    "    print ('Overall accuracy : ', j.mean())\n",
    "    print('Sensitivity : ', sen.mean())\n",
    "    print('Specificity : ', spe.mean())\n",
    "    if sen.mean()>best_sen:\n",
    "        best_sen=sen.mean()\n",
    "        best_sen_drop=bad+list([col])\n",
    "    if j.mean()>best_acc:\n",
    "        best_acc=j.mean()\n",
    "        best_acc_drop=bad+list([col])\n",
    "    plt.boxplot([j, sen, spe])\n",
    "    plt.xticks([1, 2, 3], [\"Accuracy\",\"Sensitivity\", \"Specificity\"])\n",
    "    plt.show()\n",
    "#End of loop\n",
    "\n",
    "print('Best sensitivity: ',best_sen, 'after drop ', best_sen_drop)\n",
    "print('Best accuracy: ', best_acc, 'after drop ', best_acc_drop)"
   ]
  },
  {
   "cell_type": "code",
   "execution_count": 21,
   "id": "a97bf2bb",
   "metadata": {},
   "outputs": [
    {
     "name": "stdout",
     "output_type": "stream",
     "text": [
      "There are no more improvement from drop additional parameters.\n",
      "The best sensitivity is:  0.982991452991453 after drop  ['Wdirection', 'BeachType', 'Wdirection_level', 'Rain72']\n",
      "The best accuracy is:  0.8614830508474575 after drop  ['Wdirection', 'BeachType', 'Wdirection_level', 'Rain72', 'Rain48', 'on_offshore']\n"
     ]
    }
   ],
   "source": [
    "print(\"There are no more improvement from drop additional parameters.\")\n",
    "print('The best sensitivity is: ',best_sen, 'after drop ', best_sen_drop)\n",
    "print('The best accuracy is: ', best_acc, 'after drop ', best_acc_drop)"
   ]
  },
  {
   "cell_type": "code",
   "execution_count": 22,
   "id": "89f5966d",
   "metadata": {},
   "outputs": [],
   "source": [
    "# Best models test on separate test-set"
   ]
  },
  {
   "cell_type": "code",
   "execution_count": 23,
   "id": "73ae3a5a",
   "metadata": {},
   "outputs": [
    {
     "name": "stdout",
     "output_type": "stream",
     "text": [
      "<class 'pandas.core.frame.DataFrame'>\n",
      "RangeIndex: 201 entries, 0 to 200\n",
      "Data columns (total 13 columns):\n",
      " #   Column            Non-Null Count  Dtype  \n",
      "---  ------            --------------  -----  \n",
      " 0   Entero_level      201 non-null    int64  \n",
      " 1   Rain24            201 non-null    float64\n",
      " 2   Rain48            201 non-null    float64\n",
      " 3   Rain72            201 non-null    float64\n",
      " 4   RainWA            201 non-null    float64\n",
      " 5   Wdirection        201 non-null    int64  \n",
      " 6   Wspeed            201 non-null    float64\n",
      " 7   Solarhours        201 non-null    float64\n",
      " 8   BeachType         201 non-null    int64  \n",
      " 9   BeachDirection    201 non-null    int64  \n",
      " 10  Wspeed_level      201 non-null    int64  \n",
      " 11  Wdirection_level  201 non-null    int64  \n",
      " 12  on_offshore       201 non-null    int64  \n",
      "dtypes: float64(6), int64(7)\n",
      "memory usage: 20.5 KB\n"
     ]
    }
   ],
   "source": [
    "# Import testset\n",
    "testset = pd.read_csv(\"PB5_testset.csv\")\n",
    "\n",
    "# Delete columns \"DATE\",\"Entero\",\"BeachName\"\n",
    "test_set = testset.drop(columns=['Entero','DATE','BeachName'])\n",
    "\n",
    "# Move column \"Entero_level\" to the front\n",
    "test_set = test_set[ ['Entero_level'] + [ col for col in test_set.columns if col != 'Entero_level' ] ]\n",
    "test_set.info()"
   ]
  },
  {
   "cell_type": "code",
   "execution_count": 24,
   "id": "29f0c95d",
   "metadata": {},
   "outputs": [
    {
     "name": "stdout",
     "output_type": "stream",
     "text": [
      "['Rain24' 'RainWA' 'Wspeed' 'Solarhours' 'BeachDirection' 'Wspeed_level']\n",
      "Confusion matrix\n",
      "[[112  57]\n",
      " [ 16  16]]\n",
      "Accuracy :  0.6368159203980099\n",
      "Sensitivity :  0.5\n",
      "Specificity :  0.6627218934911243\n"
     ]
    }
   ],
   "source": [
    "# Best accuracy model test on separate test-set\n",
    "input_data = data_frame.drop(columns=['Entero_level'])\n",
    "input_data = input_data.drop(columns=best_acc_drop)\n",
    "entero_data = data_frame['Entero_level']\n",
    "c = input_data.columns\n",
    "print(input_data.columns.values)\n",
    "\n",
    "# Separate real above and real below data\n",
    "index_above = (data_frame['Entero_level']==1)\n",
    "index_below = (data_frame['Entero_level']==0)\n",
    "input_real_above_data = data_frame[index_above]\n",
    "input_real_below_data = data_frame[index_below]\n",
    "\n",
    "# ADASYN\n",
    "ada = ADASYN(sampling_strategy=1, n_neighbors=10)\n",
    "\n",
    "# Generate synthetic sampling data with ADASYN\n",
    "data_fake, entero_fake = ada.fit_resample(input_data, entero_data)\n",
    "x=pd.DataFrame(data_fake, columns=c)\n",
    "y=pd.DataFrame(entero_fake, columns=['Entero_level'])\n",
    "x['Entero_level']=y['Entero_level'].values\n",
    "data_fake_frame=x.query(\"Entero_level == 1\")\n",
    "data_fake_frame=data_fake_frame.reset_index(drop=True)\n",
    "#data_fake_frame.describe()\n",
    "    \n",
    "# Use synthetic data to form trainset above data\n",
    "input_fake_data = data_fake_frame.iloc[:,0:-1]\n",
    "water_fake_label = data_fake_frame.iloc[:,-1]\n",
    "    \n",
    "# Use fake above data plus real below data to form trainset\n",
    "trainset_below_data = input_real_below_data.drop(columns=['Entero_level'])\n",
    "trainset_below_data = trainset_below_data.drop(columns=best_acc_drop)\n",
    "trainset_below_labels = input_real_below_data.iloc[:,0]\n",
    "trainset_data = np.vstack((input_fake_data, trainset_below_data))\n",
    "trainset_labels = np.hstack((water_fake_label, trainset_below_labels))\n",
    "\n",
    "# Test set\n",
    "test_set_data = test_set.drop(columns=['Entero_level'])\n",
    "test_set_data = test_set_data.drop(columns=best_acc_drop)\n",
    "test_set_labels = test_set['Entero_level']\n",
    "\n",
    "# Train/test data normalization\n",
    "sc = preprocessing.Normalizer().fit(trainset_data)\n",
    "trainset_data = sc.transform(trainset_data)\n",
    "test_set_data = sc.transform(test_set_data)\n",
    "        \n",
    "# Run KNN with sklearn\n",
    "knn = KNeighborsClassifier(algorithm='auto',leaf_size=30,metric='minkowski',metric_params=None,n_jobs=1,n_neighbors=5,p=2,weights='uniform')\n",
    "knn.fit(trainset_data, trainset_labels)\n",
    "\n",
    "#print(\"Overall accuracy:\")\n",
    "#print(accuracy_score(test_set_labels,knn.predict(test_set_data)))\n",
    "print(\"Confusion matrix\")\n",
    "print(confusion_matrix(test_set_labels,knn.predict(test_set_data)))\n",
    "\n",
    "cm1 = confusion_matrix(test_set_labels,knn.predict(test_set_data))\n",
    "total1=sum(sum(cm1))\n",
    "#####from confusion matrix calculate accuracy\n",
    "accuracy=(cm1[0,0]+cm1[1,1])/total1\n",
    "sen = cm1[1,1]/(cm1[1,0]+cm1[1,1])\n",
    "spe = cm1[0,0]/(cm1[0,0]+cm1[0,1])\n",
    "\n",
    "print ('Accuracy : ', accuracy)\n",
    "print('Sensitivity : ', sen)\n",
    "print('Specificity : ', spe)"
   ]
  },
  {
   "cell_type": "code",
   "execution_count": 25,
   "id": "9639f552",
   "metadata": {},
   "outputs": [
    {
     "name": "stdout",
     "output_type": "stream",
     "text": [
      "['Rain24' 'Rain48' 'RainWA' 'Wspeed' 'Solarhours' 'BeachDirection'\n",
      " 'Wspeed_level' 'on_offshore']\n",
      "Confusion matrix\n",
      "[[109  60]\n",
      " [ 13  19]]\n",
      "Accuracy :  0.6368159203980099\n",
      "Sensitivity :  0.59375\n",
      "Specificity :  0.6449704142011834\n"
     ]
    }
   ],
   "source": [
    "# Best sensitivity model test on separate test-set\n",
    "best_sen_drop\n",
    "input_data = data_frame.drop(columns=['Entero_level'])\n",
    "input_data = input_data.drop(columns=best_sen_drop)\n",
    "entero_data = data_frame['Entero_level']\n",
    "c = input_data.columns\n",
    "print(input_data.columns.values)\n",
    "\n",
    "# Separate real above and real below data\n",
    "index_above = (data_frame['Entero_level']==1)\n",
    "index_below = (data_frame['Entero_level']==0)\n",
    "input_real_above_data = data_frame[index_above]\n",
    "input_real_below_data = data_frame[index_below]\n",
    "\n",
    "# ADASYN\n",
    "ada = ADASYN(sampling_strategy=1, n_neighbors=10)\n",
    "\n",
    "# Generate synthetic sampling data with ADASYN\n",
    "data_fake, entero_fake = ada.fit_resample(input_data, entero_data)\n",
    "x=pd.DataFrame(data_fake, columns=c)\n",
    "y=pd.DataFrame(entero_fake, columns=['Entero_level'])\n",
    "x['Entero_level']=y['Entero_level'].values\n",
    "data_fake_frame=x.query(\"Entero_level == 1\")\n",
    "data_fake_frame=data_fake_frame.reset_index(drop=True)\n",
    "#data_fake_frame.describe()\n",
    "    \n",
    "# Use synthetic data to form trainset above data\n",
    "input_fake_data = data_fake_frame.iloc[:,0:-1]\n",
    "water_fake_label = data_fake_frame.iloc[:,-1]\n",
    "    \n",
    "# Use fake above data plus real below data to form trainset\n",
    "trainset_below_data = input_real_below_data.drop(columns=['Entero_level'])\n",
    "trainset_below_data = trainset_below_data.drop(columns=best_sen_drop)\n",
    "trainset_below_labels = input_real_below_data.iloc[:,0]\n",
    "trainset_data = np.vstack((input_fake_data, trainset_below_data))\n",
    "trainset_labels = np.hstack((water_fake_label, trainset_below_labels))\n",
    "\n",
    "# Test set\n",
    "test_set_data = test_set.drop(columns=['Entero_level'])\n",
    "test_set_data = test_set_data.drop(columns=best_sen_drop)\n",
    "test_set_labels = test_set['Entero_level']\n",
    "\n",
    "# Train/test data normalization\n",
    "sc = preprocessing.Normalizer().fit(trainset_data)\n",
    "trainset_data = sc.transform(trainset_data)\n",
    "test_set_data = sc.transform(test_set_data)\n",
    "        \n",
    "# Run KNN with sklearn\n",
    "knn = KNeighborsClassifier(algorithm='auto',leaf_size=30,metric='minkowski',metric_params=None,n_jobs=1,n_neighbors=5,p=2,weights='uniform')\n",
    "knn.fit(trainset_data, trainset_labels)\n",
    "\n",
    "#print(\"Overall accuracy:\")\n",
    "#print(accuracy_score(test_set_labels,knn.predict(test_set_data)))\n",
    "print(\"Confusion matrix\")\n",
    "print(confusion_matrix(test_set_labels,knn.predict(test_set_data)))\n",
    "\n",
    "cm1 = confusion_matrix(test_set_labels,knn.predict(test_set_data))\n",
    "total1=sum(sum(cm1))\n",
    "#####from confusion matrix calculate accuracy\n",
    "accuracy=(cm1[0,0]+cm1[1,1])/total1\n",
    "sen = cm1[1,1]/(cm1[1,0]+cm1[1,1])\n",
    "spe = cm1[0,0]/(cm1[0,0]+cm1[0,1])\n",
    "\n",
    "print ('Accuracy : ', accuracy)\n",
    "print('Sensitivity : ', sen)\n",
    "print('Specificity : ', spe)"
   ]
  },
  {
   "cell_type": "code",
   "execution_count": null,
   "id": "9dcfc12d",
   "metadata": {},
   "outputs": [],
   "source": []
  }
 ],
 "metadata": {
  "kernelspec": {
   "display_name": "Python 3",
   "language": "python",
   "name": "python3"
  },
  "language_info": {
   "codemirror_mode": {
    "name": "ipython",
    "version": 3
   },
   "file_extension": ".py",
   "mimetype": "text/x-python",
   "name": "python",
   "nbconvert_exporter": "python",
   "pygments_lexer": "ipython3",
   "version": "3.8.8"
  }
 },
 "nbformat": 4,
 "nbformat_minor": 5
}
