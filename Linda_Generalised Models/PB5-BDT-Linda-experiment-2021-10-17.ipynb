{
 "cells": [
  {
   "cell_type": "code",
   "execution_count": 15,
   "id": "8d61ec00",
   "metadata": {},
   "outputs": [
    {
     "name": "stdout",
     "output_type": "stream",
     "text": [
      "Requirement already satisfied: imblearn in c:\\users\\hp-family desktop\\anaconda3\\lib\\site-packages (0.0)\n",
      "Requirement already satisfied: imbalanced-learn in c:\\users\\hp-family desktop\\anaconda3\\lib\\site-packages (from imblearn) (0.8.1)\n",
      "Requirement already satisfied: scikit-learn>=0.24 in c:\\users\\hp-family desktop\\anaconda3\\lib\\site-packages (from imbalanced-learn->imblearn) (0.24.1)\n",
      "Requirement already satisfied: numpy>=1.13.3 in c:\\users\\hp-family desktop\\appdata\\roaming\\python\\python38\\site-packages (from imbalanced-learn->imblearn) (1.21.2)\n",
      "Requirement already satisfied: joblib>=0.11 in c:\\users\\hp-family desktop\\anaconda3\\lib\\site-packages (from imbalanced-learn->imblearn) (1.0.1)\n",
      "Requirement already satisfied: scipy>=0.19.1 in c:\\users\\hp-family desktop\\anaconda3\\lib\\site-packages (from imbalanced-learn->imblearn) (1.6.2)\n",
      "Requirement already satisfied: threadpoolctl>=2.0.0 in c:\\users\\hp-family desktop\\anaconda3\\lib\\site-packages (from scikit-learn>=0.24->imbalanced-learn->imblearn) (2.1.0)\n"
     ]
    }
   ],
   "source": [
    "# Setup\n",
    "import pandas as pd\n",
    "import numpy as np\n",
    "import matplotlib.pyplot as plt\n",
    "import seaborn as sns\n",
    "from sklearn.ensemble import AdaBoostClassifier\n",
    "from sklearn.tree import DecisionTreeClassifier\n",
    "from sklearn.model_selection import train_test_split\n",
    "from sklearn.metrics import accuracy_score\n",
    "from sklearn.metrics import confusion_matrix\n",
    "from sklearn import preprocessing\n",
    "from sklearn import tree\n",
    "\n",
    "!pip install imblearn\n",
    "from imblearn.over_sampling import ADASYN"
   ]
  },
  {
   "cell_type": "code",
   "execution_count": 16,
   "id": "d44f965e",
   "metadata": {},
   "outputs": [
    {
     "data": {
      "text/html": [
       "<div>\n",
       "<style scoped>\n",
       "    .dataframe tbody tr th:only-of-type {\n",
       "        vertical-align: middle;\n",
       "    }\n",
       "\n",
       "    .dataframe tbody tr th {\n",
       "        vertical-align: top;\n",
       "    }\n",
       "\n",
       "    .dataframe thead th {\n",
       "        text-align: right;\n",
       "    }\n",
       "</style>\n",
       "<table border=\"1\" class=\"dataframe\">\n",
       "  <thead>\n",
       "    <tr style=\"text-align: right;\">\n",
       "      <th></th>\n",
       "      <th>Entero</th>\n",
       "      <th>Rain24</th>\n",
       "      <th>Rain48</th>\n",
       "      <th>Rain72</th>\n",
       "      <th>RainWA</th>\n",
       "      <th>Wdirection</th>\n",
       "      <th>Wspeed</th>\n",
       "      <th>Solarhours</th>\n",
       "      <th>BeachType</th>\n",
       "      <th>BeachDirection</th>\n",
       "      <th>Entero_level</th>\n",
       "      <th>Wspeed_level</th>\n",
       "      <th>Wdirection_level</th>\n",
       "      <th>on_offshore</th>\n",
       "    </tr>\n",
       "  </thead>\n",
       "  <tbody>\n",
       "    <tr>\n",
       "      <th>count</th>\n",
       "      <td>2017.000000</td>\n",
       "      <td>2017.000000</td>\n",
       "      <td>2017.000000</td>\n",
       "      <td>2017.000000</td>\n",
       "      <td>2017.000000</td>\n",
       "      <td>2017.000000</td>\n",
       "      <td>2017.000000</td>\n",
       "      <td>2017.000000</td>\n",
       "      <td>2017.000000</td>\n",
       "      <td>2017.000000</td>\n",
       "      <td>2017.000000</td>\n",
       "      <td>2017.000000</td>\n",
       "      <td>2017.000000</td>\n",
       "      <td>2017.000000</td>\n",
       "    </tr>\n",
       "    <tr>\n",
       "      <th>mean</th>\n",
       "      <td>182.596926</td>\n",
       "      <td>2.052960</td>\n",
       "      <td>4.378617</td>\n",
       "      <td>6.878463</td>\n",
       "      <td>13.310040</td>\n",
       "      <td>187.879028</td>\n",
       "      <td>2.702033</td>\n",
       "      <td>6.703718</td>\n",
       "      <td>0.491324</td>\n",
       "      <td>4.221616</td>\n",
       "      <td>0.073872</td>\n",
       "      <td>1.010412</td>\n",
       "      <td>8.029251</td>\n",
       "      <td>0.869113</td>\n",
       "    </tr>\n",
       "    <tr>\n",
       "      <th>std</th>\n",
       "      <td>1271.550681</td>\n",
       "      <td>5.678971</td>\n",
       "      <td>9.307389</td>\n",
       "      <td>12.594966</td>\n",
       "      <td>25.209095</td>\n",
       "      <td>90.915915</td>\n",
       "      <td>1.670540</td>\n",
       "      <td>3.849683</td>\n",
       "      <td>0.500049</td>\n",
       "      <td>4.995729</td>\n",
       "      <td>0.261627</td>\n",
       "      <td>0.106303</td>\n",
       "      <td>4.073803</td>\n",
       "      <td>0.861271</td>\n",
       "    </tr>\n",
       "    <tr>\n",
       "      <th>min</th>\n",
       "      <td>10.000000</td>\n",
       "      <td>0.000000</td>\n",
       "      <td>0.000000</td>\n",
       "      <td>0.000000</td>\n",
       "      <td>0.000000</td>\n",
       "      <td>0.000000</td>\n",
       "      <td>0.000000</td>\n",
       "      <td>0.000000</td>\n",
       "      <td>0.000000</td>\n",
       "      <td>1.000000</td>\n",
       "      <td>0.000000</td>\n",
       "      <td>0.000000</td>\n",
       "      <td>0.000000</td>\n",
       "      <td>0.000000</td>\n",
       "    </tr>\n",
       "    <tr>\n",
       "      <th>25%</th>\n",
       "      <td>10.000000</td>\n",
       "      <td>0.000000</td>\n",
       "      <td>0.000000</td>\n",
       "      <td>0.000000</td>\n",
       "      <td>0.000000</td>\n",
       "      <td>113.000000</td>\n",
       "      <td>1.500000</td>\n",
       "      <td>3.500000</td>\n",
       "      <td>0.000000</td>\n",
       "      <td>1.000000</td>\n",
       "      <td>0.000000</td>\n",
       "      <td>1.000000</td>\n",
       "      <td>5.000000</td>\n",
       "      <td>0.000000</td>\n",
       "    </tr>\n",
       "    <tr>\n",
       "      <th>50%</th>\n",
       "      <td>10.000000</td>\n",
       "      <td>0.000000</td>\n",
       "      <td>0.490000</td>\n",
       "      <td>1.460000</td>\n",
       "      <td>2.420000</td>\n",
       "      <td>211.000000</td>\n",
       "      <td>2.400000</td>\n",
       "      <td>7.200000</td>\n",
       "      <td>0.000000</td>\n",
       "      <td>2.000000</td>\n",
       "      <td>0.000000</td>\n",
       "      <td>1.000000</td>\n",
       "      <td>9.000000</td>\n",
       "      <td>1.000000</td>\n",
       "    </tr>\n",
       "    <tr>\n",
       "      <th>75%</th>\n",
       "      <td>20.000000</td>\n",
       "      <td>0.980000</td>\n",
       "      <td>4.290000</td>\n",
       "      <td>7.730000</td>\n",
       "      <td>15.160000</td>\n",
       "      <td>253.000000</td>\n",
       "      <td>3.400000</td>\n",
       "      <td>10.000000</td>\n",
       "      <td>1.000000</td>\n",
       "      <td>10.000000</td>\n",
       "      <td>0.000000</td>\n",
       "      <td>1.000000</td>\n",
       "      <td>11.000000</td>\n",
       "      <td>2.000000</td>\n",
       "    </tr>\n",
       "    <tr>\n",
       "      <th>max</th>\n",
       "      <td>24196.000000</td>\n",
       "      <td>57.900000</td>\n",
       "      <td>115.250000</td>\n",
       "      <td>127.320000</td>\n",
       "      <td>251.620000</td>\n",
       "      <td>360.000000</td>\n",
       "      <td>14.200000</td>\n",
       "      <td>14.100000</td>\n",
       "      <td>1.000000</td>\n",
       "      <td>15.000000</td>\n",
       "      <td>1.000000</td>\n",
       "      <td>2.000000</td>\n",
       "      <td>15.000000</td>\n",
       "      <td>2.000000</td>\n",
       "    </tr>\n",
       "  </tbody>\n",
       "</table>\n",
       "</div>"
      ],
      "text/plain": [
       "             Entero       Rain24       Rain48       Rain72       RainWA  \\\n",
       "count   2017.000000  2017.000000  2017.000000  2017.000000  2017.000000   \n",
       "mean     182.596926     2.052960     4.378617     6.878463    13.310040   \n",
       "std     1271.550681     5.678971     9.307389    12.594966    25.209095   \n",
       "min       10.000000     0.000000     0.000000     0.000000     0.000000   \n",
       "25%       10.000000     0.000000     0.000000     0.000000     0.000000   \n",
       "50%       10.000000     0.000000     0.490000     1.460000     2.420000   \n",
       "75%       20.000000     0.980000     4.290000     7.730000    15.160000   \n",
       "max    24196.000000    57.900000   115.250000   127.320000   251.620000   \n",
       "\n",
       "        Wdirection       Wspeed   Solarhours    BeachType  BeachDirection  \\\n",
       "count  2017.000000  2017.000000  2017.000000  2017.000000     2017.000000   \n",
       "mean    187.879028     2.702033     6.703718     0.491324        4.221616   \n",
       "std      90.915915     1.670540     3.849683     0.500049        4.995729   \n",
       "min       0.000000     0.000000     0.000000     0.000000        1.000000   \n",
       "25%     113.000000     1.500000     3.500000     0.000000        1.000000   \n",
       "50%     211.000000     2.400000     7.200000     0.000000        2.000000   \n",
       "75%     253.000000     3.400000    10.000000     1.000000       10.000000   \n",
       "max     360.000000    14.200000    14.100000     1.000000       15.000000   \n",
       "\n",
       "       Entero_level  Wspeed_level  Wdirection_level  on_offshore  \n",
       "count   2017.000000   2017.000000       2017.000000  2017.000000  \n",
       "mean       0.073872      1.010412          8.029251     0.869113  \n",
       "std        0.261627      0.106303          4.073803     0.861271  \n",
       "min        0.000000      0.000000          0.000000     0.000000  \n",
       "25%        0.000000      1.000000          5.000000     0.000000  \n",
       "50%        0.000000      1.000000          9.000000     1.000000  \n",
       "75%        0.000000      1.000000         11.000000     2.000000  \n",
       "max        1.000000      2.000000         15.000000     2.000000  "
      ]
     },
     "execution_count": 16,
     "metadata": {},
     "output_type": "execute_result"
    }
   ],
   "source": [
    "# Import recategorised data\n",
    "wholedata = pd.read_csv(\"recategorised_data.csv\")\n",
    "wholedata.describe()"
   ]
  },
  {
   "cell_type": "code",
   "execution_count": 17,
   "id": "1e4b2b20",
   "metadata": {},
   "outputs": [
    {
     "data": {
      "text/html": [
       "<div>\n",
       "<style scoped>\n",
       "    .dataframe tbody tr th:only-of-type {\n",
       "        vertical-align: middle;\n",
       "    }\n",
       "\n",
       "    .dataframe tbody tr th {\n",
       "        vertical-align: top;\n",
       "    }\n",
       "\n",
       "    .dataframe thead th {\n",
       "        text-align: right;\n",
       "    }\n",
       "</style>\n",
       "<table border=\"1\" class=\"dataframe\">\n",
       "  <thead>\n",
       "    <tr style=\"text-align: right;\">\n",
       "      <th></th>\n",
       "      <th>DATE</th>\n",
       "      <th>Entero</th>\n",
       "      <th>Rain24</th>\n",
       "      <th>Rain48</th>\n",
       "      <th>Rain72</th>\n",
       "      <th>RainWA</th>\n",
       "      <th>Wdirection</th>\n",
       "      <th>Wspeed</th>\n",
       "      <th>Solarhours</th>\n",
       "      <th>BeachName</th>\n",
       "      <th>BeachType</th>\n",
       "      <th>BeachDirection</th>\n",
       "      <th>Entero_level</th>\n",
       "      <th>Wspeed_level</th>\n",
       "      <th>Wdirection_level</th>\n",
       "      <th>on_offshore</th>\n",
       "    </tr>\n",
       "  </thead>\n",
       "  <tbody>\n",
       "    <tr>\n",
       "      <th>0</th>\n",
       "      <td>1995-12-16</td>\n",
       "      <td>10.0</td>\n",
       "      <td>9.17</td>\n",
       "      <td>13.67</td>\n",
       "      <td>37.00</td>\n",
       "      <td>59.84</td>\n",
       "      <td>200</td>\n",
       "      <td>1.5</td>\n",
       "      <td>1.8</td>\n",
       "      <td>Clarks</td>\n",
       "      <td>1</td>\n",
       "      <td>15</td>\n",
       "      <td>0</td>\n",
       "      <td>1</td>\n",
       "      <td>9</td>\n",
       "      <td>0</td>\n",
       "    </tr>\n",
       "    <tr>\n",
       "      <th>1</th>\n",
       "      <td>1995-12-27</td>\n",
       "      <td>10.0</td>\n",
       "      <td>0.00</td>\n",
       "      <td>0.00</td>\n",
       "      <td>0.33</td>\n",
       "      <td>0.33</td>\n",
       "      <td>230</td>\n",
       "      <td>5.7</td>\n",
       "      <td>8.5</td>\n",
       "      <td>Clarks</td>\n",
       "      <td>1</td>\n",
       "      <td>15</td>\n",
       "      <td>0</td>\n",
       "      <td>1</td>\n",
       "      <td>10</td>\n",
       "      <td>2</td>\n",
       "    </tr>\n",
       "    <tr>\n",
       "      <th>2</th>\n",
       "      <td>1995-12-28</td>\n",
       "      <td>10.0</td>\n",
       "      <td>2.50</td>\n",
       "      <td>2.50</td>\n",
       "      <td>2.50</td>\n",
       "      <td>7.50</td>\n",
       "      <td>320</td>\n",
       "      <td>3.6</td>\n",
       "      <td>11.7</td>\n",
       "      <td>Clarks</td>\n",
       "      <td>1</td>\n",
       "      <td>15</td>\n",
       "      <td>0</td>\n",
       "      <td>1</td>\n",
       "      <td>14</td>\n",
       "      <td>1</td>\n",
       "    </tr>\n",
       "    <tr>\n",
       "      <th>3</th>\n",
       "      <td>1996-01-07</td>\n",
       "      <td>10.0</td>\n",
       "      <td>0.00</td>\n",
       "      <td>0.00</td>\n",
       "      <td>0.00</td>\n",
       "      <td>0.00</td>\n",
       "      <td>130</td>\n",
       "      <td>4.1</td>\n",
       "      <td>7.9</td>\n",
       "      <td>Clarks</td>\n",
       "      <td>1</td>\n",
       "      <td>15</td>\n",
       "      <td>0</td>\n",
       "      <td>1</td>\n",
       "      <td>6</td>\n",
       "      <td>0</td>\n",
       "    </tr>\n",
       "    <tr>\n",
       "      <th>4</th>\n",
       "      <td>1996-01-08</td>\n",
       "      <td>10.0</td>\n",
       "      <td>0.00</td>\n",
       "      <td>0.00</td>\n",
       "      <td>0.00</td>\n",
       "      <td>0.00</td>\n",
       "      <td>100</td>\n",
       "      <td>3.6</td>\n",
       "      <td>4.4</td>\n",
       "      <td>Clarks</td>\n",
       "      <td>1</td>\n",
       "      <td>15</td>\n",
       "      <td>0</td>\n",
       "      <td>1</td>\n",
       "      <td>4</td>\n",
       "      <td>2</td>\n",
       "    </tr>\n",
       "  </tbody>\n",
       "</table>\n",
       "</div>"
      ],
      "text/plain": [
       "         DATE  Entero  Rain24  Rain48  Rain72  RainWA  Wdirection  Wspeed  \\\n",
       "0  1995-12-16    10.0    9.17   13.67   37.00   59.84         200     1.5   \n",
       "1  1995-12-27    10.0    0.00    0.00    0.33    0.33         230     5.7   \n",
       "2  1995-12-28    10.0    2.50    2.50    2.50    7.50         320     3.6   \n",
       "3  1996-01-07    10.0    0.00    0.00    0.00    0.00         130     4.1   \n",
       "4  1996-01-08    10.0    0.00    0.00    0.00    0.00         100     3.6   \n",
       "\n",
       "   Solarhours BeachName  BeachType  BeachDirection  Entero_level  \\\n",
       "0         1.8    Clarks          1              15             0   \n",
       "1         8.5    Clarks          1              15             0   \n",
       "2        11.7    Clarks          1              15             0   \n",
       "3         7.9    Clarks          1              15             0   \n",
       "4         4.4    Clarks          1              15             0   \n",
       "\n",
       "   Wspeed_level  Wdirection_level  on_offshore  \n",
       "0             1                 9            0  \n",
       "1             1                10            2  \n",
       "2             1                14            1  \n",
       "3             1                 6            0  \n",
       "4             1                 4            2  "
      ]
     },
     "execution_count": 17,
     "metadata": {},
     "output_type": "execute_result"
    }
   ],
   "source": [
    "wholedata.head()"
   ]
  },
  {
   "cell_type": "code",
   "execution_count": 18,
   "id": "8b96bfb3",
   "metadata": {},
   "outputs": [],
   "source": [
    "wholedata['DATE']=wholedata['DATE'].astype('datetime64')"
   ]
  },
  {
   "cell_type": "code",
   "execution_count": 19,
   "id": "73ae3a5a",
   "metadata": {},
   "outputs": [
    {
     "name": "stdout",
     "output_type": "stream",
     "text": [
      "<class 'pandas.core.frame.DataFrame'>\n",
      "Int64Index: 73 entries, 215 to 2016\n",
      "Data columns (total 13 columns):\n",
      " #   Column            Non-Null Count  Dtype  \n",
      "---  ------            --------------  -----  \n",
      " 0   Entero_level      73 non-null     int64  \n",
      " 1   Rain24            73 non-null     float64\n",
      " 2   Rain48            73 non-null     float64\n",
      " 3   Rain72            73 non-null     float64\n",
      " 4   RainWA            73 non-null     float64\n",
      " 5   Wdirection        73 non-null     int64  \n",
      " 6   Wspeed            73 non-null     float64\n",
      " 7   Solarhours        73 non-null     float64\n",
      " 8   BeachType         73 non-null     int64  \n",
      " 9   BeachDirection    73 non-null     int64  \n",
      " 10  Wspeed_level      73 non-null     int64  \n",
      " 11  Wdirection_level  73 non-null     int64  \n",
      " 12  on_offshore       73 non-null     int64  \n",
      "dtypes: float64(6), int64(7)\n",
      "memory usage: 8.0 KB\n"
     ]
    }
   ],
   "source": [
    "# put aside test_set for final test \n",
    "test_set = wholedata[wholedata['DATE'].dt.year>=2017]\n",
    "test_set = test_set[test_set['DATE'].dt.year<2018]\n",
    "test_set = test_set.drop(columns=['Entero','DATE','BeachName'])\n",
    "test_set = test_set[ ['Entero_level'] + [ col for col in test_set.columns if col != 'Entero_level' ] ]\n",
    "test_set.info()"
   ]
  },
  {
   "cell_type": "code",
   "execution_count": 20,
   "id": "c962fe55",
   "metadata": {},
   "outputs": [
    {
     "name": "stdout",
     "output_type": "stream",
     "text": [
      "<class 'pandas.core.frame.DataFrame'>\n",
      "Int64Index: 1912 entries, 0 to 1997\n",
      "Data columns (total 13 columns):\n",
      " #   Column            Non-Null Count  Dtype  \n",
      "---  ------            --------------  -----  \n",
      " 0   Entero_level      1912 non-null   int64  \n",
      " 1   Rain24            1912 non-null   float64\n",
      " 2   Rain48            1912 non-null   float64\n",
      " 3   Rain72            1912 non-null   float64\n",
      " 4   RainWA            1912 non-null   float64\n",
      " 5   Wdirection        1912 non-null   int64  \n",
      " 6   Wspeed            1912 non-null   float64\n",
      " 7   Solarhours        1912 non-null   float64\n",
      " 8   BeachType         1912 non-null   int64  \n",
      " 9   BeachDirection    1912 non-null   int64  \n",
      " 10  Wspeed_level      1912 non-null   int64  \n",
      " 11  Wdirection_level  1912 non-null   int64  \n",
      " 12  on_offshore       1912 non-null   int64  \n",
      "dtypes: float64(6), int64(7)\n",
      "memory usage: 209.1 KB\n"
     ]
    }
   ],
   "source": [
    "# train/validation set excluding test_set\n",
    "data_frame = wholedata[wholedata['DATE'].dt.year<2017]\n",
    "data_frame = data_frame.sort_values(by=['DATE'])\n",
    "data_frame = data_frame.drop(columns=['Entero','DATE','BeachName'])\n",
    "data_frame = data_frame[ ['Entero_level'] + [ col for col in data_frame.columns if col != 'Entero_level' ] ]\n",
    "data_frame.info()"
   ]
  },
  {
   "cell_type": "code",
   "execution_count": 7,
   "id": "86524057",
   "metadata": {},
   "outputs": [],
   "source": [
    "#AdaBoost = AdaBoostClassifier(n_estimators=400, learning_rate=1,algorithm='SAMME')\n",
    "AdaBoost = AdaBoostClassifier(learning_rate=0.0001)"
   ]
  },
  {
   "cell_type": "code",
   "execution_count": 8,
   "id": "7a47cea3",
   "metadata": {},
   "outputs": [
    {
     "name": "stdout",
     "output_type": "stream",
     "text": [
      "BDT with ADASYN (n=10) balanced data ----\n",
      "input data - ['Rain24' 'Rain48' 'Rain72' 'RainWA' 'Wdirection' 'Wspeed' 'Solarhours'\n",
      " 'BeachType' 'BeachDirection' 'Wspeed_level' 'Wdirection_level'\n",
      " 'on_offshore']\n",
      "Overall accuracy :  0.6752918287937743\n",
      "Sensitivity :  0.7208333333333337\n",
      "Specificity :  0.6272\n"
     ]
    },
    {
     "data": {
      "image/png": "[encoded data removed]",
      "text/plain": [
       "<Figure size 432x288 with 1 Axes>"
      ]
     },
     "metadata": {
      "needs_background": "light"
     },
     "output_type": "display_data"
    }
   ],
   "source": [
    "### BDT with ADASYN balanced data\n",
    "print(\"BDT with ADASYN (n=10) balanced data ----\")\n",
    "print(\"input data -\", end =\" \")\n",
    "input_data = data_frame.drop(columns=['Entero_level'])\n",
    "entero_data = data_frame['Entero_level']\n",
    "c = input_data.columns\n",
    "print(input_data.columns.values)\n",
    "# Separate real above and real below data\n",
    "index_above = (data_frame['Entero_level']==1)\n",
    "index_below = (data_frame['Entero_level']==0)\n",
    "input_real_above_data = data_frame[index_above]\n",
    "input_real_below_data = data_frame[index_below]\n",
    "\n",
    "# Use real above data form testset above data\n",
    "testset_above_data = input_real_above_data.drop(columns=['Entero_level'])\n",
    "water_above_label = input_real_above_data['Entero_level']\n",
    "\n",
    "# Calculate ratio for train/test for real below data\n",
    "len_testset = len(input_real_above_data)\n",
    "ratio = round(len_testset/len(input_real_below_data),2)\n",
    "\n",
    "# ADASYN\n",
    "ada = ADASYN(sampling_strategy=1, n_neighbors=10)\n",
    "\n",
    "# For loop\n",
    "j=np.zeros(100)\n",
    "sen=np.zeros(100)\n",
    "spe=np.zeros(100)\n",
    "for i in range(100):\n",
    "    # Generate synthetic sampling data with ADASYN\n",
    "    data_fake, entero_fake = ada.fit_resample(input_data, entero_data)\n",
    "    x=pd.DataFrame(data_fake, columns=input_data.columns)\n",
    "    y=pd.DataFrame(entero_fake, columns=['Entero_level'])\n",
    "    x['Entero_level']=y['Entero_level'].values\n",
    "    data_fake_frame=x.query(\"Entero_level == 1\")\n",
    "    data_fake_frame=data_fake_frame.reset_index(drop=True)\n",
    "    data_fake_frame.describe()\n",
    "    \n",
    "    # Use synthetic data to form trainset above data\n",
    "    input_fake_data = data_fake_frame.iloc[:,0:-1]\n",
    "    water_fake_label = data_fake_frame.iloc[:,-1]\n",
    "    \n",
    "    # Split the real below data randomly - test set size matches real above data size\n",
    "    input_real_data = input_real_below_data.drop(columns=['Entero_level'])\n",
    "    entero_real_data = input_real_below_data.iloc[:,0]\n",
    "    trainset_below_data, testset_below_data, trainset_below_labels, testset_below_labels = train_test_split(input_real_data, entero_real_data, test_size=ratio, random_state=42)\n",
    "    \n",
    "    # Use fake above data plus real below data to form trainset\n",
    "    trainset_data = np.vstack((input_fake_data, trainset_below_data))\n",
    "    trainset_labels = np.hstack((water_fake_label, trainset_below_labels))\n",
    "    \n",
    "    # Use real above data plus same amount of real below data to form testset\n",
    "    testset_data = np.vstack((testset_above_data, testset_below_data))\n",
    "    testset_labels = np.hstack((water_above_label, testset_below_labels))\n",
    "    \n",
    "    # Train data normalization\n",
    "    sc = preprocessing.Normalizer().fit(trainset_data)\n",
    "    trainset_data = sc.transform(trainset_data)\n",
    "    testset_data = sc.transform(testset_data)\n",
    "    \n",
    "    # Run BDT\n",
    "    bdt=AdaBoost.fit(trainset_data, trainset_labels)\n",
    "    cm1 = confusion_matrix(testset_labels,bdt.predict(testset_data))\n",
    "    total1=sum(sum(cm1))\n",
    "    #####from confusion matrix calculate accuracy\n",
    "    j[i] = (cm1[0,0]+cm1[1,1])/total1\n",
    "    sen[i] = cm1[1,1]/(cm1[1,0]+cm1[1,1])\n",
    "    spe[i] = cm1[0,0]/(cm1[0,0]+cm1[0,1])\n",
    "    i=i+1\n",
    "\n",
    "#End of loop\n",
    "\n",
    "# Show the KNN result\n",
    "print ('Overall accuracy : ', j.mean())\n",
    "print('Sensitivity : ', sen.mean())\n",
    "print('Specificity : ', spe.mean())\n",
    "plt.boxplot([j, sen, spe])\n",
    "plt.xticks([1, 2, 3], [\"Accuracy\",\"Sensitivity\", \"Specificity\"])\n",
    "plt.show()\n"
   ]
  },
  {
   "cell_type": "code",
   "execution_count": 14,
   "id": "828796e7",
   "metadata": {},
   "outputs": [
    {
     "data": {
      "text/plain": [
       "<generator object BaseWeightBoosting.staged_score at 0x000001FD7E5C4F20>"
      ]
     },
     "execution_count": 14,
     "metadata": {},
     "output_type": "execute_result"
    }
   ],
   "source": [
    "bdt.staged_score(testset_labels,bdt.predict(testset_data))"
   ]
  },
  {
   "cell_type": "code",
   "execution_count": 16,
   "id": "c55e38b2",
   "metadata": {},
   "outputs": [
    {
     "name": "stdout",
     "output_type": "stream",
     "text": [
      "BDT model with ADASYN (n=10) balanced data----\n",
      "Drop: Rain24\n",
      "input data - ['Rain48' 'Rain72' 'RainWA' 'Wdirection' 'Wspeed' 'Solarhours' 'BeachType'\n",
      " 'BeachDirection' 'Wspeed_level' 'Wdirection_level' 'on_offshore']\n",
      "Overall accuracy :  0.6759533073929964\n",
      "Sensitivity :  0.7153787878787878\n",
      "Specificity :  0.6343199999999999\n"
     ]
    },
    {
     "data": {
      "image/png": "[encoded data removed]",
      "text/plain": [
       "<Figure size 432x288 with 1 Axes>"
      ]
     },
     "metadata": {
      "needs_background": "light"
     },
     "output_type": "display_data"
    },
    {
     "name": "stdout",
     "output_type": "stream",
     "text": [
      "Drop: Rain48\n",
      "input data - ['Rain24' 'Rain72' 'RainWA' 'Wdirection' 'Wspeed' 'Solarhours' 'BeachType'\n",
      " 'BeachDirection' 'Wspeed_level' 'Wdirection_level' 'on_offshore']\n",
      "Overall accuracy :  0.6793774319066148\n",
      "Sensitivity :  0.7156818181818184\n",
      "Specificity :  0.6410399999999999\n"
     ]
    },
    {
     "data": {
      "image/png": "[encoded data removed]",
      "text/plain": [
       "<Figure size 432x288 with 1 Axes>"
      ]
     },
     "metadata": {
      "needs_background": "light"
     },
     "output_type": "display_data"
    },
    {
     "name": "stdout",
     "output_type": "stream",
     "text": [
      "Drop: Rain72\n",
      "input data - ['Rain24' 'Rain48' 'RainWA' 'Wdirection' 'Wspeed' 'Solarhours' 'BeachType'\n",
      " 'BeachDirection' 'Wspeed_level' 'Wdirection_level' 'on_offshore']\n",
      "Overall accuracy :  0.6761478599221792\n",
      "Sensitivity :  0.7090909090909091\n",
      "Specificity :  0.6413599999999999\n"
     ]
    },
    {
     "data": {
      "image/png": "[encoded data removed]",
      "text/plain": [
       "<Figure size 432x288 with 1 Axes>"
      ]
     },
     "metadata": {
      "needs_background": "light"
     },
     "output_type": "display_data"
    },
    {
     "name": "stdout",
     "output_type": "stream",
     "text": [
      "Drop: RainWA\n",
      "input data - ['Rain24' 'Rain48' 'Rain72' 'Wdirection' 'Wspeed' 'Solarhours' 'BeachType'\n",
      " 'BeachDirection' 'Wspeed_level' 'Wdirection_level' 'on_offshore']\n",
      "Overall accuracy :  0.6503112840466926\n",
      "Sensitivity :  0.6540909090909094\n",
      "Specificity :  0.6463199999999998\n"
     ]
    },
    {
     "data": {
      "image/png": "[encoded data removed]",
      "text/plain": [
       "<Figure size 432x288 with 1 Axes>"
      ]
     },
     "metadata": {
      "needs_background": "light"
     },
     "output_type": "display_data"
    },
    {
     "name": "stdout",
     "output_type": "stream",
     "text": [
      "Drop: Wdirection\n",
      "input data - ['Rain24' 'Rain48' 'Rain72' 'RainWA' 'Wspeed' 'Solarhours' 'BeachType'\n",
      " 'BeachDirection' 'Wspeed_level' 'Wdirection_level' 'on_offshore']\n",
      "Overall accuracy :  0.5953307392996109\n",
      "Sensitivity :  0.5378787878787881\n",
      "Specificity :  0.6560000000000001\n"
     ]
    },
    {
     "data": {
      "image/png": "[encoded data removed]",
      "text/plain": [
       "<Figure size 432x288 with 1 Axes>"
      ]
     },
     "metadata": {
      "needs_background": "light"
     },
     "output_type": "display_data"
    },
    {
     "name": "stdout",
     "output_type": "stream",
     "text": [
      "Drop: Wspeed\n",
      "input data - ['Rain24' 'Rain48' 'Rain72' 'RainWA' 'Wdirection' 'Solarhours' 'BeachType'\n",
      " 'BeachDirection' 'Wspeed_level' 'Wdirection_level' 'on_offshore']\n",
      "Overall accuracy :  0.674980544747082\n",
      "Sensitivity :  0.7192424242424247\n",
      "Specificity :  0.62824\n"
     ]
    },
    {
     "data": {
      "image/png": "[encoded data removed]",
      "text/plain": [
       "<Figure size 432x288 with 1 Axes>"
      ]
     },
     "metadata": {
      "needs_background": "light"
     },
     "output_type": "display_data"
    },
    {
     "name": "stdout",
     "output_type": "stream",
     "text": [
      "Drop: Solarhours\n",
      "input data - ['Rain24' 'Rain48' 'Rain72' 'RainWA' 'Wdirection' 'Wspeed' 'BeachType'\n",
      " 'BeachDirection' 'Wspeed_level' 'Wdirection_level' 'on_offshore']\n",
      "Overall accuracy :  0.6735408560311287\n",
      "Sensitivity :  0.7139393939393942\n",
      "Specificity :  0.6308799999999999\n"
     ]
    },
    {
     "data": {
      "image/png": "[encoded data removed]",
      "text/plain": [
       "<Figure size 432x288 with 1 Axes>"
      ]
     },
     "metadata": {
      "needs_background": "light"
     },
     "output_type": "display_data"
    },
    {
     "name": "stdout",
     "output_type": "stream",
     "text": [
      "Drop: BeachType\n",
      "input data - ['Rain24' 'Rain48' 'Rain72' 'RainWA' 'Wdirection' 'Wspeed' 'Solarhours'\n",
      " 'BeachDirection' 'Wspeed_level' 'Wdirection_level' 'on_offshore']\n",
      "Overall accuracy :  0.6743968871595334\n",
      "Sensitivity :  0.7176515151515156\n",
      "Specificity :  0.62872\n"
     ]
    },
    {
     "data": {
      "image/png": "[encoded data removed]",
      "text/plain": [
       "<Figure size 432x288 with 1 Axes>"
      ]
     },
     "metadata": {
      "needs_background": "light"
     },
     "output_type": "display_data"
    },
    {
     "name": "stdout",
     "output_type": "stream",
     "text": [
      "Drop: BeachDirection\n",
      "input data - ['Rain24' 'Rain48' 'Rain72' 'RainWA' 'Wdirection' 'Wspeed' 'Solarhours'\n",
      " 'BeachType' 'Wspeed_level' 'Wdirection_level' 'on_offshore']\n",
      "Overall accuracy :  0.59136186770428\n",
      "Sensitivity :  0.6175757575757577\n",
      "Specificity :  0.5636799999999998\n"
     ]
    },
    {
     "data": {
      "image/png": "[encoded data removed]",
      "text/plain": [
       "<Figure size 432x288 with 1 Axes>"
      ]
     },
     "metadata": {
      "needs_background": "light"
     },
     "output_type": "display_data"
    },
    {
     "name": "stdout",
     "output_type": "stream",
     "text": [
      "Drop: Wspeed_level\n",
      "input data - ['Rain24' 'Rain48' 'Rain72' 'RainWA' 'Wdirection' 'Wspeed' 'Solarhours'\n",
      " 'BeachType' 'BeachDirection' 'Wdirection_level' 'on_offshore']\n",
      "Overall accuracy :  0.673696498054475\n",
      "Sensitivity :  0.7174242424242427\n",
      "Specificity :  0.62752\n"
     ]
    },
    {
     "data": {
      "image/png": "[encoded data removed]",
      "text/plain": [
       "<Figure size 432x288 with 1 Axes>"
      ]
     },
     "metadata": {
      "needs_background": "light"
     },
     "output_type": "display_data"
    },
    {
     "name": "stdout",
     "output_type": "stream",
     "text": [
      "Drop: Wdirection_level\n",
      "input data - ['Rain24' 'Rain48' 'Rain72' 'RainWA' 'Wdirection' 'Wspeed' 'Solarhours'\n",
      " 'BeachType' 'BeachDirection' 'Wspeed_level' 'on_offshore']\n",
      "Overall accuracy :  0.6746303501945526\n",
      "Sensitivity :  0.7181818181818184\n",
      "Specificity :  0.6286400000000001\n"
     ]
    },
    {
     "data": {
      "image/png": "[encoded data removed]",
      "text/plain": [
       "<Figure size 432x288 with 1 Axes>"
      ]
     },
     "metadata": {
      "needs_background": "light"
     },
     "output_type": "display_data"
    },
    {
     "name": "stdout",
     "output_type": "stream",
     "text": [
      "Drop: on_offshore\n",
      "input data - ['Rain24' 'Rain48' 'Rain72' 'RainWA' 'Wdirection' 'Wspeed' 'Solarhours'\n",
      " 'BeachType' 'BeachDirection' 'Wspeed_level' 'Wdirection_level']\n",
      "Overall accuracy :  0.6742801556420236\n",
      "Sensitivity :  0.7186363636363641\n",
      "Specificity :  0.6274399999999999\n"
     ]
    },
    {
     "data": {
      "image/png": "[encoded data removed]",
      "text/plain": [
       "<Figure size 432x288 with 1 Axes>"
      ]
     },
     "metadata": {
      "needs_background": "light"
     },
     "output_type": "display_data"
    },
    {
     "name": "stdout",
     "output_type": "stream",
     "text": [
      "Best sensitivity:  0.7199242424242428 after drop  []\n",
      "Best accuracy:  0.6793774319066148 after drop  ['Rain48']\n"
     ]
    }
   ],
   "source": [
    "### BDT with ADASYN balanced data - drop one parameter each time to compare\n",
    "print(\"BDT model with ADASYN (n=10) balanced data----\")\n",
    "best_sen_drop=[]\n",
    "best_acc_drop=[]\n",
    "best_acc=j.mean()\n",
    "best_sen=sen.mean()\n",
    "for col in c:\n",
    "    print(\"Drop:\", col)\n",
    "    input_data = data_frame.drop(columns=[str(col),'Entero_level'])\n",
    "    entero_data = data_frame['Entero_level']\n",
    "    print(\"input data -\", end =\" \")\n",
    "    print(input_data.columns.values)\n",
    "    # Separate real above and real below data\n",
    "    index_above = (data_frame['Entero_level']==1)\n",
    "    index_below = (data_frame['Entero_level']==0)\n",
    "    input_real_above_data = data_frame[index_above]\n",
    "    input_real_below_data = data_frame[index_below]\n",
    "\n",
    "    # Use real above data form testset above data\n",
    "    testset_above_data = input_real_above_data.drop(columns=['Entero_level',str(col)])\n",
    "    water_above_label = input_real_above_data.iloc[:,0]\n",
    "    \n",
    "    # ADASYN\n",
    "    ada = ADASYN(sampling_strategy=1, n_neighbors=10)\n",
    "\n",
    "    # For loop\n",
    "    j=np.zeros(100)\n",
    "    sen=np.zeros(100)\n",
    "    spe=np.zeros(100)\n",
    "    for i in range(100):\n",
    "        # Generate synthetic sampling data with ADASYN\n",
    "        data_fake, entero_fake = ada.fit_resample(input_data, entero_data)\n",
    "        x=pd.DataFrame(data_fake, columns=input_data.columns)\n",
    "        y=pd.DataFrame(entero_fake, columns=['Entero_level'])\n",
    "        x['Entero_level']=y['Entero_level'].values\n",
    "        data_fake_frame=x.query(\"Entero_level == 1\")\n",
    "        data_fake_frame=data_fake_frame.reset_index(drop=True)\n",
    "        #data_fake_frame.describe()\n",
    "    \n",
    "        # Use synthetic data to form trainset above data\n",
    "        input_fake_data = data_fake_frame.iloc[:,0:-1]\n",
    "        water_fake_label = data_fake_frame.iloc[:,-1]\n",
    "    \n",
    "        # Split the real below data randomly - test set size matches real above data size\n",
    "        input_real_data = input_real_below_data.drop(columns=['Entero_level',str(col)])\n",
    "        entero_real_data = input_real_below_data.iloc[:,0]\n",
    "        trainset_below_data, testset_below_data, trainset_below_labels, testset_below_labels = train_test_split(input_real_data, entero_real_data, test_size=ratio, random_state=42)\n",
    "    \n",
    "        # Use fake above data plus real below data to form trainset\n",
    "        trainset_data = np.vstack((input_fake_data, trainset_below_data))\n",
    "        trainset_labels = np.hstack((water_fake_label, trainset_below_labels))\n",
    "    \n",
    "        # Use real above data plus same amount of real below data to form testset\n",
    "        testset_data = np.vstack((testset_above_data, testset_below_data))\n",
    "        testset_labels = np.hstack((water_above_label, testset_below_labels))\n",
    "    \n",
    "        # Train data normalization\n",
    "        sc = preprocessing.Normalizer().fit(trainset_data)\n",
    "        trainset_data = sc.transform(trainset_data)\n",
    "        testset_data = sc.transform(testset_data)\n",
    "    \n",
    "        # Run BDT\n",
    "        bdt=AdaBoost.fit(trainset_data, trainset_labels)\n",
    "        cm1 = confusion_matrix(testset_labels,bdt.predict(testset_data))\n",
    "        \n",
    "        total1=sum(sum(cm1))\n",
    "        #####from confusion matrix calculate accuracy\n",
    "        j[i] = (cm1[0,0]+cm1[1,1])/total1\n",
    "        sen[i] = cm1[1,1]/(cm1[1,0]+cm1[1,1])\n",
    "        spe[i] = cm1[0,0]/(cm1[0,0]+cm1[0,1])\n",
    "        i=i+1\n",
    "\n",
    "    #End of loop\n",
    "\n",
    "    # Show the KNN result\n",
    "    print ('Overall accuracy : ', j.mean())\n",
    "    print('Sensitivity : ', sen.mean())\n",
    "    print('Specificity : ', spe.mean())\n",
    "    if sen.mean()>best_sen:\n",
    "        best_sen=sen.mean()\n",
    "        best_sen_drop=[col]\n",
    "    if j.mean()>best_acc:\n",
    "        best_acc=j.mean()\n",
    "        best_acc_drop=[col]\n",
    "    plt.boxplot([j, sen, spe])\n",
    "    plt.xticks([1, 2, 3], [\"Accuracy\",\"Sensitivity\", \"Specificity\"])\n",
    "    plt.show()\n",
    "#End of loop\n",
    "\n",
    "print('Best sensitivity: ',best_sen, 'after drop ', best_sen_drop)\n",
    "print('Best accuracy: ', best_acc, 'after drop ', best_acc_drop)"
   ]
  },
  {
   "cell_type": "code",
   "execution_count": null,
   "id": "46db1b28",
   "metadata": {},
   "outputs": [],
   "source": [
    "### BDT with ADASYN balanced data - drop two parameters each time to compare\n",
    "print(\"BDT model with ADASYN (n=10) balanced data----\")\n",
    "for col1 in c:\n",
    "    for col2 in c:\n",
    "        if col1!=col2:\n",
    "            print(\"Drop:\", col1, col2)\n",
    "            input_data = data_frame.drop(columns=[str(col1),str(col2),'Entero_level'])\n",
    "            entero_data = data_frame['Entero_level']\n",
    "            print(\"input data -\", end =\" \")\n",
    "            print(input_data.columns.values)\n",
    "            # Separate real above and real below data\n",
    "            index_above = (data_frame['Entero_level']==1)\n",
    "            index_below = (data_frame['Entero_level']==0)\n",
    "            input_real_above_data = data_frame[index_above]\n",
    "            input_real_below_data = data_frame[index_below]\n",
    "\n",
    "            # Use real above data form testset above data\n",
    "            testset_above_data = input_real_above_data.drop(columns=['Entero_level',str(col1),str(col2)])\n",
    "            water_above_label = input_real_above_data.iloc[:,0]\n",
    "    \n",
    "           # ADASYN\n",
    "            ada = ADASYN(sampling_strategy=1, n_neighbors=10)\n",
    "\n",
    "            # For loop\n",
    "            j=np.zeros(100)\n",
    "            sen=np.zeros(100)\n",
    "            spe=np.zeros(100)\n",
    "            for i in range(100):\n",
    "                # Generate synthetic sampling data with ADASYN\n",
    "                data_fake, entero_fake = ada.fit_resample(input_data, entero_data)\n",
    "                x=pd.DataFrame(data_fake, columns=input_data.columns)\n",
    "                y=pd.DataFrame(entero_fake, columns=['Entero_level'])\n",
    "                x['Entero_level']=y['Entero_level'].values\n",
    "                data_fake_frame=x.query(\"Entero_level == 1\")\n",
    "                data_fake_frame=data_fake_frame.reset_index(drop=True)\n",
    "                #data_fake_frame.describe()\n",
    "    \n",
    "                # Use synthetic data to form trainset above data\n",
    "                input_fake_data = data_fake_frame.iloc[:,0:-1]\n",
    "                water_fake_label = data_fake_frame.iloc[:,-1]\n",
    "    \n",
    "                # Split the real below data randomly - test set size matches real above data size\n",
    "                input_real_data = input_real_below_data.drop(columns=['Entero_level',str(col1),str(col2)])\n",
    "                entero_real_data = input_real_below_data.iloc[:,0]\n",
    "                trainset_below_data, testset_below_data, trainset_below_labels, testset_below_labels = train_test_split(input_real_data, entero_real_data, test_size=ratio, random_state=42)\n",
    "    \n",
    "                # Use fake above data plus real below data to form trainset\n",
    "                trainset_data = np.vstack((input_fake_data, trainset_below_data))\n",
    "                trainset_labels = np.hstack((water_fake_label, trainset_below_labels))\n",
    "    \n",
    "                # Use real above data plus same amount of real below data to form testset\n",
    "                testset_data = np.vstack((testset_above_data, testset_below_data))\n",
    "                testset_labels = np.hstack((water_above_label, testset_below_labels))\n",
    "    \n",
    "                # Train data normalization\n",
    "                sc = preprocessing.Normalizer().fit(trainset_data)\n",
    "                trainset_data = sc.transform(trainset_data)\n",
    "                testset_data = sc.transform(testset_data)\n",
    "    \n",
    "                # Run BDT\n",
    "                bdt=AdaBoost.fit(trainset_data, trainset_labels)\n",
    "                cm1 = confusion_matrix(testset_labels,bdt.predict(testset_data))\n",
    "                total1=sum(sum(cm1))\n",
    "                #####from confusion matrix calculate accuracy\n",
    "                j[i] = (cm1[0,0]+cm1[1,1])/total1\n",
    "                sen[i] = cm1[1,1]/(cm1[1,0]+cm1[1,1])\n",
    "                spe[i] = cm1[0,0]/(cm1[0,0]+cm1[0,1])\n",
    "                i=i+1\n",
    "    \n",
    "            #End of loop\n",
    "\n",
    "        # Show the KNN result\n",
    "        print ('Overall accuracy : ', j.mean())\n",
    "        print('Sensitivity : ', sen.mean())\n",
    "        print('Specificity : ', spe.mean())\n",
    "        if sen.mean()>best_sen:\n",
    "            best_sen=sen.mean()\n",
    "            best_sen_drop=[col1,col2]\n",
    "        if j.mean()>best_acc:\n",
    "            best_acc=j.mean()\n",
    "            best_acc_drop=[col1,col2]\n",
    "        plt.boxplot([j, sen, spe])\n",
    "        plt.xticks([1, 2, 3], [\"Accuracy\",\"Sensitivity\", \"Specificity\"])\n",
    "        plt.show()\n",
    "    #End of loop\n",
    "\n",
    "print('Best sensitivity: ',best_sen, 'after drop ', best_sen_drop)\n",
    "print('Best accuracy: ', best_acc, 'after drop ', best_acc_drop)"
   ]
  },
  {
   "cell_type": "code",
   "execution_count": null,
   "id": "f3eccb52",
   "metadata": {},
   "outputs": [],
   "source": [
    "# Final model test on separate test-set\n",
    "input_data = data_frame.drop(columns=['Entero_level'])\n",
    "input_data = input_data.drop(columns=best_acc_drop)\n",
    "entero_data = data_frame['Entero_level']\n",
    "c = input_data.columns\n",
    "print(input_data.columns.values)\n",
    "\n",
    "# Separate real above and real below data\n",
    "index_above = (data_frame['Entero_level']==1)\n",
    "index_below = (data_frame['Entero_level']==0)\n",
    "input_real_above_data = data_frame[index_above]\n",
    "input_real_below_data = data_frame[index_below]\n",
    "\n",
    "# ADASYN\n",
    "ada = ADASYN(sampling_strategy=1, n_neighbors=10)\n",
    "\n",
    "# Generate synthetic sampling data with ADASYN\n",
    "data_fake, entero_fake = ada.fit_resample(input_data, entero_data)\n",
    "x=pd.DataFrame(data_fake, columns=c)\n",
    "y=pd.DataFrame(entero_fake, columns=['Entero_level'])\n",
    "x['Entero_level']=y['Entero_level'].values\n",
    "data_fake_frame=x.query(\"Entero_level == 1\")\n",
    "data_fake_frame=data_fake_frame.reset_index(drop=True)\n",
    "#data_fake_frame.describe()\n",
    "    \n",
    "# Use synthetic data to form trainset above data\n",
    "input_fake_data = data_fake_frame.iloc[:,0:-1]\n",
    "water_fake_label = data_fake_frame.iloc[:,-1]\n",
    "    \n",
    "# Use fake above data plus real below data to form trainset\n",
    "trainset_below_data = input_real_below_data.drop(columns=['Entero_level'])\n",
    "trainset_below_data = trainset_below_data.drop(columns=best_acc_drop)\n",
    "trainset_below_labels = input_real_below_data.iloc[:,0]\n",
    "trainset_data = np.vstack((input_fake_data, trainset_below_data))\n",
    "trainset_labels = np.hstack((water_fake_label, trainset_below_labels))\n",
    "\n",
    "# Test set\n",
    "test_set_data = test_set.drop(columns=['Entero_level'])\n",
    "test_set_data = test_set_data.drop(columns=best_acc_drop)\n",
    "test_set_labels = test_set['Entero_level']\n",
    "\n",
    "# Train/test data normalization\n",
    "sc = preprocessing.Normalizer().fit(trainset_data)\n",
    "trainset_data = sc.transform(trainset_data)\n",
    "test_set_data = sc.transform(test_set_data)\n",
    "        \n",
    "# Run BDT\n",
    "bdt=AdaBoost.fit(trainset_data, trainset_labels)\n",
    "\n",
    "cm1 = confusion_matrix(test_set_labels,bdt.predict(test_set_data))\n",
    "print(\"Confusion matrix\")\n",
    "print(cm1)\n",
    "\n",
    "total1=sum(sum(cm1))\n",
    "#####from confusion matrix calculate accuracy\n",
    "accuracy=(cm1[0,0]+cm1[1,1])/total1\n",
    "sen = cm1[1,1]/(cm1[1,0]+cm1[1,1])\n",
    "spe = cm1[0,0]/(cm1[0,0]+cm1[0,1])\n",
    "\n",
    "print ('Accuracy : ', accuracy)\n",
    "print('Sensitivity : ', sen)\n",
    "print('Specificity : ', spe)"
   ]
  },
  {
   "cell_type": "code",
   "execution_count": null,
   "id": "1bc7b26b",
   "metadata": {},
   "outputs": [],
   "source": []
  }
 ],
 "metadata": {
  "kernelspec": {
   "display_name": "Python 3",
   "language": "python",
   "name": "python3"
  },
  "language_info": {
   "codemirror_mode": {
    "name": "ipython",
    "version": 3
   },
   "file_extension": ".py",
   "mimetype": "text/x-python",
   "name": "python",
   "nbconvert_exporter": "python",
   "pygments_lexer": "ipython3",
   "version": "3.8.8"
  }
 },
 "nbformat": 4,
 "nbformat_minor": 5
}
